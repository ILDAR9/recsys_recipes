{
 "cells": [
  {
   "cell_type": "code",
   "execution_count": null,
   "id": "015c5353",
   "metadata": {},
   "outputs": [],
   "source": [
    "# расскоментируйте код ниже, чтобы установить все зависимости\n",
    "# !pip install tensorboard==2.13.0 \\\n",
    "#     tensorflow==2.13.0 \\\n",
    "#     pyarrow==12.0.1 \\\n",
    "#     polars==0.18.6 \\\n",
    "#     tqdm==4.65.0 \\\n",
    "#     scipy==1.11.1 \\\n",
    "#     scikit-learn==1.3.0 \\\n",
    "#     numpy==1.24.3 \\\n",
    "#     Pillow==10.0.0"
   ]
  },
  {
   "cell_type": "code",
   "execution_count": null,
   "id": "cbdbf3f9",
   "metadata": {
    "id": "cbdbf3f9",
    "outputId": "2f768461-7b86-43c0-8f6a-48bd8b4936f2",
    "scrolled": true
   },
   "outputs": [],
   "source": [
    "import os\n",
    "import numpy as np\n",
    "import polars as pl\n",
    "from tqdm import tqdm\n",
    "\n",
    "from typing import List\n",
    "\n",
    "import numpy as np\n",
    "import scipy.sparse as sp\n",
    "from sklearn.preprocessing import normalize\n",
    "\n",
    "from PIL import Image\n",
    "import requests\n",
    "import matplotlib.pyplot as plt\n",
    "\n",
    "import tensorflow as tf\n",
    "from tensorboard.plugins import projector\n",
    "import pandas as pd\n",
    "\n",
    "movies_df = pl.from_pandas(pd.read_parquet('imdb_movies.parquet'))\n",
    "movies_df"
   ]
  },
  {
   "cell_type": "markdown",
   "id": "ee3a28da",
   "metadata": {
    "id": "ee3a28da"
   },
   "source": [
    "## Описание данных\n",
    "\n",
    "Для решения задачи вам доступны следующие данные из файла `imdb_movies.parquet`\n",
    "\n",
    "| Поле            | Тип                  | Описание                                 |\n",
    "|---              |---                   |---                                       |\n",
    "| title_id        | str                  | IMDb идентификатор                       |\n",
    "| poster_url      | str                  | Ссылка на постер                         |\n",
    "| type            | str                  | Тип тайтла: Movie или TVSeries           |\n",
    "| name            | str                  | Название тайтла на русском               |\n",
    "| original_name   | str                  | Оригинальное название тайтла             |\n",
    "| description     | str                  | Описание тайтла с IMDb                   |\n",
    "| genre           | list[str]            | Список жанров                            |\n",
    "| date            | str                  | Дата выпуска тайтла                      |\n",
    "| rating_count    | int                  | Количество отзывов для тайтла            |\n",
    "| rating_value    | float                | Средний рейтинг тайтла                   |\n",
    "| keywords        | list[str]            | Ключевые слова для тайтла (сгенерированы пользователями IMDb) |\n",
    "| featured_review | str                  | Избранная рецензия для тайтла            |\n",
    "| stars           | list[str]            | Список ключевых актеров                  |\n",
    "| directors       | list[str]            | Список режиссеров                        |\n",
    "| creators        | list[str]            | Список создателей                        |"
   ]
  },
  {
   "cell_type": "markdown",
   "id": "f53db592",
   "metadata": {
    "id": "f53db592"
   },
   "source": [
    "## Оценивание\n",
    "\n",
    "В качестве метрики качества используется hitrate@10, которую можно интерпретировать как **вероятность, что хотя бы один из топ-10 рекомендуемых объектов является релевантным**. Чтобы получить максимальный балл, достаточно добиться hitrate@10 = 0.3\n",
    "\n",
    "В качестве `y_relevant` используются тайтлы, которые встречаются вместе в оценках пользователей"
   ]
  },
  {
   "cell_type": "code",
   "execution_count": null,
   "id": "1b4dee00",
   "metadata": {
    "id": "1b4dee00"
   },
   "outputs": [],
   "source": [
    "TOP_K = 10\n",
    "SUBMISSION_PATH = 'submission.parquet'\n",
    "RELEVANT_TITLES_PATH = 'relevant_titles_subsample.parquet'\n",
    "\n",
    "\n",
    "def hitrate(y_relevant: List[str], y_preds: List[str], k: int = TOP_K) -> int:\n",
    "    return int(len(set(y_relevant).intersection(y_preds[:k])) > 0)\n",
    "\n",
    "# код для подсчета метрики качества\n",
    "def print_score():\n",
    "    hitrate_list = []\n",
    "    user_preds = {title_id: recs for title_id, recs in pl.read_parquet(SUBMISSION_PATH).rows()}\n",
    "    for title_id, relevant_items in pl.read_parquet(RELEVANT_TITLES_PATH).rows():\n",
    "        recommended_titles = user_preds.get(title_id, [])[:TOP_K]\n",
    "        hitrate_list.append(hitrate(relevant_items, recommended_titles))\n",
    "\n",
    "    mean_hitrate = float(np.mean(hitrate_list))\n",
    "    print(f'HITRATE@10 = {mean_hitrate}')"
   ]
  },
  {
   "cell_type": "markdown",
   "id": "ed6c4440",
   "metadata": {
    "id": "ed6c4440"
   },
   "source": [
    "## Построим случайные рекомендации"
   ]
  },
  {
   "cell_type": "code",
   "execution_count": null,
   "id": "6d7eba3d",
   "metadata": {
    "id": "6d7eba3d",
    "outputId": "85919929-4970-464d-a102-163d8c1301e8"
   },
   "outputs": [],
   "source": [
    "def get_recommendations(seed_title_id: str, k: int = TOP_K) -> List[str]:\n",
    "    # берем с запасом, чтобы не рекомендовать тайтл для самого себя\n",
    "    random_movies = np.random.choice(movies_df['title_id'].unique().to_list(), TOP_K + 1)\n",
    "    return [title_id for title_id in random_movies if title_id != seed_title_id][:k]\n",
    "\n",
    "submission = []\n",
    "for item_ind in tqdm(range(len(movies_df))):\n",
    "    title_id = movies_df['title_id'][item_ind]\n",
    "    recommended_titles = get_recommendations(title_id, TOP_K)\n",
    "    submission.append((title_id, recommended_titles))\n",
    "pl.DataFrame(submission, schema=('title_id', 'recs')).write_parquet('submission.parquet')\n",
    "\n",
    "print_score()"
   ]
  },
  {
   "cell_type": "markdown",
   "id": "5a6334fc",
   "metadata": {
    "id": "5a6334fc"
   },
   "source": [
    "## Построим рекомендации самых популярных"
   ]
  },
  {
   "cell_type": "code",
   "execution_count": null,
   "id": "2d1b2ff7",
   "metadata": {
    "id": "2d1b2ff7",
    "outputId": "a5e73766-faac-4777-e54b-1469ceb78502"
   },
   "outputs": [],
   "source": [
    "# берем с запасом, чтобы не рекомендовать тайтл для самого себя\n",
    "top_movies = movies_df.sort('rating_value', descending=True)['title_id'][:(TOP_K + 1)].to_list()\n",
    "\n",
    "def get_recommendations(seed_title_id: str, k: int = TOP_K) -> List[str]:\n",
    "    return [title_id for title_id in top_movies if title_id != seed_title_id][:k]\n",
    "\n",
    "submission = []\n",
    "for item_ind in tqdm(range(len(movies_df))):\n",
    "    title_id = movies_df['title_id'][item_ind]\n",
    "    recommended_titles = get_recommendations(title_id, TOP_K)\n",
    "    submission.append((title_id, recommended_titles))\n",
    "pl.DataFrame(submission, schema=('title_id', 'recs')).write_parquet('submission.parquet')\n",
    "\n",
    "print_score()"
   ]
  },
  {
   "cell_type": "markdown",
   "id": "01720631",
   "metadata": {
    "id": "01720631"
   },
   "source": [
    "## Формат разреженных матриц"
   ]
  },
  {
   "cell_type": "code",
   "execution_count": null,
   "id": "a67f9ad3",
   "metadata": {
    "id": "a67f9ad3",
    "outputId": "3183342b-3734-4a67-f857-9a569048099d"
   },
   "outputs": [],
   "source": [
    "row = np.array([0, 0, 1, 2, 2, 2])\n",
    "col = np.array([0, 2, 2, 0, 1, 2])\n",
    "data = np.array([1, 2, 3, 4, 5, 6])\n",
    "sp.csr_matrix((data, (row, col)), shape=(3, 3)).toarray()"
   ]
  },
  {
   "cell_type": "markdown",
   "id": "4be4cb17",
   "metadata": {
    "id": "4be4cb17"
   },
   "source": [
    "## Построим рекомендации на основе пересечения ключевых слов"
   ]
  },
  {
   "cell_type": "code",
   "execution_count": null,
   "id": "b813da48",
   "metadata": {
    "id": "b813da48",
    "outputId": "aca45ebc-b201-4546-fd93-d6553a129dc3",
    "scrolled": true
   },
   "outputs": [],
   "source": [
    "movies_df['keywords'].explode().unique()"
   ]
  },
  {
   "cell_type": "code",
   "execution_count": null,
   "id": "6a9b32c7",
   "metadata": {
    "id": "6a9b32c7",
    "outputId": "e8e8128d-2aaa-45a6-d792-12d36eddc137"
   },
   "outputs": [],
   "source": [
    "mapping = {\n",
    "    k: v\n",
    "    for v, k in enumerate(movies_df['keywords'].explode().unique().to_list())\n",
    "}\n",
    "print(f'{len(mapping)}')"
   ]
  },
  {
   "cell_type": "code",
   "execution_count": null,
   "id": "780d5b82",
   "metadata": {
    "id": "780d5b82"
   },
   "outputs": [],
   "source": [
    "# соберем строчки для разреженной матрицы\n",
    "rows = []\n",
    "cols = []\n",
    "values = []\n",
    "for row_ind, keywords in enumerate(movies_df['keywords']):\n",
    "    col_inds = [mapping[x] for x in keywords]\n",
    "    rows.extend([row_ind] * len(col_inds))\n",
    "    values.extend([1] * len(col_inds))\n",
    "    cols.extend(col_inds)"
   ]
  },
  {
   "cell_type": "code",
   "execution_count": null,
   "id": "a2faaa78",
   "metadata": {
    "id": "a2faaa78",
    "outputId": "eefa0c9f-cf52-454f-99b4-61bfe5fdb54e"
   },
   "outputs": [],
   "source": [
    "sparse_data = sp.csr_matrix((values, (rows, cols)))\n",
    "sparse_data = normalize(sparse_data, norm='l2', axis=1)\n",
    "display(sparse_data)\n",
    "\n",
    "similarities = (sparse_data @ sparse_data.T).A\n",
    "# уберем 1 по диагонали, чтобы не рекомендовать тайтл для самого себя\n",
    "similarities -= np.eye(len(similarities), dtype=similarities.dtype)\n",
    "display(similarities.shape)"
   ]
  },
  {
   "cell_type": "code",
   "execution_count": null,
   "id": "ef2f108c",
   "metadata": {
    "id": "ef2f108c",
    "outputId": "82e27f82-7127-4019-d868-3f48a457c54e",
    "scrolled": true
   },
   "outputs": [],
   "source": [
    "def get_recommendations(title_ind: int, k: int = 10):\n",
    "    nearest_inds = np.argsort(similarities[title_ind])[::-1][:k]\n",
    "    return movies_df[nearest_inds]['title_id'].to_list()\n",
    "\n",
    "TOP_K = 10\n",
    "\n",
    "submission = []\n",
    "for title_ind in tqdm(range(len(movies_df))):\n",
    "    title_id = movies_df['title_id'][title_ind]\n",
    "    recommended_titles = get_recommendations(title_ind, TOP_K)\n",
    "    submission.append((title_id, recommended_titles))\n",
    "\n",
    "submission = pl.DataFrame(submission, schema=('title_id', 'recs'))\n",
    "submission.write_parquet('submission.parquet')\n",
    "display(submission.head())\n",
    "\n",
    "print_score()"
   ]
  },
  {
   "cell_type": "code",
   "execution_count": null,
   "id": "54c5a74f-c12c-4352-8b0a-0ea8ab021405",
   "metadata": {},
   "outputs": [],
   "source": [
    "sparse_data[:2].A.shape"
   ]
  },
  {
   "cell_type": "markdown",
   "id": "48eb83a1",
   "metadata": {
    "id": "48eb83a1"
   },
   "source": [
    "## Сохраним эмбеддинги для просмотра в tensorboard"
   ]
  },
  {
   "cell_type": "code",
   "execution_count": null,
   "id": "b36d00b0",
   "metadata": {
    "id": "b36d00b0"
   },
   "outputs": [],
   "source": [
    "!rm -rf ./embs"
   ]
  },
  {
   "cell_type": "code",
   "execution_count": null,
   "id": "c7af69cf",
   "metadata": {
    "id": "c7af69cf"
   },
   "outputs": [],
   "source": [
    "log_dir = './embs'\n",
    "if not os.path.exists(log_dir):\n",
    "    os.makedirs(log_dir)\n",
    "\n",
    "with open(os.path.join(log_dir, 'metadata.tsv'), \"w\") as f:\n",
    "    for title_name in movies_df[:1_000]['name']:\n",
    "        f.write(f'{title_name}\\n')\n",
    "\n",
    "weights = tf.Variable(sparse_data[:1_000].A)\n",
    "checkpoint = tf.train.Checkpoint(embedding=weights)\n",
    "checkpoint.save(os.path.join(log_dir, \"embedding.ckpt\"))\n",
    "\n",
    "config = projector.ProjectorConfig()\n",
    "embedding = config.embeddings.add()\n",
    "embedding.tensor_name = \"embedding/.ATTRIBUTES/VARIABLE_VALUE\"\n",
    "embedding.metadata_path = 'metadata.tsv'\n",
    "projector.visualize_embeddings(log_dir, config)"
   ]
  },
  {
   "cell_type": "code",
   "execution_count": null,
   "id": "3d439b0a",
   "metadata": {
    "id": "3d439b0a",
    "outputId": "e550c6df-4298-479e-dbbc-cd01d095165e"
   },
   "outputs": [],
   "source": [
    "!tensorboard --logdir embs --bind_all"
   ]
  },
  {
   "cell_type": "markdown",
   "id": "3646703b",
   "metadata": {
    "id": "3646703b"
   },
   "source": [
    "## Визуализация рекомендаций"
   ]
  },
  {
   "cell_type": "code",
   "execution_count": null,
   "id": "6a940630",
   "metadata": {
    "id": "6a940630"
   },
   "outputs": [],
   "source": [
    "def get_recommendations_inds(item_ind: int, k: int = 10):\n",
    "    nearest_inds = np.argsort(similarities[item_ind])[::-1][:k]\n",
    "    return nearest_inds"
   ]
  },
  {
   "cell_type": "code",
   "execution_count": null,
   "id": "45544d3f",
   "metadata": {
    "id": "45544d3f",
    "outputId": "8341216a-95c6-43c4-e9dc-f1b79450e99d"
   },
   "outputs": [],
   "source": [
    "k = 5\n",
    "fig, axs = plt.subplots(1, k + 1, figsize=(25, 10))\n",
    "\n",
    "title_id = 'tt0121766'\n",
    "title_ind = movies_df['title_id'].to_list().index(title_id)\n",
    "\n",
    "relevant_titles = (\n",
    "    pl.read_parquet(RELEVANT_TITLES_PATH)\n",
    "    .filter(pl.col('title_id') == title_id)\n",
    ")['relevant_titles'].explode().to_list()\n",
    "\n",
    "# отрисовываем запрашиваемый тайтл\n",
    "url = movies_df['poster_url'][title_ind]\n",
    "im = Image.open(requests.get(url, stream=True).raw)\n",
    "axs[0].imshow(im)\n",
    "axs[0].axis('off')\n",
    "axs[0].set_title(movies_df['name'][title_ind])\n",
    "\n",
    "# строим рекомендации\n",
    "nearest_inds = get_recommendations_inds(title_ind, k)\n",
    "recs_posters = movies_df[nearest_inds]['poster_url']\n",
    "recs_names = movies_df[nearest_inds]['name']\n",
    "recs_title_ids = movies_df[nearest_inds]['title_id']\n",
    "\n",
    "# визуализируем рекомендации\n",
    "for i, (url, name) in enumerate(zip(recs_posters, recs_names)):\n",
    "    im = Image.open(requests.get(url, stream=True).raw)\n",
    "    axs[1 + i].imshow(im)\n",
    "    axs[1 + i].axis('off')\n",
    "    axs[1 + i].set_title(name, color=('g' if recs_title_ids[i] in relevant_titles else 'r'))\n",
    "\n",
    "plt.show();"
   ]
  },
  {
   "cell_type": "code",
   "execution_count": null,
   "id": "e0942072-897a-4ce0-a910-948cc1eeb73f",
   "metadata": {},
   "outputs": [],
   "source": [
    "nearest_inds"
   ]
  },
  {
   "cell_type": "markdown",
   "id": "b2091538",
   "metadata": {
    "id": "b2091538"
   },
   "source": [
    "Идеи для улучшения:\n",
    "- попробуйте различные метрики дистанции между эмбеддингами\n",
    "- используйте больше признаков для построения разреженной матрицы\n",
    "- попробуйте использовать description и featured_review для извлечения признаков (например, tf-idf/w2v/openAI эмбеддинги)"
   ]
  }
 ],
 "metadata": {
  "colab": {
   "provenance": []
  },
  "kernelspec": {
   "display_name": "Python 3 (ipykernel)",
   "language": "python",
   "name": "python3"
  },
  "language_info": {
   "codemirror_mode": {
    "name": "ipython",
    "version": 3
   },
   "file_extension": ".py",
   "mimetype": "text/x-python",
   "name": "python",
   "nbconvert_exporter": "python",
   "pygments_lexer": "ipython3",
   "version": "3.10.12"
  }
 },
 "nbformat": 4,
 "nbformat_minor": 5
}
