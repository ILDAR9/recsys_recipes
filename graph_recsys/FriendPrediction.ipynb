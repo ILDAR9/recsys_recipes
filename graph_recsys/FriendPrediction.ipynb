{
 "cells": [
  {
   "cell_type": "code",
   "execution_count": 1,
   "id": "31b889ab",
   "metadata": {},
   "outputs": [],
   "source": [
    "import numpy as np\n",
    "import polars as pl\n",
    "from tqdm import tqdm\n",
    "\n",
    "from typing import List, Any\n",
    "\n",
    "import scipy.sparse as sp\n",
    "from sklearn.model_selection import train_test_split\n",
    "\n",
    "import random\n",
    "from collections import Counter"
   ]
  },
  {
   "cell_type": "code",
   "execution_count": 2,
   "id": "f238e540-5430-4ebd-b61f-d7f92784c10e",
   "metadata": {},
   "outputs": [],
   "source": [
    "import sys\n",
    "sys.path.append('graph_recsys')\n",
    "import network_recsys as nr\n",
    "from importlib import reload"
   ]
  },
  {
   "cell_type": "code",
   "execution_count": 3,
   "id": "dab7bc8b-2c9a-466c-82ee-87948cc1508a",
   "metadata": {},
   "outputs": [
    {
     "data": {
      "text/plain": [
       "(shape: (2, 2)\n",
       " ┌───────┬────────────┐\n",
       " │ uid   ┆ friend_uid │\n",
       " │ ---   ┆ ---        │\n",
       " │ i64   ┆ i64        │\n",
       " ╞═══════╪════════════╡\n",
       " │ 93464 ┆ 114312     │\n",
       " │ 93464 ┆ 103690     │\n",
       " └───────┴────────────┘,\n",
       " (2872562, 2))"
      ]
     },
     "execution_count": 3,
     "metadata": {},
     "output_type": "execute_result"
    }
   ],
   "source": [
    "data = pl.read_parquet('train.parquet')\n",
    "data.head(2), data.shape"
   ]
  },
  {
   "cell_type": "code",
   "execution_count": 4,
   "id": "b37e982e",
   "metadata": {
    "scrolled": true
   },
   "outputs": [
    {
     "data": {
      "text/plain": [
       "(5745124, 2)"
      ]
     },
     "execution_count": 4,
     "metadata": {},
     "output_type": "execute_result"
    }
   ],
   "source": [
    "# датафрейм с обратными ребрами\n",
    "data_rev = (\n",
    "    data\n",
    "    .rename({'uid': 'friend_uid', 'friend_uid': 'uid'})\n",
    "    .select('uid', 'friend_uid')\n",
    ")\n",
    "\n",
    "# соединим все в один граф\n",
    "data = pl.concat([data, data_rev])\n",
    "del data_rev\n",
    "data.shape"
   ]
  },
  {
   "cell_type": "markdown",
   "id": "4f643e51",
   "metadata": {},
   "source": [
    "Данные состоят из двух колонок:\n",
    "\n",
    "- `uid` – идентификатор пользователя\n",
    "- `friend_uid` – идентификатор друга этого пользователя\n",
    "\n",
    "Нашей задачей будет порекомендовать возможных друзей, для оценки вашего решения будет использоваться метрика Recall@10, равная проценту верно угаданных друзей"
   ]
  },
  {
   "cell_type": "markdown",
   "id": "e1aee09d",
   "metadata": {},
   "source": [
    "## Валидация\n",
    "\n",
    "Так как у нас нет временной последовательности и рекомендации друзей не так сильно зависят от временной составляющей, в качестве можно использовать случайно выбранные ребра в графе (при этом для каждого пользователя будет равная пропорция друзей в валидации, которую можно достичь с помощью stratify параметра)"
   ]
  },
  {
   "cell_type": "code",
   "execution_count": null,
   "id": "3b93e044",
   "metadata": {
    "scrolled": true
   },
   "outputs": [],
   "source": [
    "reload(nr)\n",
    "train_df, test_df = nr.prepare_validation_set(data, test_size = 0.1)\n",
    "train_df.shape, test_df.shape"
   ]
  },
  {
   "cell_type": "markdown",
   "id": "5c087e4d",
   "metadata": {},
   "source": [
    "## Бейзлайн (Random)"
   ]
  },
  {
   "cell_type": "code",
   "execution_count": null,
   "id": "3991b838",
   "metadata": {},
   "outputs": [],
   "source": [
    "grouped_df = (\n",
    "    test_df\n",
    "    .groupby('uid')\n",
    "    .agg(pl.col('friend_uid').alias('y_rel'))\n",
    "    .join(\n",
    "        train_df\n",
    "        .groupby('uid')\n",
    "        .agg(pl.col('friend_uid').alias('user_history')),\n",
    "        'uid',\n",
    "        how='left'\n",
    "    )\n",
    ")\n",
    "\n",
    "median_seq_len = int(grouped_df['user_history'].apply(len).median())\n",
    "print(f\"среднее число uid в user_history: {median_seq_len}\")"
   ]
  },
  {
   "cell_type": "code",
   "execution_count": null,
   "id": "e628fb9a",
   "metadata": {
    "scrolled": true
   },
   "outputs": [],
   "source": [
    "n_users = train_df['uid'].max() + 1\n",
    "\n",
    "# количество друзей у каждого пользователя\n",
    "friends_count = np.zeros(n_users)\n",
    "for uid, count in Counter(train_df['uid']).items():\n",
    "    friends_count[uid] = count\n",
    "    \n",
    "friends_count /= sum(friends_count)"
   ]
  },
  {
   "cell_type": "code",
   "execution_count": null,
   "id": "d342b007",
   "metadata": {},
   "outputs": [],
   "source": [
    "recall_list = []\n",
    "recs = np.random.choice(n_users, size=(n_users, TOP_K + median_seq_len), p=friends_count)\n",
    "\n",
    "for user_id, y_rel, user_history in tqdm(grouped_df.rows()):\n",
    "    y_rec = [uid for uid in recs[user_id] if uid not in user_history]\n",
    "    recall_list.append(user_recall(y_rel, y_rec))\n",
    "    \n",
    "print(f'Recall@{TOP_K} = {np.mean(recall_list)}')"
   ]
  },
  {
   "cell_type": "markdown",
   "id": "cd10933e-3408-4ba9-959f-1fceae23e16b",
   "metadata": {},
   "source": [
    "## DEV\n",
    "мы хотим, чтобы вершины с похожими\n",
    "соседями были в векторном\n",
    "пространстве"
   ]
  },
  {
   "cell_type": "code",
   "execution_count": 5,
   "id": "c8c6bb4b-88e1-4220-82b8-b37193fd3b57",
   "metadata": {},
   "outputs": [
    {
     "data": {
      "text/plain": [
       "35"
      ]
     },
     "execution_count": 5,
     "metadata": {},
     "output_type": "execute_result"
    }
   ],
   "source": [
    "reload(nr)\n",
    "median_count_seq = nr.compute_median_history_count(data)\n",
    "median_count_seq"
   ]
  },
  {
   "cell_type": "code",
   "execution_count": 6,
   "id": "bc0f5883-9c2d-48f2-870a-8c1cabb02e5d",
   "metadata": {},
   "outputs": [
    {
     "name": "stderr",
     "output_type": "stream",
     "text": [
      "/home/i.nurgaliev/recsys/venv/lib/python3.10/site-packages/tqdm/auto.py:21: TqdmWarning: IProgress not found. Please update jupyter and ipywidgets. See https://ipywidgets.readthedocs.io/en/stable/user_install.html\n",
      "  from .autonotebook import tqdm as notebook_tqdm\n"
     ]
    }
   ],
   "source": [
    "import matplotlib.pyplot as plt\n",
    "from sklearn.manifold import TSNE\n",
    "\n",
    "import torch\n",
    "from torch.nn import CosineSimilarity\n",
    "from torch.nn import Linear\n",
    "import torch.nn.functional as F\n",
    "\n",
    "from torch_geometric.datasets import Planetoid, MovieLens\n",
    "from torch_geometric.nn import Node2Vec, SAGEConv, LightGCN, to_hetero\n",
    "from torch_geometric.data import Data, HeteroData\n",
    "from torch_geometric.utils import degree\n",
    "import torch_geometric.transforms as T\n",
    "\n",
    "import warnings\n",
    "warnings.filterwarnings('ignore')\n",
    "\n",
    "from tqdm import tqdm\n",
    "device='cuda'"
   ]
  },
  {
   "cell_type": "code",
   "execution_count": 7,
   "id": "7a9ff5d4-3318-4c15-b9b0-289bbf216c4e",
   "metadata": {},
   "outputs": [
    {
     "data": {
      "text/plain": [
       "True"
      ]
     },
     "execution_count": 7,
     "metadata": {},
     "output_type": "execute_result"
    }
   ],
   "source": [
    "# матрица смежности (пара номеров вершин u и v, между которыми проведены ребра)\n",
    "edge_index = torch.tensor(data.select(['uid', 'friend_uid']).to_numpy(), dtype=torch.long)\n",
    "\n",
    "data_network = Data(edge_index=edge_index.T.contiguous())\n",
    "# сделаем наши ребра ненаправленные\n",
    "data_network = T.ToUndirected()(data_network)\n",
    "data_network.validate(raise_on_error=True)"
   ]
  },
  {
   "cell_type": "code",
   "execution_count": 8,
   "id": "5515bcdf-3634-4097-9b3b-544917a1d4c1",
   "metadata": {},
   "outputs": [
    {
     "name": "stdout",
     "output_type": "stream",
     "text": [
      "Epoch: 002, Loss: 1.1315\n",
      "Epoch: 004, Loss: 1.0824\n",
      "Epoch: 006, Loss: 1.0756\n",
      "Epoch: 008, Loss: 1.0752\n",
      "Epoch: 010, Loss: 1.0752\n",
      "Epoch: 012, Loss: 1.0750\n",
      "Epoch: 014, Loss: 1.0748\n",
      "Epoch: 016, Loss: 1.0746\n",
      "Epoch: 018, Loss: 1.0740\n",
      "Epoch: 020, Loss: 1.0739\n",
      "Epoch: 022, Loss: 1.0737\n",
      "Epoch: 024, Loss: 1.0734\n",
      "Epoch: 026, Loss: 1.0733\n",
      "Epoch: 028, Loss: 1.0733\n"
     ]
    }
   ],
   "source": [
    "model = Node2Vec(\n",
    "    edge_index=data_network.edge_index,\n",
    "    embedding_dim=128,  # размер эмбеддинга вершины\n",
    "    walk_length=30,  # длина случайного блуждания\n",
    "    context_size=15,  # размер окна из случайного блуждания (как в w2v)\n",
    "    walks_per_node=20,  # количество случайных блужданий из одной вершины\n",
    "    num_negative_samples=2,  # количество негативных примеров на один позитивный\n",
    "    p=1.0,  # параметр вероятности вернуться в предыдущую вершину\n",
    "    q=0.9,  # параметр вероятности исследовать граф вглубь\n",
    "    sparse=True,\n",
    ").to(device)\n",
    "\n",
    "# класс Node2Vec предоставляет сразу генератор случайного блуждания\n",
    "loader = model.loader(batch_size=256, shuffle=True, num_workers=8)\n",
    "optimizer = torch.optim.SparseAdam(list(model.parameters()), lr=0.01)\n",
    "\n",
    "\n",
    "def train():\n",
    "    model.train()\n",
    "    total_loss = 0\n",
    "    for pos_rw, neg_rw in loader:\n",
    "        # pos_rw – последовательность из случайного блуждания\n",
    "        # neg_rw – случайные негативные примеры\n",
    "        optimizer.zero_grad()\n",
    "        loss = model.loss(pos_rw.to(device), neg_rw.to(device))\n",
    "        loss.backward()\n",
    "        optimizer.step()\n",
    "        total_loss += loss.item()\n",
    "    return total_loss / len(loader)\n",
    "\n",
    "# Test training\n",
    "for epoch in range(1, 30):\n",
    "    loss = train()\n",
    "    # acc = test()\n",
    "    if epoch % 2 == 0:\n",
    "        print(f'Epoch: {epoch:03d}, Loss: {loss:.4f}')"
   ]
  },
  {
   "cell_type": "markdown",
   "id": "ee523595-a0d4-4845-9ef4-46d0916a5781",
   "metadata": {},
   "source": [
    "To predict whether or not two users are friends,\n",
    "we take the Hadamard product of their node2vec representations and put it through a logistic regression classifier."
   ]
  },
  {
   "cell_type": "code",
   "execution_count": 55,
   "id": "ed938237-4620-4e10-ae24-b4a396509b02",
   "metadata": {},
   "outputs": [
    {
     "name": "stderr",
     "output_type": "stream",
     "text": [
      "100%|███████████████████████████████████████████████████████████████████████████████████████| 106563/106563 [00:13<00:00, 8050.66it/s]\n"
     ]
    }
   ],
   "source": [
    "reload(nr)\n",
    "d_train = nr.collect_data_training(data, model, 5, device='cpu')"
   ]
  },
  {
   "cell_type": "code",
   "execution_count": 56,
   "id": "651606cc-d006-4c74-8463-3f423b0458ac",
   "metadata": {},
   "outputs": [],
   "source": [
    "from sklearn.linear_model import LogisticRegression\n",
    "\n",
    "clf = LogisticRegression(solver='lbfgs', multi_class='ovr')\\\n",
    "                            .fit(d_train['features'],d_train['y_hat'])"
   ]
  },
  {
   "cell_type": "code",
   "execution_count": null,
   "id": "71216a05-df03-4985-9c96-008276e45df7",
   "metadata": {},
   "outputs": [],
   "source": []
  },
  {
   "cell_type": "code",
   "execution_count": 78,
   "id": "f514f05e-37de-4102-8382-9bfe6b4395e6",
   "metadata": {},
   "outputs": [],
   "source": [
    "all_uid = data['uid'].unique().to_numpy()\n",
    "\n",
    "all_embs = model.cpu().forward(torch.tensor(all_uid, dtype=torch.long))\n",
    "TOP_K = 40\n",
    "n = TOP_K + median_count_seq"
   ]
  },
  {
   "cell_type": "code",
   "execution_count": 79,
   "id": "6955cb03-d46e-4739-ada9-5d3eeb1cef18",
   "metadata": {},
   "outputs": [
    {
     "name": "stderr",
     "output_type": "stream",
     "text": [
      "100%|███████████████████████████████████████████████████████████████████████████████████████| 106563/106563 [01:23<00:00, 1283.66it/s]\n"
     ]
    }
   ],
   "source": [
    "device = 'cuda'\n",
    "model = model.eval().to(device)\n",
    "cos = CosineSimilarity(dim=1, eps=1e-6)\n",
    "recs: dict[uid, np.array] = dict()\n",
    "all_embs = all_embs.to(device)\n",
    "with torch.no_grad():\n",
    "    for uid in tqdm(all_uid):\n",
    "        uid_emb = model.forward(torch.tensor([uid], dtype=torch.long).to(device))\n",
    "        output = cos(uid_emb, all_embs)\n",
    "        top_k_indices = torch.topk(output, n)\n",
    "        recs[uid] = all_uid[top_k_indices.indices.cpu().numpy()]\n",
    "    "
   ]
  },
  {
   "cell_type": "code",
   "execution_count": null,
   "id": "0daf5e46-1011-409d-91e2-6d0ceeba1aec",
   "metadata": {},
   "outputs": [],
   "source": [
    "reload(nr)\n",
    "subm = nr.prepare_submission(data, recs)"
   ]
  },
  {
   "cell_type": "code",
   "execution_count": 80,
   "id": "559599dd-ff50-4ae0-8bb8-cb6036e1723c",
   "metadata": {},
   "outputs": [
    {
     "name": "stderr",
     "output_type": "stream",
     "text": [
      "100%|███████████████████████████████████████████████████████████████████████████████████████| 106563/106563 [00:40<00:00, 2658.31it/s]\n"
     ]
    }
   ],
   "source": [
    "# Rearrange with another metric\n",
    "recs2: dict[uid, np.array] = dict()\n",
    "device = 'cuda'\n",
    "model = model.eval().to(device)\n",
    "\n",
    "with torch.no_grad():\n",
    "    for uid, candidates in tqdm(recs.items()):\n",
    "        uid_emb = model.forward(torch.tensor([uid], dtype=torch.long).to(device))\n",
    "        candidates_emb = model.forward(torch.tensor(candidates, dtype=torch.long).to(device))\n",
    "        res = uid_emb * candidates_emb\n",
    "        probs = clf.predict_proba(res.cpu())\n",
    "        prob_friend = probs[:,1]\n",
    "        ind = np.argsort(-prob_friend)\n",
    "        recs2[uid] = candidates[ind]"
   ]
  },
  {
   "cell_type": "code",
   "execution_count": 81,
   "id": "253e9581-9f4c-4e6e-870b-33f1653baf32",
   "metadata": {},
   "outputs": [
    {
     "name": "stderr",
     "output_type": "stream",
     "text": [
      "100%|█████████████████████████████████████████████████████████████████████████████████████████| 85483/85483 [00:17<00:00, 4954.50it/s]\n"
     ]
    }
   ],
   "source": [
    "reload(nr)\n",
    "assert len(recs2) > 0 and  len(recs) == len(recs2)\n",
    "subm = nr.prepare_submission(data, recs2, fpath = 'submission2.parquet')"
   ]
  },
  {
   "cell_type": "code",
   "execution_count": 15,
   "id": "0cfa727d-1147-4353-8c6f-3881011e6a16",
   "metadata": {},
   "outputs": [],
   "source": []
  }
 ],
 "metadata": {
  "kernelspec": {
   "display_name": "Python 3 (ipykernel)",
   "language": "python",
   "name": "python3"
  },
  "language_info": {
   "codemirror_mode": {
    "name": "ipython",
    "version": 3
   },
   "file_extension": ".py",
   "mimetype": "text/x-python",
   "name": "python",
   "nbconvert_exporter": "python",
   "pygments_lexer": "ipython3",
   "version": "3.10.12"
  }
 },
 "nbformat": 4,
 "nbformat_minor": 5
}
