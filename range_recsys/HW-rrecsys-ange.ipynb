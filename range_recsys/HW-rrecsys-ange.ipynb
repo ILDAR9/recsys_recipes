{
 "cells": [
  {
   "cell_type": "code",
   "execution_count": 1,
   "id": "8b14a0e4",
   "metadata": {},
   "outputs": [],
   "source": [
    "import random\n",
    "\n",
    "import polars as pl\n",
    "import numpy as np\n",
    "\n",
    "from typing import List, Any\n",
    "from tqdm import tqdm\n",
    "\n",
    "from sklearn.model_selection import train_test_split"
   ]
  },
  {
   "cell_type": "code",
   "execution_count": 2,
   "id": "6d88b1cf",
   "metadata": {},
   "outputs": [],
   "source": [
    "ad_features = pl.read_parquet('ad_features.parquet')\n",
    "user_features = pl.read_parquet('user_features.parquet')\n",
    "behavioral_logs = pl.read_parquet('behavior_logs.parquet')\n",
    "data = pl.read_parquet('train.parquet')\n",
    "test = pl.read_parquet('test.parquet')"
   ]
  },
  {
   "cell_type": "markdown",
   "id": "8fb99632",
   "metadata": {},
   "source": [
    "## Описание данных\n",
    "\n",
    "### ad_features\n",
    "\n",
    "| Поле            | Тип                  | Описание                                 |\n",
    "|---              |---                   |---                                       |\n",
    "| adgroup_id      | int                  | Идентификатор рекламы                    |\n",
    "| cate_id         | int                  | Идентификатор категории                  |\n",
    "| campaign_id     | int                  | Идентификатор рекламной компании         |\n",
    "| customer        | int                  | Идентификатор рекламодателя              |\n",
    "| brand           | str                  | Идентификатор бренда                     |\n",
    "| price           | int                  | Цена товара                              |\n",
    "\n",
    "Рекламное объявление принадлежит одному товару, при этом у товара есть бренд и категория\n",
    "\n",
    "\n",
    "### user_features\n",
    "\n",
    "| Поле            | Тип                  | Описание                                 |\n",
    "|---              |---                   |---                                       |\n",
    "| userid          | int                  | Идентификатор пользователя               |\n",
    "| cms_segid       | int                  | Идентификатор сегментированной группы пользователей|\n",
    "| cms_group_id    | int                  | Идентификатор группы пользователей       |\n",
    "| final_gender_code | int                | Пол пользователя (мужской – 1, женский – 2)|\n",
    "| age_level       | int                  | Категория возраста пользователя          |\n",
    "| pvalue_level    | int                  | Уровень потребления                      |\n",
    "| shopping_level  | int                  | Уровень вовлеченности (значения из диапазона 1-3 от слабой до сильной) |\n",
    "| occupation      | int                  | Род занятости (студент или нет)          |\n",
    "| new_user_class_level | int             | Населенность города проживания           |\n",
    "\n",
    "### behavioral_logs\n",
    "\n",
    "| Поле            | Тип                  | Описание                                 |\n",
    "|---              |---                   |---                                       |\n",
    "| user            | int                  | Идентификатор пользователя               |\n",
    "| time_stamp      | int                  | Время                                    |\n",
    "| btag            | str                  | Тип действия (**pv**: просмотр, **cart**: добавление в корзину, **fav**: добавление в избранное, **buy**: покупка) |\n",
    "| cate            | int                  | Идентификатор категории                  |\n",
    "| brand           | str                  | Идентификатор бренда                     |\n",
    "\n",
    "\n",
    "### data\n",
    "\n",
    "| Поле            | Тип                  | Описание                                 |\n",
    "|---              |---                   |---                                       |\n",
    "| user            | int                  | Идентификатор пользователя               |\n",
    "| time_stamp      | int                  | Время                                    |\n",
    "| adgroup_id      | int                  | Идентификатор рекламы                    |\n",
    "| clk             | int                  | Был ли клик?                             |"
   ]
  },
  {
   "cell_type": "markdown",
   "id": "4a323bc6",
   "metadata": {},
   "source": [
    "## Оценивание\n",
    "\n",
    "В качестве метрики качества используется ndcg@10. Чтобы получить максимальный балл, достаточно добиться ndcg@10 = 0.03\n",
    "\n",
    "В качестве `y_relevant` используется те рекламные объявления, по которым были клики после собранной истории взаимодействий"
   ]
  },
  {
   "cell_type": "code",
   "execution_count": 3,
   "id": "84141ac0",
   "metadata": {},
   "outputs": [],
   "source": [
    "TOP_K = 10\n",
    "\n",
    "\n",
    "def user_intersection(y_rel: List[Any], y_rec: List[Any], k: int = 10) -> int:\n",
    "    \"\"\"\n",
    "    :param y_rel: relevant items\n",
    "    :param y_rec: recommended items\n",
    "    :param k: number of top recommended items\n",
    "    :return: number of items in intersection of y_rel and y_rec (truncated to top-K)\n",
    "    \"\"\"\n",
    "    return len(set(y_rec[:k]).intersection(set(y_rel)))\n",
    "\n",
    "def user_recall(y_rel: List[Any], y_rec: List[Any], k: int = 10) -> float:\n",
    "    \"\"\"\n",
    "    :param y_rel: relevant items\n",
    "    :param y_rec: recommended items\n",
    "    :param k: number of top recommended items\n",
    "    :return: percentage of found relevant items through recommendations\n",
    "    \"\"\"\n",
    "    return user_intersection(y_rel, y_rec, k) / len(set(y_rel))\n",
    "\n",
    "\n",
    "def user_ndcg(y_rel: List[Any], y_rec: List[Any], k: int = TOP_K) -> float:\n",
    "    \"\"\"\n",
    "    :param y_rel: relevant items\n",
    "    :param y_rec: recommended items\n",
    "    :param k: number of top recommended items\n",
    "    :return: ndcg metric for user recommendations\n",
    "    \"\"\"\n",
    "    dcg = sum([1. / np.log2(idx + 2) for idx, item in enumerate(y_rec[:k]) if item in y_rel])\n",
    "    idcg = sum([1. / np.log2(idx + 2) for idx, _ in enumerate(zip(y_rel, np.arange(k)))])\n",
    "    return dcg / idcg"
   ]
  },
  {
   "cell_type": "markdown",
   "id": "75bd7a7d",
   "metadata": {},
   "source": [
    "## Бейзлайн с использованием behavioral logs\n",
    "\n",
    "В качестве простого бейзлайна для каждого пользователя найдем категорию рекламных объявлений, наиболее интересную ему. Затем для каждой категории найдем самые популярные по метрике `ctr` (Click-through rate)."
   ]
  },
  {
   "cell_type": "code",
   "execution_count": 4,
   "id": "433d2dd2",
   "metadata": {
    "scrolled": true
   },
   "outputs": [],
   "source": [
    "data = data.sort('time_stamp')\n",
    "\n",
    "timestamp_threshold = data['time_stamp'].quantile(0.9)\n",
    "train_df = data.filter(pl.col('time_stamp') <= timestamp_threshold)\n",
    "test_df = data.filter(pl.col('time_stamp') > timestamp_threshold)"
   ]
  },
  {
   "cell_type": "code",
   "execution_count": 5,
   "id": "ac4f8b72",
   "metadata": {
    "scrolled": true
   },
   "outputs": [
    {
     "data": {
      "text/html": [
       "<div><style>\n",
       ".dataframe > thead > tr > th,\n",
       ".dataframe > tbody > tr > td {\n",
       "  text-align: right;\n",
       "}\n",
       "</style>\n",
       "<small>shape: (957_175, 3)</small><table border=\"1\" class=\"dataframe\"><thead><tr><th>user</th><th>cate</th><th>weight</th></tr><tr><td>i64</td><td>i64</td><td>i64</td></tr></thead><tbody><tr><td>1141729</td><td>4283</td><td>166</td></tr><tr><td>1141726</td><td>4505</td><td>5</td></tr><tr><td>1141725</td><td>10905</td><td>93</td></tr><tr><td>1141724</td><td>4385</td><td>135</td></tr><tr><td>1141723</td><td>6421</td><td>14</td></tr><tr><td>1141722</td><td>4263</td><td>80</td></tr><tr><td>1141721</td><td>4282</td><td>1</td></tr><tr><td>1141720</td><td>4520</td><td>51</td></tr><tr><td>1141718</td><td>6432</td><td>60</td></tr><tr><td>1141716</td><td>5954</td><td>171</td></tr><tr><td>1141715</td><td>4282</td><td>84</td></tr><tr><td>1141714</td><td>7146</td><td>84</td></tr><tr><td>&hellip;</td><td>&hellip;</td><td>&hellip;</td></tr><tr><td>13</td><td>8998</td><td>10</td></tr><tr><td>12</td><td>6432</td><td>32</td></tr><tr><td>11</td><td>4292</td><td>6</td></tr><tr><td>10</td><td>7621</td><td>82</td></tr><tr><td>8</td><td>6261</td><td>44</td></tr><tr><td>7</td><td>7266</td><td>5</td></tr><tr><td>6</td><td>9101</td><td>86</td></tr><tr><td>5</td><td>7081</td><td>1</td></tr><tr><td>4</td><td>4281</td><td>4</td></tr><tr><td>3</td><td>6511</td><td>16</td></tr><tr><td>2</td><td>6465</td><td>49</td></tr><tr><td>1</td><td>4278</td><td>44</td></tr></tbody></table></div>"
      ],
      "text/plain": [
       "shape: (957_175, 3)\n",
       "┌─────────┬───────┬────────┐\n",
       "│ user    ┆ cate  ┆ weight │\n",
       "│ ---     ┆ ---   ┆ ---    │\n",
       "│ i64     ┆ i64   ┆ i64    │\n",
       "╞═════════╪═══════╪════════╡\n",
       "│ 1141729 ┆ 4283  ┆ 166    │\n",
       "│ 1141726 ┆ 4505  ┆ 5      │\n",
       "│ 1141725 ┆ 10905 ┆ 93     │\n",
       "│ 1141724 ┆ 4385  ┆ 135    │\n",
       "│ …       ┆ …     ┆ …      │\n",
       "│ 4       ┆ 4281  ┆ 4      │\n",
       "│ 3       ┆ 6511  ┆ 16     │\n",
       "│ 2       ┆ 6465  ┆ 49     │\n",
       "│ 1       ┆ 4278  ┆ 44     │\n",
       "└─────────┴───────┴────────┘"
      ]
     },
     "execution_count": 5,
     "metadata": {},
     "output_type": "execute_result"
    }
   ],
   "source": [
    "# веса примерно соответствуют behavioral_logs['btag'].value_counts()\n",
    "weight_dict = {\n",
    "    'pv': 1,\n",
    "    'cart': 40,\n",
    "    'fav': 80,\n",
    "    'buy': 80\n",
    "}\n",
    "\n",
    "behavioral_logs_top_categories = (\n",
    "    behavioral_logs\n",
    "    # для валидации отфильтруем все события как в тренировочной выборке\n",
    "    .filter(pl.col('time_stamp') <= timestamp_threshold)\n",
    "     # каждое событие преобразуем в вес\n",
    "    .with_columns([pl.col('btag').apply(weight_dict.get).alias('weight')])\n",
    "    .groupby('user', 'cate')\n",
    "    # итоговый вес для категории – сумма весов событий\n",
    "    .agg(pl.col('weight').sum())\n",
    "    # для каждого пользователя оставим категорию с максимальным весом\n",
    "    .sort(['user', 'weight'], descending=True)\n",
    "    .unique('user', keep='first')\n",
    ")\n",
    "behavioral_logs_top_categories"
   ]
  },
  {
   "cell_type": "code",
   "execution_count": 6,
   "id": "94942869",
   "metadata": {
    "scrolled": true
   },
   "outputs": [
    {
     "data": {
      "text/html": [
       "<div><style>\n",
       ".dataframe > thead > tr > th,\n",
       ".dataframe > tbody > tr > td {\n",
       "  text-align: right;\n",
       "}\n",
       "</style>\n",
       "<small>shape: (6_074, 2)</small><table border=\"1\" class=\"dataframe\"><thead><tr><th>cate_id</th><th>y_rec</th></tr><tr><td>i64</td><td>list[i64]</td></tr></thead><tbody><tr><td>9392</td><td>[157401, 72015, … 673670]</td></tr><tr><td>9488</td><td>[64428, 190271, … 210431]</td></tr><tr><td>9584</td><td>[429901, 332558, … 77319]</td></tr><tr><td>10168</td><td>[41267, 47724, … 678073]</td></tr><tr><td>12296</td><td>[8209, 162291, … 652361]</td></tr><tr><td>4520</td><td>[511663, 692584, … 348929]</td></tr><tr><td>9984</td><td>[165761, 221503, … 97177]</td></tr><tr><td>9296</td><td>[57479, 38416, 38414]</td></tr><tr><td>8888</td><td>[134319, 704213, … 107045]</td></tr><tr><td>8632</td><td>[90225, 224694, 87304]</td></tr><tr><td>11080</td><td>[87382]</td></tr><tr><td>9648</td><td>[186984, 121192]</td></tr><tr><td>&hellip;</td><td>&hellip;</td></tr><tr><td>4271</td><td>[57669, 10902, 658426]</td></tr><tr><td>10655</td><td>[162581, 234627, … 171]</td></tr><tr><td>5367</td><td>[507902, 76226, 82511]</td></tr><tr><td>7623</td><td>[345535]</td></tr><tr><td>4855</td><td>[743279, 808137, … 167185]</td></tr><tr><td>8143</td><td>[71925]</td></tr><tr><td>3279</td><td>[121728, 77077]</td></tr><tr><td>127</td><td>[76077, 137868, … 345666]</td></tr><tr><td>5007</td><td>[413952]</td></tr><tr><td>8647</td><td>[549118, 600551, … 348997]</td></tr><tr><td>4535</td><td>[523523, 585351, … 1355]</td></tr><tr><td>9383</td><td>[635475, 181710, … 602321]</td></tr></tbody></table></div>"
      ],
      "text/plain": [
       "shape: (6_074, 2)\n",
       "┌─────────┬────────────────────────────┐\n",
       "│ cate_id ┆ y_rec                      │\n",
       "│ ---     ┆ ---                        │\n",
       "│ i64     ┆ list[i64]                  │\n",
       "╞═════════╪════════════════════════════╡\n",
       "│ 9392    ┆ [157401, 72015, … 673670]  │\n",
       "│ 9488    ┆ [64428, 190271, … 210431]  │\n",
       "│ 9584    ┆ [429901, 332558, … 77319]  │\n",
       "│ 10168   ┆ [41267, 47724, … 678073]   │\n",
       "│ …       ┆ …                          │\n",
       "│ 5007    ┆ [413952]                   │\n",
       "│ 8647    ┆ [549118, 600551, … 348997] │\n",
       "│ 4535    ┆ [523523, 585351, … 1355]   │\n",
       "│ 9383    ┆ [635475, 181710, … 602321] │\n",
       "└─────────┴────────────────────────────┘"
      ]
     },
     "execution_count": 6,
     "metadata": {},
     "output_type": "execute_result"
    }
   ],
   "source": [
    "def get_top_candidates(x: List[dict]) -> List[int]:\n",
    "    \"\"\"\n",
    "    Для списка структур с полями ctr и adgroup_id сортирует его по убыванию ctr и возвращает\n",
    "    TOP_K соответствующих идентификаторов adgroup_id\n",
    "    \"\"\"\n",
    "    x = sorted(x, key=lambda v: -v['ctr'])[:TOP_K]\n",
    "    return list(map(lambda x: x['adgroup_id'], x))\n",
    "\n",
    "grouped_tops = (\n",
    "    train_df\n",
    "    .join(ad_features, on='adgroup_id')\n",
    "    # для пары cate_id и adgroup_id вычисляем ctr\n",
    "    .groupby('cate_id', 'adgroup_id')\n",
    "    .agg([\n",
    "        pl.col('clk').mean().alias('ctr'),\n",
    "        pl.count().alias('count')\n",
    "    ])\n",
    "    # уберем те рекламные объявления, которые были показаны всего N раз\n",
    "    .filter(pl.col('count') > 1)\n",
    "    # сгруппируем ctr и adgroup_id в словарь и вызовем функцию get_top_candidates\n",
    "    .with_columns([pl.struct(ctr=pl.col('ctr'), adgroup_id=pl.col('adgroup_id')).alias('struct')])\n",
    "    .groupby('cate_id')\n",
    "    .agg(pl.col('struct').apply(get_top_candidates).alias('y_rec'))\n",
    ")\n",
    "grouped_tops"
   ]
  },
  {
   "cell_type": "code",
   "execution_count": 7,
   "id": "643df1af",
   "metadata": {
    "scrolled": true
   },
   "outputs": [
    {
     "data": {
      "text/html": [
       "<div><style>\n",
       ".dataframe > thead > tr > th,\n",
       ".dataframe > tbody > tr > td {\n",
       "  text-align: right;\n",
       "}\n",
       "</style>\n",
       "<small>shape: (251_128, 2)</small><table border=\"1\" class=\"dataframe\"><thead><tr><th>user_id</th><th>y_rec</th></tr><tr><td>i64</td><td>list[i64]</td></tr></thead><tbody><tr><td>1141720</td><td>[511663, 692584, … 348929]</td></tr><tr><td>1141714</td><td>[725297, 342558, … 496196]</td></tr><tr><td>1141710</td><td>[196526, 151029, … 62794]</td></tr><tr><td>1141709</td><td>[518334, 595289, … 520157]</td></tr><tr><td>1141708</td><td>[577671, 545118, … 441383]</td></tr><tr><td>1141707</td><td>[404677, 416932, … 51061]</td></tr><tr><td>1141706</td><td>[7304, 204588, … 315790]</td></tr><tr><td>1141705</td><td>[577671, 545118, … 441383]</td></tr><tr><td>1141697</td><td>[105110, 440179, … 630699]</td></tr><tr><td>1141689</td><td>[511663, 692584, … 348929]</td></tr><tr><td>1141687</td><td>[336868, 89865, … 407832]</td></tr><tr><td>1141686</td><td>[503386, 640339, … 696553]</td></tr><tr><td>&hellip;</td><td>&hellip;</td></tr><tr><td>51</td><td>[507768, 461258, … 336162]</td></tr><tr><td>50</td><td>[302425, 354079, … 742681]</td></tr><tr><td>44</td><td>[302425, 354079, … 742681]</td></tr><tr><td>37</td><td>[577671, 545118, … 441383]</td></tr><tr><td>33</td><td>[577671, 545118, … 441383]</td></tr><tr><td>19</td><td>[237018, 271653, … 238700]</td></tr><tr><td>18</td><td>[362380, 375562, … 700676]</td></tr><tr><td>16</td><td>[503386, 640339, … 696553]</td></tr><tr><td>15</td><td>[309055, 652937, … 442440]</td></tr><tr><td>7</td><td>[671331, 117050, … 772328]</td></tr><tr><td>6</td><td>[668540, 816762, … 510932]</td></tr><tr><td>4</td><td>[840949, 610058, … 544118]</td></tr></tbody></table></div>"
      ],
      "text/plain": [
       "shape: (251_128, 2)\n",
       "┌─────────┬────────────────────────────┐\n",
       "│ user_id ┆ y_rec                      │\n",
       "│ ---     ┆ ---                        │\n",
       "│ i64     ┆ list[i64]                  │\n",
       "╞═════════╪════════════════════════════╡\n",
       "│ 1141720 ┆ [511663, 692584, … 348929] │\n",
       "│ 1141714 ┆ [725297, 342558, … 496196] │\n",
       "│ 1141710 ┆ [196526, 151029, … 62794]  │\n",
       "│ 1141709 ┆ [518334, 595289, … 520157] │\n",
       "│ …       ┆ …                          │\n",
       "│ 15      ┆ [309055, 652937, … 442440] │\n",
       "│ 7       ┆ [671331, 117050, … 772328] │\n",
       "│ 6       ┆ [668540, 816762, … 510932] │\n",
       "│ 4       ┆ [840949, 610058, … 544118] │\n",
       "└─────────┴────────────────────────────┘"
      ]
     },
     "execution_count": 7,
     "metadata": {},
     "output_type": "execute_result"
    }
   ],
   "source": [
    "recs = (\n",
    "    test\n",
    "    .join(behavioral_logs_top_categories, left_on='user_id', right_on='user')\n",
    "    .join(grouped_tops, left_on='cate', right_on='cate_id')\n",
    "    .select('user_id', 'y_rec')\n",
    ")\n",
    "recs"
   ]
  },
  {
   "cell_type": "code",
   "execution_count": 8,
   "id": "9854132f",
   "metadata": {},
   "outputs": [
    {
     "name": "stdout",
     "output_type": "stream",
     "text": [
      "NDCG@10 = 0.0007, Recall@10 = 0.0015\n"
     ]
    }
   ],
   "source": [
    "test_grouped_df = (\n",
    "    test_df\n",
    "    # релевантны только те объекты, для которых был клик\n",
    "    .filter(pl.col('clk') == 1)\n",
    "    .groupby('user')\n",
    "    .agg(pl.col('adgroup_id').alias('y_rel'))\n",
    ")\n",
    "\n",
    "ndcg_list = []\n",
    "recall_list = []\n",
    "for _, y_rel, y_rec in test_grouped_df.join(recs, left_on='user', right_on='user_id').rows():\n",
    "    ndcg_list.append(user_ndcg(y_rel, y_rec))\n",
    "    recall_list.append(user_recall(y_rel, y_rec))\n",
    "    \n",
    "mean_ndcg = np.mean(ndcg_list)\n",
    "mean_recall = np.mean(recall_list)\n",
    "print(f'NDCG@{TOP_K} = {mean_ndcg:.4f}, Recall@{TOP_K} = {mean_recall:.4f}')"
   ]
  },
  {
   "cell_type": "markdown",
   "id": "2753c948",
   "metadata": {},
   "source": [
    "Построим рекомендации по всем данным"
   ]
  },
  {
   "cell_type": "code",
   "execution_count": 9,
   "id": "62757799",
   "metadata": {},
   "outputs": [
    {
     "data": {
      "text/html": [
       "<div><style>\n",
       ".dataframe > thead > tr > th,\n",
       ".dataframe > tbody > tr > td {\n",
       "  text-align: right;\n",
       "}\n",
       "</style>\n",
       "<small>shape: (981_716, 3)</small><table border=\"1\" class=\"dataframe\"><thead><tr><th>user</th><th>cate</th><th>weight</th></tr><tr><td>i64</td><td>i64</td><td>i64</td></tr></thead><tbody><tr><td>1141729</td><td>4283</td><td>305</td></tr><tr><td>1141726</td><td>4505</td><td>5</td></tr><tr><td>1141725</td><td>10905</td><td>93</td></tr><tr><td>1141724</td><td>4385</td><td>135</td></tr><tr><td>1141723</td><td>6421</td><td>14</td></tr><tr><td>1141722</td><td>4263</td><td>80</td></tr><tr><td>1141721</td><td>6426</td><td>4</td></tr><tr><td>1141720</td><td>4520</td><td>51</td></tr><tr><td>1141718</td><td>6432</td><td>60</td></tr><tr><td>1141716</td><td>5954</td><td>171</td></tr><tr><td>1141715</td><td>4282</td><td>85</td></tr><tr><td>1141714</td><td>7146</td><td>88</td></tr><tr><td>&hellip;</td><td>&hellip;</td><td>&hellip;</td></tr><tr><td>13</td><td>8998</td><td>10</td></tr><tr><td>12</td><td>6432</td><td>32</td></tr><tr><td>11</td><td>4292</td><td>6</td></tr><tr><td>10</td><td>7621</td><td>82</td></tr><tr><td>8</td><td>6261</td><td>44</td></tr><tr><td>7</td><td>7266</td><td>6</td></tr><tr><td>6</td><td>9101</td><td>86</td></tr><tr><td>5</td><td>7081</td><td>1</td></tr><tr><td>4</td><td>4281</td><td>4</td></tr><tr><td>3</td><td>6511</td><td>16</td></tr><tr><td>2</td><td>6465</td><td>49</td></tr><tr><td>1</td><td>4278</td><td>135</td></tr></tbody></table></div>"
      ],
      "text/plain": [
       "shape: (981_716, 3)\n",
       "┌─────────┬───────┬────────┐\n",
       "│ user    ┆ cate  ┆ weight │\n",
       "│ ---     ┆ ---   ┆ ---    │\n",
       "│ i64     ┆ i64   ┆ i64    │\n",
       "╞═════════╪═══════╪════════╡\n",
       "│ 1141729 ┆ 4283  ┆ 305    │\n",
       "│ 1141726 ┆ 4505  ┆ 5      │\n",
       "│ 1141725 ┆ 10905 ┆ 93     │\n",
       "│ 1141724 ┆ 4385  ┆ 135    │\n",
       "│ …       ┆ …     ┆ …      │\n",
       "│ 4       ┆ 4281  ┆ 4      │\n",
       "│ 3       ┆ 6511  ┆ 16     │\n",
       "│ 2       ┆ 6465  ┆ 49     │\n",
       "│ 1       ┆ 4278  ┆ 135    │\n",
       "└─────────┴───────┴────────┘"
      ]
     },
     "execution_count": 9,
     "metadata": {},
     "output_type": "execute_result"
    }
   ],
   "source": [
    "behavioral_logs_top_categories = (\n",
    "    behavioral_logs\n",
    "     # каждое событие преобразуем в вес\n",
    "    .with_columns([pl.col('btag').apply(weight_dict.get).alias('weight')])\n",
    "    .groupby('user', 'cate')\n",
    "    # итоговый вес для категории – сумма весов событий\n",
    "    .agg(pl.col('weight').sum())\n",
    "    # для каждого пользователя оставим категорию с максимальным весом\n",
    "    .sort(['user', 'weight'], descending=True)\n",
    "    .unique('user', keep='first')\n",
    ")\n",
    "behavioral_logs_top_categories"
   ]
  },
  {
   "cell_type": "code",
   "execution_count": 10,
   "id": "be8bb79d",
   "metadata": {},
   "outputs": [
    {
     "data": {
      "text/html": [
       "<div><style>\n",
       ".dataframe > thead > tr > th,\n",
       ".dataframe > tbody > tr > td {\n",
       "  text-align: right;\n",
       "}\n",
       "</style>\n",
       "<small>shape: (6_138, 2)</small><table border=\"1\" class=\"dataframe\"><thead><tr><th>cate_id</th><th>y_rec</th></tr><tr><td>i64</td><td>list[i64]</td></tr></thead><tbody><tr><td>5088</td><td>[335006]</td></tr><tr><td>10376</td><td>[263590, 373342, … 446265]</td></tr><tr><td>6024</td><td>[109431, 435811, 32067]</td></tr><tr><td>11152</td><td>[84885, 399230, … 211790]</td></tr><tr><td>3112</td><td>[298779, 140584, … 191172]</td></tr><tr><td>5152</td><td>[126444, 251549, … 231304]</td></tr><tr><td>7376</td><td>[11867, 385958, 777650]</td></tr><tr><td>6040</td><td>[276890, 356308, … 549233]</td></tr><tr><td>4728</td><td>[55663, 184709, … 846076]</td></tr><tr><td>5976</td><td>[18991, 713586, … 610380]</td></tr><tr><td>11840</td><td>[533182, 277710, … 511878]</td></tr><tr><td>5928</td><td>[139216, 236192, … 827735]</td></tr><tr><td>&hellip;</td><td>&hellip;</td></tr><tr><td>679</td><td>[253111, 832801, … 207514]</td></tr><tr><td>2287</td><td>[262647, 791744, … 65854]</td></tr><tr><td>375</td><td>[426363, 307449]</td></tr><tr><td>11455</td><td>[140237, 568935, 256472]</td></tr><tr><td>2183</td><td>[193345, 197305, … 210037]</td></tr><tr><td>1559</td><td>[608566]</td></tr><tr><td>12399</td><td>[661437, 674750, … 4282]</td></tr><tr><td>15</td><td>[148947, 93970, … 396654]</td></tr><tr><td>6159</td><td>[97670, 315717, … 651209]</td></tr><tr><td>431</td><td>[743250, 126807, … 244248]</td></tr><tr><td>6927</td><td>[189706, 25893, … 175935]</td></tr><tr><td>2255</td><td>[685097]</td></tr></tbody></table></div>"
      ],
      "text/plain": [
       "shape: (6_138, 2)\n",
       "┌─────────┬────────────────────────────┐\n",
       "│ cate_id ┆ y_rec                      │\n",
       "│ ---     ┆ ---                        │\n",
       "│ i64     ┆ list[i64]                  │\n",
       "╞═════════╪════════════════════════════╡\n",
       "│ 5088    ┆ [335006]                   │\n",
       "│ 10376   ┆ [263590, 373342, … 446265] │\n",
       "│ 6024    ┆ [109431, 435811, 32067]    │\n",
       "│ 11152   ┆ [84885, 399230, … 211790]  │\n",
       "│ …       ┆ …                          │\n",
       "│ 6159    ┆ [97670, 315717, … 651209]  │\n",
       "│ 431     ┆ [743250, 126807, … 244248] │\n",
       "│ 6927    ┆ [189706, 25893, … 175935]  │\n",
       "│ 2255    ┆ [685097]                   │\n",
       "└─────────┴────────────────────────────┘"
      ]
     },
     "execution_count": 10,
     "metadata": {},
     "output_type": "execute_result"
    }
   ],
   "source": [
    "grouped_tops = (\n",
    "    data\n",
    "    .join(ad_features, on='adgroup_id')\n",
    "    # для пары cate_id и adgroup_id вычисляем ctr\n",
    "    .groupby('cate_id', 'adgroup_id')\n",
    "    .agg([\n",
    "        pl.col('clk').mean().alias('ctr'),\n",
    "        pl.count().alias('count')\n",
    "    ])\n",
    "    # уберем те рекламные объявления, которые были показаны всего N раз\n",
    "    .filter(pl.col('count') > 1)\n",
    "    # сгруппируем ctr и adgroup_id в словарь и вызовем функцию get_top_candidates\n",
    "    .with_columns([pl.struct(ctr=pl.col('ctr'), adgroup_id=pl.col('adgroup_id')).alias('struct')])\n",
    "    .groupby('cate_id')\n",
    "    .agg(pl.col('struct').apply(get_top_candidates).alias('y_rec'))\n",
    ")\n",
    "grouped_tops"
   ]
  },
  {
   "cell_type": "code",
   "execution_count": 11,
   "id": "3eb1b128",
   "metadata": {},
   "outputs": [],
   "source": [
    "(\n",
    "    test\n",
    "    .join(behavioral_logs_top_categories, left_on='user_id', right_on='user')\n",
    "    .join(grouped_tops, left_on='cate', right_on='cate_id')\n",
    "    .select('user_id', 'y_rec')\n",
    "    .write_parquet('submission.parquet')\n",
    ")"
   ]
  }
 ],
 "metadata": {
  "kernelspec": {
   "display_name": "Python 3 (ipykernel)",
   "language": "python",
   "name": "python3"
  },
  "language_info": {
   "codemirror_mode": {
    "name": "ipython",
    "version": 3
   },
   "file_extension": ".py",
   "mimetype": "text/x-python",
   "name": "python",
   "nbconvert_exporter": "python",
   "pygments_lexer": "ipython3",
   "version": "3.10.10"
  }
 },
 "nbformat": 4,
 "nbformat_minor": 5
}
