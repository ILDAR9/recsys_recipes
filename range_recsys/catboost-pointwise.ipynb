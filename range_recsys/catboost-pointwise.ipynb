{
 "cells": [
  {
   "cell_type": "code",
   "execution_count": 1,
   "id": "9a69451c",
   "metadata": {},
   "outputs": [],
   "source": [
    "import optuna\n",
    "import random\n",
    "\n",
    "import polars as pl\n",
    "import pandas as pd\n",
    "import numpy as np\n",
    "\n",
    "from typing import List, Any\n",
    "import scipy.sparse as sp\n",
    "from tqdm import tqdm\n",
    "\n",
    "import implicit\n",
    "import faiss\n",
    "from gensim.models import Word2Vec\n",
    "\n",
    "from catboost import Pool, CatBoost, CatBoostClassifier, CatBoostRanker\n",
    "from sklearn.model_selection import train_test_split"
   ]
  },
  {
   "cell_type": "code",
   "execution_count": 2,
   "id": "4356d062",
   "metadata": {
    "scrolled": true
   },
   "outputs": [
    {
     "data": {
      "text/html": [
       "<div><style>\n",
       ".dataframe > thead > tr > th,\n",
       ".dataframe > tbody > tr > td {\n",
       "  text-align: right;\n",
       "}\n",
       "</style>\n",
       "<small>shape: (575_281, 4)</small><table border=\"1\" class=\"dataframe\"><thead><tr><th>user_id</th><th>item_id</th><th>rating</th><th>timestamp</th></tr><tr><td>i64</td><td>i64</td><td>i64</td><td>i64</td></tr></thead><tbody><tr><td>1</td><td>1193</td><td>5</td><td>978300760</td></tr><tr><td>1</td><td>3408</td><td>4</td><td>978300275</td></tr><tr><td>1</td><td>2355</td><td>5</td><td>978824291</td></tr><tr><td>1</td><td>1287</td><td>5</td><td>978302039</td></tr><tr><td>1</td><td>2804</td><td>5</td><td>978300719</td></tr><tr><td>1</td><td>594</td><td>4</td><td>978302268</td></tr><tr><td>1</td><td>919</td><td>4</td><td>978301368</td></tr><tr><td>1</td><td>595</td><td>5</td><td>978824268</td></tr><tr><td>1</td><td>938</td><td>4</td><td>978301752</td></tr><tr><td>1</td><td>2398</td><td>4</td><td>978302281</td></tr><tr><td>1</td><td>2918</td><td>4</td><td>978302124</td></tr><tr><td>1</td><td>1035</td><td>5</td><td>978301753</td></tr><tr><td>&hellip;</td><td>&hellip;</td><td>&hellip;</td><td>&hellip;</td></tr><tr><td>6040</td><td>2019</td><td>5</td><td>956703977</td></tr><tr><td>6040</td><td>541</td><td>4</td><td>956715288</td></tr><tr><td>6040</td><td>1077</td><td>5</td><td>964828799</td></tr><tr><td>6040</td><td>549</td><td>4</td><td>956704746</td></tr><tr><td>6040</td><td>2022</td><td>5</td><td>956716207</td></tr><tr><td>6040</td><td>2028</td><td>5</td><td>956704519</td></tr><tr><td>6040</td><td>1080</td><td>4</td><td>957717322</td></tr><tr><td>6040</td><td>1089</td><td>4</td><td>956704996</td></tr><tr><td>6040</td><td>1094</td><td>5</td><td>956704887</td></tr><tr><td>6040</td><td>562</td><td>5</td><td>956704746</td></tr><tr><td>6040</td><td>1096</td><td>4</td><td>956715648</td></tr><tr><td>6040</td><td>1097</td><td>4</td><td>956715569</td></tr></tbody></table></div>"
      ],
      "text/plain": [
       "shape: (575_281, 4)\n",
       "┌─────────┬─────────┬────────┬───────────┐\n",
       "│ user_id ┆ item_id ┆ rating ┆ timestamp │\n",
       "│ ---     ┆ ---     ┆ ---    ┆ ---       │\n",
       "│ i64     ┆ i64     ┆ i64    ┆ i64       │\n",
       "╞═════════╪═════════╪════════╪═══════════╡\n",
       "│ 1       ┆ 1193    ┆ 5      ┆ 978300760 │\n",
       "│ 1       ┆ 3408    ┆ 4      ┆ 978300275 │\n",
       "│ 1       ┆ 2355    ┆ 5      ┆ 978824291 │\n",
       "│ 1       ┆ 1287    ┆ 5      ┆ 978302039 │\n",
       "│ …       ┆ …       ┆ …      ┆ …         │\n",
       "│ 6040    ┆ 1094    ┆ 5      ┆ 956704887 │\n",
       "│ 6040    ┆ 562     ┆ 5      ┆ 956704746 │\n",
       "│ 6040    ┆ 1096    ┆ 4      ┆ 956715648 │\n",
       "│ 6040    ┆ 1097    ┆ 4      ┆ 956715569 │\n",
       "└─────────┴─────────┴────────┴───────────┘"
      ]
     },
     "execution_count": 2,
     "metadata": {},
     "output_type": "execute_result"
    }
   ],
   "source": [
    "ratings = pd.read_csv(\n",
    "    'ml-1m/ratings.dat', delimiter='::', header=None, \n",
    "    names=['user_id', 'item_id', 'rating', 'timestamp'], \n",
    "    engine='python'\n",
    ")\n",
    "ratings = pl.from_pandas(ratings).filter(pl.col('rating') >= 4)\n",
    "ratings"
   ]
  },
  {
   "cell_type": "code",
   "execution_count": 3,
   "id": "dc78e603",
   "metadata": {
    "scrolled": true
   },
   "outputs": [
    {
     "data": {
      "text/html": [
       "<div><style>\n",
       ".dataframe > thead > tr > th,\n",
       ".dataframe > tbody > tr > td {\n",
       "  text-align: right;\n",
       "}\n",
       "</style>\n",
       "<small>shape: (6_038, 5)</small><table border=\"1\" class=\"dataframe\"><thead><tr><th>user_id</th><th>train_item_ids</th><th>train_ratings</th><th>test_item_ids</th><th>test_ratings</th></tr><tr><td>i64</td><td>list[i64]</td><td>list[i64]</td><td>list[i64]</td><td>list[i64]</td></tr></thead><tbody><tr><td>1448</td><td>[2987, 571, … 1240]</td><td>[4, 4, … 5]</td><td>[1242, 1246, 1247]</td><td>[4, 5, 4]</td></tr><tr><td>4840</td><td>[588, 1, … 527]</td><td>[5, 4, … 5]</td><td>[531, 2013, 1097]</td><td>[4, 4, 4]</td></tr><tr><td>72</td><td>[3798, 2997, … 3753]</td><td>[4, 5, … 4]</td><td>[82, 2028, 1304]</td><td>[5, 5, 5]</td></tr><tr><td>4808</td><td>[2059, 588, … 3770]</td><td>[4, 4, … 5]</td><td>[3773, 2046, 2048]</td><td>[4, 5, 4]</td></tr><tr><td>4656</td><td>[585, 586, … 1073]</td><td>[4, 4, … 4]</td><td>[541, 2028, 551]</td><td>[5, 4, 4]</td></tr><tr><td>448</td><td>[2617, 2688, … 2763]</td><td>[4, 4, … 5]</td><td>[2959, 2028, 1097]</td><td>[5, 5, 4]</td></tr><tr><td>1784</td><td>[589, 593, … 32]</td><td>[5, 4, … 5]</td><td>[2916, 527, 2046]</td><td>[4, 5, 4]</td></tr><tr><td>4384</td><td>[574, 589, … 1092]</td><td>[4, 4, … 4]</td><td>[1093, 1094, 1095]</td><td>[5, 4, 5]</td></tr><tr><td>5840</td><td>[3791, 587, … 1073]</td><td>[4, 4, … 5]</td><td>[3763, 1088, 1097]</td><td>[4, 5, 5]</td></tr><tr><td>6040</td><td>[573, 589, … 1094]</td><td>[4, 4, … 5]</td><td>[562, 1096, 1097]</td><td>[5, 4, 4]</td></tr><tr><td>2144</td><td>[1258, 1407, … 1986]</td><td>[4, 5, … 4]</td><td>[70, 2959, 1222]</td><td>[4, 4, 4]</td></tr><tr><td>1312</td><td>[2054, 3799, … 2021]</td><td>[4, 4, … 4]</td><td>[1097, 3927, 1240]</td><td>[5, 4, 4]</td></tr><tr><td>&hellip;</td><td>&hellip;</td><td>&hellip;</td><td>&hellip;</td><td>&hellip;</td></tr><tr><td>927</td><td>[587, 588, … 3753]</td><td>[4, 4, … 5]</td><td>[543, 1225, 3785]</td><td>[4, 5, 4]</td></tr><tr><td>2687</td><td>[6, 3265, … 2952]</td><td>[5, 5, … 4]</td><td>[1213, 2959, 555]</td><td>[5, 5, 5]</td></tr><tr><td>3991</td><td>[2997, 3005, … 3751]</td><td>[4, 4, … 5]</td><td>[2959, 2037, 2038]</td><td>[5, 4, 5]</td></tr><tr><td>4327</td><td>[2054, 587, … 1085]</td><td>[4, 4, … 5]</td><td>[3770, 1090, 1092]</td><td>[4, 4, 4]</td></tr><tr><td>5527</td><td>[3006, 3060, … 2324]</td><td>[4, 4, … 5]</td><td>[1393, 2762, 1049]</td><td>[5, 5, 4]</td></tr><tr><td>3807</td><td>[3793, 2054, … 1092]</td><td>[5, 4, … 4]</td><td>[1097, 1240, 2043]</td><td>[5, 4, 4]</td></tr><tr><td>751</td><td>[1249, 1259, … 1210]</td><td>[4, 5, … 5]</td><td>[3753, 3917, 1092]</td><td>[4, 4, 4]</td></tr><tr><td>223</td><td>[2987, 2125, … 1091]</td><td>[5, 4, … 4]</td><td>[1097, 2114, 1246]</td><td>[4, 4, 4]</td></tr><tr><td>439</td><td>[7, 1409, … 2028]</td><td>[4, 5, … 5]</td><td>[3916, 1097, 1247]</td><td>[4, 5, 5]</td></tr><tr><td>975</td><td>[1252, 2058, … 1238]</td><td>[5, 4, … 5]</td><td>[1092, 1097, 1246]</td><td>[5, 4, 4]</td></tr><tr><td>2191</td><td>[750, 1610, … 2396]</td><td>[5, 4, … 5]</td><td>[2571, 318, 1083]</td><td>[5, 5, 5]</td></tr><tr><td>2279</td><td>[3789, 2987, … 2983]</td><td>[5, 4, … 4]</td><td>[2985, 3788, 1247]</td><td>[5, 4, 5]</td></tr></tbody></table></div>"
      ],
      "text/plain": [
       "shape: (6_038, 5)\n",
       "┌─────────┬──────────────────────┬───────────────┬────────────────────┬──────────────┐\n",
       "│ user_id ┆ train_item_ids       ┆ train_ratings ┆ test_item_ids      ┆ test_ratings │\n",
       "│ ---     ┆ ---                  ┆ ---           ┆ ---                ┆ ---          │\n",
       "│ i64     ┆ list[i64]            ┆ list[i64]     ┆ list[i64]          ┆ list[i64]    │\n",
       "╞═════════╪══════════════════════╪═══════════════╪════════════════════╪══════════════╡\n",
       "│ 1448    ┆ [2987, 571, … 1240]  ┆ [4, 4, … 5]   ┆ [1242, 1246, 1247] ┆ [4, 5, 4]    │\n",
       "│ 4840    ┆ [588, 1, … 527]      ┆ [5, 4, … 5]   ┆ [531, 2013, 1097]  ┆ [4, 4, 4]    │\n",
       "│ 72      ┆ [3798, 2997, … 3753] ┆ [4, 5, … 4]   ┆ [82, 2028, 1304]   ┆ [5, 5, 5]    │\n",
       "│ 4808    ┆ [2059, 588, … 3770]  ┆ [4, 4, … 5]   ┆ [3773, 2046, 2048] ┆ [4, 5, 4]    │\n",
       "│ …       ┆ …                    ┆ …             ┆ …                  ┆ …            │\n",
       "│ 439     ┆ [7, 1409, … 2028]    ┆ [4, 5, … 5]   ┆ [3916, 1097, 1247] ┆ [4, 5, 5]    │\n",
       "│ 975     ┆ [1252, 2058, … 1238] ┆ [5, 4, … 5]   ┆ [1092, 1097, 1246] ┆ [5, 4, 4]    │\n",
       "│ 2191    ┆ [750, 1610, … 2396]  ┆ [5, 4, … 5]   ┆ [2571, 318, 1083]  ┆ [5, 5, 5]    │\n",
       "│ 2279    ┆ [3789, 2987, … 2983] ┆ [5, 4, … 4]   ┆ [2985, 3788, 1247] ┆ [5, 4, 5]    │\n",
       "└─────────┴──────────────────────┴───────────────┴────────────────────┴──────────────┘"
      ]
     },
     "execution_count": 3,
     "metadata": {},
     "output_type": "execute_result"
    }
   ],
   "source": [
    "grouped_df = (\n",
    "    ratings\n",
    "    .groupby('user_id')\n",
    "    .agg([\n",
    "        pl.col('item_id').apply(lambda x: x[:-3]).alias('train_item_ids'),\n",
    "        pl.col('rating').apply(lambda x: x[:-3]).alias('train_ratings'),\n",
    "        pl.col('item_id').apply(lambda x: x[-3:]).alias('test_item_ids'),\n",
    "        pl.col('rating').apply(lambda x: x[-3:]).alias('test_ratings'),\n",
    "    ])\n",
    ")\n",
    "grouped_df"
   ]
  },
  {
   "cell_type": "code",
   "execution_count": 4,
   "id": "a7ff3103",
   "metadata": {},
   "outputs": [
    {
     "name": "stdout",
     "output_type": "stream",
     "text": [
      "средняя длина сессии 55\n"
     ]
    }
   ],
   "source": [
    "median_seq_len = int(grouped_df['train_item_ids'].apply(len).median())\n",
    "print(f\"средняя длина сессии {median_seq_len}\")"
   ]
  },
  {
   "cell_type": "code",
   "execution_count": 5,
   "id": "dba2d51c",
   "metadata": {},
   "outputs": [
    {
     "data": {
      "text/plain": [
       "<6041x3953 sparse matrix of type '<class 'numpy.float32'>'\n",
       "\twith 557171 stored elements in Compressed Sparse Row format>"
      ]
     },
     "execution_count": 5,
     "metadata": {},
     "output_type": "execute_result"
    }
   ],
   "source": [
    "# соберем строчки для разреженной матрицы\n",
    "rows = []\n",
    "cols = []\n",
    "values = []\n",
    "\n",
    "for user_id, train_item_ids, train_ratings in grouped_df.select('user_id', 'train_item_ids', 'train_ratings').rows():\n",
    "    rows.extend([user_id] * len(train_item_ids))\n",
    "    cols.extend(train_item_ids)\n",
    "    values.extend(train_ratings)\n",
    "\n",
    "user_item_data = sp.csr_matrix((values, (rows, cols)), dtype=np.float32)\n",
    "user_item_data"
   ]
  },
  {
   "cell_type": "code",
   "execution_count": 6,
   "id": "fb6832e3",
   "metadata": {},
   "outputs": [],
   "source": [
    "TOP_K = 20\n",
    "\n",
    "\n",
    "def user_hitrate(y_relevant: List[str], y_preds: List[str], k: int = TOP_K) -> int:\n",
    "    \"\"\"\n",
    "    :param y_rel: relevant items\n",
    "    :param y_rec: recommended items\n",
    "    :param k: number of top recommended items\n",
    "    :return: 1 if top-k recommendations contains at lease one relevant item\n",
    "    \"\"\"\n",
    "    return int(len(set(y_relevant).intersection(y_preds[:k])) > 0)\n",
    "\n",
    "\n",
    "def user_ndcg(y_rel: List[Any], y_rec: List[Any], k: int = TOP_K) -> float:\n",
    "    \"\"\"\n",
    "    :param y_rel: relevant items\n",
    "    :param y_rec: recommended items\n",
    "    :param k: number of top recommended items\n",
    "    :return: ndcg metric for user recommendations\n",
    "    \"\"\"\n",
    "    dcg = sum([1. / np.log2(idx + 2) for idx, item in enumerate(y_rec[:k]) if item in y_rel])\n",
    "    idcg = sum([1. / np.log2(idx + 2) for idx, _ in enumerate(zip(y_rel, np.arange(k)))])\n",
    "    return dcg / idcg"
   ]
  },
  {
   "cell_type": "code",
   "execution_count": 7,
   "id": "dc1ebc2b",
   "metadata": {},
   "outputs": [],
   "source": [
    "RANDOM_STATE = 42\n",
    "\n",
    "def set_seed():\n",
    "    random.seed(RANDOM_STATE)\n",
    "    np.random.seed(RANDOM_STATE)\n",
    "    \n",
    "    \n",
    "def get_recommendations(user_embs: np.array, item_embs: np.array, k: int = TOP_K):\n",
    "    # строим индекс объектов\n",
    "    index = faiss.IndexFlatIP(item_embs.shape[1])\n",
    "    index.add(item_embs)\n",
    "\n",
    "    # строим рекомендации с помощью dot-product расстояния\n",
    "    # с запасом, чтобы после фильтрации просмотренных осталось хотя бы TOP_K\n",
    "    return index.search(user_embs, k)"
   ]
  },
  {
   "cell_type": "markdown",
   "id": "e0c973ec",
   "metadata": {},
   "source": [
    "## ALS"
   ]
  },
  {
   "cell_type": "markdown",
   "id": "34d6568f",
   "metadata": {},
   "source": [
    "В качестве первой модели возьмем ALS факторизацию и подберем оптимальные гиперпараметры с помощью библиотеки `optuna`"
   ]
  },
  {
   "cell_type": "code",
   "execution_count": 8,
   "id": "12db87c9",
   "metadata": {
    "scrolled": true
   },
   "outputs": [
    {
     "name": "stderr",
     "output_type": "stream",
     "text": [
      "[I 2023-10-08 13:37:35,190] A new study created in memory with name: no-name-d07c46c8-1233-4f57-b1c8-043049528b60\n"
     ]
    },
    {
     "name": "stdout",
     "output_type": "stream",
     "text": [
      "{'factors': 16, 'iterations': 22, 'alpha': 1.2980733971075535, 'regularization': 0.8237628084522084}\n"
     ]
    },
    {
     "data": {
      "application/vnd.jupyter.widget-view+json": {
       "model_id": "fe94fb68e38a4849b1139a2e990fdda6",
       "version_major": 2,
       "version_minor": 0
      },
      "text/plain": [
       "  0%|          | 0/22 [00:00<?, ?it/s]"
      ]
     },
     "metadata": {},
     "output_type": "display_data"
    },
    {
     "name": "stderr",
     "output_type": "stream",
     "text": [
      "[I 2023-10-08 13:37:37,603] Trial 0 finished with value: 0.06374625453013871 and parameters: {'factors': 16, 'iterations': 22, 'alpha': 1.2980733971075535, 'regularization': 0.8237628084522084}. Best is trial 0 with value: 0.06374625453013871.\n"
     ]
    },
    {
     "name": "stdout",
     "output_type": "stream",
     "text": [
      "NDCG@20 = 0.06374625453013871\n",
      "{'factors': 47, 'iterations': 11, 'alpha': 1.2790531729943362, 'regularization': 0.47040171932694835}\n"
     ]
    },
    {
     "data": {
      "application/vnd.jupyter.widget-view+json": {
       "model_id": "c8c2d02bf90d4dd78ecb3996f14e0696",
       "version_major": 2,
       "version_minor": 0
      },
      "text/plain": [
       "  0%|          | 0/11 [00:00<?, ?it/s]"
      ]
     },
     "metadata": {},
     "output_type": "display_data"
    },
    {
     "name": "stderr",
     "output_type": "stream",
     "text": [
      "[I 2023-10-08 13:37:40,510] Trial 1 finished with value: 0.0703597635272655 and parameters: {'factors': 47, 'iterations': 11, 'alpha': 1.2790531729943362, 'regularization': 0.47040171932694835}. Best is trial 1 with value: 0.0703597635272655.\n"
     ]
    },
    {
     "name": "stdout",
     "output_type": "stream",
     "text": [
      "NDCG@20 = 0.0703597635272655\n",
      "{'factors': 45, 'iterations': 12, 'alpha': 3.159540093554007, 'regularization': 0.2893510445441296}\n"
     ]
    },
    {
     "data": {
      "application/vnd.jupyter.widget-view+json": {
       "model_id": "23b1076df90d4ad6bee0eb16f2ae05ac",
       "version_major": 2,
       "version_minor": 0
      },
      "text/plain": [
       "  0%|          | 0/12 [00:00<?, ?it/s]"
      ]
     },
     "metadata": {},
     "output_type": "display_data"
    },
    {
     "name": "stderr",
     "output_type": "stream",
     "text": [
      "[I 2023-10-08 13:37:43,803] Trial 2 finished with value: 0.06474666466103732 and parameters: {'factors': 45, 'iterations': 12, 'alpha': 3.159540093554007, 'regularization': 0.2893510445441296}. Best is trial 1 with value: 0.0703597635272655.\n"
     ]
    },
    {
     "name": "stdout",
     "output_type": "stream",
     "text": [
      "NDCG@20 = 0.06474666466103732\n",
      "{'factors': 83, 'iterations': 23, 'alpha': 4.498373870255871, 'regularization': 0.4905491650310873}\n"
     ]
    },
    {
     "data": {
      "application/vnd.jupyter.widget-view+json": {
       "model_id": "3353847a648b46e6bddc58e1892acf4b",
       "version_major": 2,
       "version_minor": 0
      },
      "text/plain": [
       "  0%|          | 0/23 [00:00<?, ?it/s]"
      ]
     },
     "metadata": {},
     "output_type": "display_data"
    },
    {
     "name": "stderr",
     "output_type": "stream",
     "text": [
      "[I 2023-10-08 13:37:54,989] Trial 3 finished with value: 0.06365754173097307 and parameters: {'factors': 83, 'iterations': 23, 'alpha': 4.498373870255871, 'regularization': 0.4905491650310873}. Best is trial 1 with value: 0.0703597635272655.\n"
     ]
    },
    {
     "name": "stdout",
     "output_type": "stream",
     "text": [
      "NDCG@20 = 0.06365754173097307\n",
      "{'factors': 60, 'iterations': 27, 'alpha': 0.7301388022596219, 'regularization': 0.22168368806292812}\n"
     ]
    },
    {
     "data": {
      "application/vnd.jupyter.widget-view+json": {
       "model_id": "57c7b67be314455fb48b8e9a6be1bfd5",
       "version_major": 2,
       "version_minor": 0
      },
      "text/plain": [
       "  0%|          | 0/27 [00:00<?, ?it/s]"
      ]
     },
     "metadata": {},
     "output_type": "display_data"
    },
    {
     "name": "stderr",
     "output_type": "stream",
     "text": [
      "[I 2023-10-08 13:38:06,173] Trial 4 finished with value: 0.07699509829571285 and parameters: {'factors': 60, 'iterations': 27, 'alpha': 0.7301388022596219, 'regularization': 0.22168368806292812}. Best is trial 4 with value: 0.07699509829571285.\n"
     ]
    },
    {
     "name": "stdout",
     "output_type": "stream",
     "text": [
      "NDCG@20 = 0.07699509829571285\n",
      "{'factors': 47, 'iterations': 20, 'alpha': 3.9929837813393463, 'regularization': 0.7996954115150592}\n"
     ]
    },
    {
     "data": {
      "application/vnd.jupyter.widget-view+json": {
       "model_id": "4cf297a534fb4efcb22a37a01c123d2b",
       "version_major": 2,
       "version_minor": 0
      },
      "text/plain": [
       "  0%|          | 0/20 [00:00<?, ?it/s]"
      ]
     },
     "metadata": {},
     "output_type": "display_data"
    },
    {
     "name": "stderr",
     "output_type": "stream",
     "text": [
      "[I 2023-10-08 13:38:13,209] Trial 5 finished with value: 0.061050239850323554 and parameters: {'factors': 47, 'iterations': 20, 'alpha': 3.9929837813393463, 'regularization': 0.7996954115150592}. Best is trial 4 with value: 0.07699509829571285.\n"
     ]
    },
    {
     "name": "stdout",
     "output_type": "stream",
     "text": [
      "NDCG@20 = 0.061050239850323554\n",
      "{'factors': 33, 'iterations': 10, 'alpha': 1.1336164429018136, 'regularization': 0.7366039187055663}\n"
     ]
    },
    {
     "data": {
      "application/vnd.jupyter.widget-view+json": {
       "model_id": "b245249ba3a941f2bc25ce620bb68056",
       "version_major": 2,
       "version_minor": 0
      },
      "text/plain": [
       "  0%|          | 0/10 [00:00<?, ?it/s]"
      ]
     },
     "metadata": {},
     "output_type": "display_data"
    },
    {
     "name": "stderr",
     "output_type": "stream",
     "text": [
      "[I 2023-10-08 13:38:15,423] Trial 6 finished with value: 0.06936496412130065 and parameters: {'factors': 33, 'iterations': 10, 'alpha': 1.1336164429018136, 'regularization': 0.7366039187055663}. Best is trial 4 with value: 0.07699509829571285.\n"
     ]
    },
    {
     "name": "stdout",
     "output_type": "stream",
     "text": [
      "NDCG@20 = 0.06936496412130065\n",
      "{'factors': 117, 'iterations': 9, 'alpha': 4.009204527247484, 'regularization': 0.25928774050090253}\n"
     ]
    },
    {
     "data": {
      "application/vnd.jupyter.widget-view+json": {
       "model_id": "24fb58d0c36d4a42b6b3b4d259344a13",
       "version_major": 2,
       "version_minor": 0
      },
      "text/plain": [
       "  0%|          | 0/9 [00:00<?, ?it/s]"
      ]
     },
     "metadata": {},
     "output_type": "display_data"
    },
    {
     "name": "stderr",
     "output_type": "stream",
     "text": [
      "[I 2023-10-08 13:38:26,272] Trial 7 finished with value: 0.06584217326148942 and parameters: {'factors': 117, 'iterations': 9, 'alpha': 4.009204527247484, 'regularization': 0.25928774050090253}. Best is trial 4 with value: 0.07699509829571285.\n"
     ]
    },
    {
     "name": "stdout",
     "output_type": "stream",
     "text": [
      "NDCG@20 = 0.06584217326148942\n",
      "{'factors': 126, 'iterations': 15, 'alpha': 0.7353353472171489, 'regularization': 0.7780306212622194}\n"
     ]
    },
    {
     "data": {
      "application/vnd.jupyter.widget-view+json": {
       "model_id": "e7bdc36148d74d1484fcfefcb808e8c0",
       "version_major": 2,
       "version_minor": 0
      },
      "text/plain": [
       "  0%|          | 0/15 [00:00<?, ?it/s]"
      ]
     },
     "metadata": {},
     "output_type": "display_data"
    },
    {
     "name": "stderr",
     "output_type": "stream",
     "text": [
      "[I 2023-10-08 13:38:47,371] Trial 8 finished with value: 0.07150734831370684 and parameters: {'factors': 126, 'iterations': 15, 'alpha': 0.7353353472171489, 'regularization': 0.7780306212622194}. Best is trial 4 with value: 0.07699509829571285.\n"
     ]
    },
    {
     "name": "stdout",
     "output_type": "stream",
     "text": [
      "NDCG@20 = 0.07150734831370684\n",
      "{'factors': 54, 'iterations': 27, 'alpha': 0.7889284445080836, 'regularization': 0.21551873178732905}\n"
     ]
    },
    {
     "data": {
      "application/vnd.jupyter.widget-view+json": {
       "model_id": "7b27a5830ce64b84a046cc7fb0092cf8",
       "version_major": 2,
       "version_minor": 0
      },
      "text/plain": [
       "  0%|          | 0/27 [00:00<?, ?it/s]"
      ]
     },
     "metadata": {},
     "output_type": "display_data"
    },
    {
     "name": "stderr",
     "output_type": "stream",
     "text": [
      "[I 2023-10-08 13:39:01,185] Trial 9 finished with value: 0.07438689340620668 and parameters: {'factors': 54, 'iterations': 27, 'alpha': 0.7889284445080836, 'regularization': 0.21551873178732905}. Best is trial 4 with value: 0.07699509829571285.\n"
     ]
    },
    {
     "name": "stdout",
     "output_type": "stream",
     "text": [
      "NDCG@20 = 0.07438689340620668\n",
      "{'factors': 84, 'iterations': 30, 'alpha': 0.14157397311529984, 'regularization': 0.024323717058256505}\n"
     ]
    },
    {
     "data": {
      "application/vnd.jupyter.widget-view+json": {
       "model_id": "971d40ca80d448c9b8133e29ad3fc02c",
       "version_major": 2,
       "version_minor": 0
      },
      "text/plain": [
       "  0%|          | 0/30 [00:00<?, ?it/s]"
      ]
     },
     "metadata": {},
     "output_type": "display_data"
    },
    {
     "name": "stderr",
     "output_type": "stream",
     "text": [
      "[I 2023-10-08 13:39:17,939] Trial 10 finished with value: 0.07420192417721956 and parameters: {'factors': 84, 'iterations': 30, 'alpha': 0.14157397311529984, 'regularization': 0.024323717058256505}. Best is trial 4 with value: 0.07699509829571285.\n"
     ]
    },
    {
     "name": "stdout",
     "output_type": "stream",
     "text": [
      "NDCG@20 = 0.07420192417721956\n",
      "{'factors': 72, 'iterations': 29, 'alpha': 2.0948285562661564, 'regularization': 0.08964483499552373}\n"
     ]
    },
    {
     "data": {
      "application/vnd.jupyter.widget-view+json": {
       "model_id": "bdfdb604a14648d9b3bea72bca81bc0a",
       "version_major": 2,
       "version_minor": 0
      },
      "text/plain": [
       "  0%|          | 0/29 [00:00<?, ?it/s]"
      ]
     },
     "metadata": {},
     "output_type": "display_data"
    },
    {
     "name": "stderr",
     "output_type": "stream",
     "text": [
      "[I 2023-10-08 13:39:38,380] Trial 11 finished with value: 0.069575531659918 and parameters: {'factors': 72, 'iterations': 29, 'alpha': 2.0948285562661564, 'regularization': 0.08964483499552373}. Best is trial 4 with value: 0.07699509829571285.\n"
     ]
    },
    {
     "name": "stdout",
     "output_type": "stream",
     "text": [
      "NDCG@20 = 0.069575531659918\n",
      "{'factors': 61, 'iterations': 26, 'alpha': 0.20939109408878598, 'regularization': 0.22379629301465345}\n"
     ]
    },
    {
     "data": {
      "application/vnd.jupyter.widget-view+json": {
       "model_id": "faaa0175d85f4e54aa367f9c2b6778fe",
       "version_major": 2,
       "version_minor": 0
      },
      "text/plain": [
       "  0%|          | 0/26 [00:00<?, ?it/s]"
      ]
     },
     "metadata": {},
     "output_type": "display_data"
    },
    {
     "name": "stderr",
     "output_type": "stream",
     "text": [
      "[I 2023-10-08 13:40:11,364] Trial 12 finished with value: 0.08066796259561843 and parameters: {'factors': 61, 'iterations': 26, 'alpha': 0.20939109408878598, 'regularization': 0.22379629301465345}. Best is trial 12 with value: 0.08066796259561843.\n"
     ]
    },
    {
     "name": "stdout",
     "output_type": "stream",
     "text": [
      "NDCG@20 = 0.08066796259561843\n",
      "{'factors': 98, 'iterations': 25, 'alpha': 0.19797414321365217, 'regularization': 0.38565552111256607}\n"
     ]
    },
    {
     "data": {
      "application/vnd.jupyter.widget-view+json": {
       "model_id": "64d7d99cd4e444509cd4010d688cea60",
       "version_major": 2,
       "version_minor": 0
      },
      "text/plain": [
       "  0%|          | 0/25 [00:00<?, ?it/s]"
      ]
     },
     "metadata": {},
     "output_type": "display_data"
    },
    {
     "name": "stderr",
     "output_type": "stream",
     "text": [
      "[I 2023-10-08 13:40:32,872] Trial 13 finished with value: 0.07313270364882624 and parameters: {'factors': 98, 'iterations': 25, 'alpha': 0.19797414321365217, 'regularization': 0.38565552111256607}. Best is trial 12 with value: 0.08066796259561843.\n"
     ]
    },
    {
     "name": "stdout",
     "output_type": "stream",
     "text": [
      "NDCG@20 = 0.07313270364882624\n",
      "{'factors': 65, 'iterations': 18, 'alpha': 1.8868675069480876, 'regularization': 0.1294102899468391}\n"
     ]
    },
    {
     "data": {
      "application/vnd.jupyter.widget-view+json": {
       "model_id": "95b91efd317e4a928af9dc3e1a103c10",
       "version_major": 2,
       "version_minor": 0
      },
      "text/plain": [
       "  0%|          | 0/18 [00:00<?, ?it/s]"
      ]
     },
     "metadata": {},
     "output_type": "display_data"
    },
    {
     "name": "stderr",
     "output_type": "stream",
     "text": [
      "[I 2023-10-08 13:40:59,543] Trial 14 finished with value: 0.06984251232545037 and parameters: {'factors': 65, 'iterations': 18, 'alpha': 1.8868675069480876, 'regularization': 0.1294102899468391}. Best is trial 12 with value: 0.08066796259561843.\n"
     ]
    },
    {
     "name": "stdout",
     "output_type": "stream",
     "text": [
      "NDCG@20 = 0.06984251232545037\n",
      "{'factors': 26, 'iterations': 25, 'alpha': 0.1551685589558227, 'regularization': 0.001960619806722269}\n"
     ]
    },
    {
     "data": {
      "application/vnd.jupyter.widget-view+json": {
       "model_id": "e6b2222c7c234995b9776a8aad8914ab",
       "version_major": 2,
       "version_minor": 0
      },
      "text/plain": [
       "  0%|          | 0/25 [00:00<?, ?it/s]"
      ]
     },
     "metadata": {},
     "output_type": "display_data"
    },
    {
     "name": "stderr",
     "output_type": "stream",
     "text": [
      "[I 2023-10-08 13:41:03,596] Trial 15 finished with value: 0.07899412533580902 and parameters: {'factors': 26, 'iterations': 25, 'alpha': 0.1551685589558227, 'regularization': 0.001960619806722269}. Best is trial 12 with value: 0.08066796259561843.\n"
     ]
    },
    {
     "name": "stdout",
     "output_type": "stream",
     "text": [
      "NDCG@20 = 0.07899412533580902\n",
      "{'factors': 11, 'iterations': 5, 'alpha': 0.12662983009760548, 'regularization': 0.04104337694633558}\n"
     ]
    },
    {
     "data": {
      "application/vnd.jupyter.widget-view+json": {
       "model_id": "7d8148b372ba4b50932e16bf32f0797d",
       "version_major": 2,
       "version_minor": 0
      },
      "text/plain": [
       "  0%|          | 0/5 [00:00<?, ?it/s]"
      ]
     },
     "metadata": {},
     "output_type": "display_data"
    },
    {
     "name": "stderr",
     "output_type": "stream",
     "text": [
      "[I 2023-10-08 13:41:04,701] Trial 16 finished with value: 0.06960281396190923 and parameters: {'factors': 11, 'iterations': 5, 'alpha': 0.12662983009760548, 'regularization': 0.04104337694633558}. Best is trial 12 with value: 0.08066796259561843.\n"
     ]
    },
    {
     "name": "stdout",
     "output_type": "stream",
     "text": [
      "NDCG@20 = 0.06960281396190923\n",
      "{'factors': 28, 'iterations': 24, 'alpha': 2.6782054025501187, 'regularization': 0.015053800535140188}\n"
     ]
    },
    {
     "data": {
      "application/vnd.jupyter.widget-view+json": {
       "model_id": "9617e7247f494cccad0943039484a3b0",
       "version_major": 2,
       "version_minor": 0
      },
      "text/plain": [
       "  0%|          | 0/24 [00:00<?, ?it/s]"
      ]
     },
     "metadata": {},
     "output_type": "display_data"
    },
    {
     "name": "stderr",
     "output_type": "stream",
     "text": [
      "[I 2023-10-08 13:41:08,613] Trial 17 finished with value: 0.06353795046898754 and parameters: {'factors': 28, 'iterations': 24, 'alpha': 2.6782054025501187, 'regularization': 0.015053800535140188}. Best is trial 12 with value: 0.08066796259561843.\n"
     ]
    },
    {
     "name": "stdout",
     "output_type": "stream",
     "text": [
      "NDCG@20 = 0.06353795046898754\n",
      "{'factors': 28, 'iterations': 17, 'alpha': 1.8466242539531883, 'regularization': 0.1540589051482909}\n"
     ]
    },
    {
     "data": {
      "application/vnd.jupyter.widget-view+json": {
       "model_id": "9d5f779b0d6d4ee9b72072f37db5dece",
       "version_major": 2,
       "version_minor": 0
      },
      "text/plain": [
       "  0%|          | 0/17 [00:00<?, ?it/s]"
      ]
     },
     "metadata": {},
     "output_type": "display_data"
    },
    {
     "name": "stderr",
     "output_type": "stream",
     "text": [
      "[I 2023-10-08 13:41:11,559] Trial 18 finished with value: 0.06482571794262887 and parameters: {'factors': 28, 'iterations': 17, 'alpha': 1.8466242539531883, 'regularization': 0.1540589051482909}. Best is trial 12 with value: 0.08066796259561843.\n"
     ]
    },
    {
     "name": "stdout",
     "output_type": "stream",
     "text": [
      "NDCG@20 = 0.06482571794262887\n",
      "{'factors': 104, 'iterations': 26, 'alpha': 0.546668755171372, 'regularization': 0.3604277738955223}\n"
     ]
    },
    {
     "data": {
      "application/vnd.jupyter.widget-view+json": {
       "model_id": "92af57ed69c94d809e56e2966b684a46",
       "version_major": 2,
       "version_minor": 0
      },
      "text/plain": [
       "  0%|          | 0/26 [00:00<?, ?it/s]"
      ]
     },
     "metadata": {},
     "output_type": "display_data"
    },
    {
     "name": "stderr",
     "output_type": "stream",
     "text": [
      "[I 2023-10-08 13:41:31,888] Trial 19 finished with value: 0.07356113356684539 and parameters: {'factors': 104, 'iterations': 26, 'alpha': 0.546668755171372, 'regularization': 0.3604277738955223}. Best is trial 12 with value: 0.08066796259561843.\n"
     ]
    },
    {
     "name": "stdout",
     "output_type": "stream",
     "text": [
      "NDCG@20 = 0.07356113356684539\n"
     ]
    },
    {
     "data": {
      "text/plain": [
       "{'factors': 61,\n",
       " 'iterations': 26,\n",
       " 'alpha': 0.20939109408878598,\n",
       " 'regularization': 0.22379629301465345}"
      ]
     },
     "execution_count": 8,
     "metadata": {},
     "output_type": "execute_result"
    }
   ],
   "source": [
    "def objective(trial):\n",
    "    factors = trial.suggest_int('factors', 8, 128)\n",
    "    iterations = trial.suggest_int('iterations', 5, 30)\n",
    "    alpha = trial.suggest_float('alpha', 0.1, 5.0)\n",
    "    regularization = trial.suggest_float('regularization', 1e-3, 1.0)\n",
    "        \n",
    "    print({\n",
    "        'factors': factors,\n",
    "        'iterations': iterations,\n",
    "        'alpha': alpha,\n",
    "        'regularization': regularization,\n",
    "    })\n",
    "    \n",
    "    set_seed()\n",
    "    als_model = implicit.als.AlternatingLeastSquares(\n",
    "        factors=factors,\n",
    "        iterations=iterations,\n",
    "        random_state=RANDOM_STATE,\n",
    "        alpha=alpha,\n",
    "        regularization=regularization\n",
    "    )\n",
    "    als_model.fit(user_item_data)\n",
    "    \n",
    "    _, recs = get_recommendations(\n",
    "        als_model.user_factors,\n",
    "        als_model.item_factors,\n",
    "        TOP_K + median_seq_len\n",
    "    )\n",
    "    \n",
    "    ndcg_list = []\n",
    "    for user_id, user_history, y_rel in grouped_df.select('user_id', 'train_item_ids', 'test_item_ids').rows():\n",
    "        y_rec = [item_id for item_id in recs[user_id] if item_id not in user_history]\n",
    "        ndcg_list.append(user_ndcg(y_rel, y_rec))\n",
    "    mean_ndcg = np.mean(ndcg_list)\n",
    "    print(f'NDCG@{TOP_K} = {mean_ndcg}')\n",
    "    return mean_ndcg\n",
    "    \n",
    "    \n",
    "study = optuna.create_study(directions=('maximize',))\n",
    "study.optimize(objective, n_trials=20)\n",
    "\n",
    "study.best_params"
   ]
  },
  {
   "cell_type": "code",
   "execution_count": 8,
   "id": "9efe0800",
   "metadata": {},
   "outputs": [
    {
     "data": {
      "application/vnd.jupyter.widget-view+json": {
       "model_id": "7d3049796818498a9d9a980a04512813",
       "version_major": 2,
       "version_minor": 0
      },
      "text/plain": [
       "  0%|          | 0/50 [00:00<?, ?it/s]"
      ]
     },
     "metadata": {},
     "output_type": "display_data"
    },
    {
     "name": "stdout",
     "output_type": "stream",
     "text": [
      "NDCG@20 = 0.0760, Hitrate@20 = 0.3264\n"
     ]
    }
   ],
   "source": [
    "set_seed()\n",
    "als_model = implicit.als.AlternatingLeastSquares(\n",
    "    factors=70,\n",
    "    iterations=50,\n",
    "    random_state=RANDOM_STATE,\n",
    "    regularization=0.5,\n",
    "    alpha=0.7,\n",
    ")\n",
    "als_model.fit(user_item_data)\n",
    "\n",
    "_, als_recs = get_recommendations(\n",
    "    als_model.user_factors,\n",
    "    als_model.item_factors,\n",
    "    TOP_K + median_seq_len\n",
    ")\n",
    "\n",
    "ndcg_list = []\n",
    "hitrate_list = []\n",
    "for user_id, user_history, y_rel in grouped_df.select('user_id', 'train_item_ids', 'test_item_ids').rows():\n",
    "    y_rec = [item_id for item_id in als_recs[user_id] if item_id not in user_history]\n",
    "    ndcg_list.append(user_ndcg(y_rel, y_rec))\n",
    "    hitrate_list.append(user_hitrate(y_rel, y_rec))\n",
    "print(f'NDCG@{TOP_K} = {np.mean(ndcg_list):.4f}, Hitrate@{TOP_K} = {np.mean(hitrate_list):.4f}')"
   ]
  },
  {
   "cell_type": "markdown",
   "id": "e9fbe423",
   "metadata": {},
   "source": [
    "## Word2Vec"
   ]
  },
  {
   "cell_type": "markdown",
   "id": "0f25c4e1",
   "metadata": {},
   "source": [
    "В качестве второго подхода попробуем использовать сессионные рекомендации и модель w2v, для нее так же подберем оптимальные гиперпараметры с помощью библиотеки `optuna`"
   ]
  },
  {
   "cell_type": "code",
   "execution_count": 14,
   "id": "64e32962",
   "metadata": {
    "scrolled": true
   },
   "outputs": [
    {
     "name": "stderr",
     "output_type": "stream",
     "text": [
      "[I 2023-09-28 13:19:04,169] A new study created in memory with name: no-name-12a81c96-ab9c-44df-963f-8477f49709e3\n"
     ]
    },
    {
     "name": "stdout",
     "output_type": "stream",
     "text": [
      "{'sg': 1, 'window_len': 10, 'ns_exponent': -2.8148944733799937, 'negative': 3, 'min_count': 5, 'vector_size': 16}\n"
     ]
    },
    {
     "name": "stderr",
     "output_type": "stream",
     "text": [
      "[I 2023-09-28 13:19:10,203] Trial 0 finished with value: 0.07070304176177117 and parameters: {'sg': 1, 'window': 10, 'ns_exponent': -2.8148944733799937, 'negative': 3, 'min_count': 5, 'vector_size': 16}. Best is trial 0 with value: 0.07070304176177117.\n"
     ]
    },
    {
     "name": "stdout",
     "output_type": "stream",
     "text": [
      "NDCG@20 = 0.07070304176177117\n",
      "{'sg': 1, 'window_len': 5, 'ns_exponent': -0.07444822537703732, 'negative': 18, 'min_count': 16, 'vector_size': 32}\n"
     ]
    },
    {
     "name": "stderr",
     "output_type": "stream",
     "text": [
      "[I 2023-09-28 13:19:24,263] Trial 1 finished with value: 0.06581562501419552 and parameters: {'sg': 1, 'window': 5, 'ns_exponent': -0.07444822537703732, 'negative': 18, 'min_count': 16, 'vector_size': 32}. Best is trial 0 with value: 0.07070304176177117.\n"
     ]
    },
    {
     "name": "stdout",
     "output_type": "stream",
     "text": [
      "NDCG@20 = 0.06581562501419552\n",
      "{'sg': 1, 'window_len': 6, 'ns_exponent': 2.499336282479147, 'negative': 9, 'min_count': 4, 'vector_size': 16}\n"
     ]
    },
    {
     "name": "stderr",
     "output_type": "stream",
     "text": [
      "[I 2023-09-28 13:19:32,086] Trial 2 finished with value: 0.0659551796449718 and parameters: {'sg': 1, 'window': 6, 'ns_exponent': 2.499336282479147, 'negative': 9, 'min_count': 4, 'vector_size': 16}. Best is trial 0 with value: 0.07070304176177117.\n"
     ]
    },
    {
     "name": "stdout",
     "output_type": "stream",
     "text": [
      "NDCG@20 = 0.0659551796449718\n",
      "{'sg': 0, 'window_len': 3, 'ns_exponent': -0.701171263042756, 'negative': 8, 'min_count': 12, 'vector_size': 16}\n"
     ]
    },
    {
     "name": "stderr",
     "output_type": "stream",
     "text": [
      "[I 2023-09-28 13:19:35,564] Trial 3 finished with value: 0.11303485484295084 and parameters: {'sg': 0, 'window': 3, 'ns_exponent': -0.701171263042756, 'negative': 8, 'min_count': 12, 'vector_size': 16}. Best is trial 3 with value: 0.11303485484295084.\n"
     ]
    },
    {
     "name": "stdout",
     "output_type": "stream",
     "text": [
      "NDCG@20 = 0.11303485484295084\n",
      "{'sg': 1, 'window_len': 10, 'ns_exponent': -2.5879660913130937, 'negative': 3, 'min_count': 15, 'vector_size': 32}\n"
     ]
    },
    {
     "name": "stderr",
     "output_type": "stream",
     "text": [
      "[I 2023-09-28 13:19:44,088] Trial 4 finished with value: 0.04247340719368319 and parameters: {'sg': 1, 'window': 10, 'ns_exponent': -2.5879660913130937, 'negative': 3, 'min_count': 15, 'vector_size': 32}. Best is trial 3 with value: 0.11303485484295084.\n"
     ]
    },
    {
     "name": "stdout",
     "output_type": "stream",
     "text": [
      "NDCG@20 = 0.04247340719368319\n",
      "{'sg': 0, 'window_len': 8, 'ns_exponent': 0.8731775605983865, 'negative': 6, 'min_count': 16, 'vector_size': 16}\n"
     ]
    },
    {
     "name": "stderr",
     "output_type": "stream",
     "text": [
      "[I 2023-09-28 13:19:47,500] Trial 5 finished with value: 0.047637661721706505 and parameters: {'sg': 0, 'window': 8, 'ns_exponent': 0.8731775605983865, 'negative': 6, 'min_count': 16, 'vector_size': 16}. Best is trial 3 with value: 0.11303485484295084.\n"
     ]
    },
    {
     "name": "stdout",
     "output_type": "stream",
     "text": [
      "NDCG@20 = 0.047637661721706505\n",
      "{'sg': 0, 'window_len': 3, 'ns_exponent': -1.0306459459890838, 'negative': 13, 'min_count': 6, 'vector_size': 32}\n"
     ]
    },
    {
     "name": "stderr",
     "output_type": "stream",
     "text": [
      "[I 2023-09-28 13:19:51,784] Trial 6 finished with value: 0.1047335420974221 and parameters: {'sg': 0, 'window': 3, 'ns_exponent': -1.0306459459890838, 'negative': 13, 'min_count': 6, 'vector_size': 32}. Best is trial 3 with value: 0.11303485484295084.\n"
     ]
    },
    {
     "name": "stdout",
     "output_type": "stream",
     "text": [
      "NDCG@20 = 0.1047335420974221\n",
      "{'sg': 0, 'window_len': 9, 'ns_exponent': 2.1445807942766146, 'negative': 10, 'min_count': 12, 'vector_size': 64}\n"
     ]
    },
    {
     "name": "stderr",
     "output_type": "stream",
     "text": [
      "[I 2023-09-28 13:19:57,330] Trial 7 finished with value: 0.018200755266323587 and parameters: {'sg': 0, 'window': 9, 'ns_exponent': 2.1445807942766146, 'negative': 10, 'min_count': 12, 'vector_size': 64}. Best is trial 3 with value: 0.11303485484295084.\n"
     ]
    },
    {
     "name": "stdout",
     "output_type": "stream",
     "text": [
      "NDCG@20 = 0.018200755266323587\n",
      "{'sg': 1, 'window_len': 7, 'ns_exponent': -0.7512612633370499, 'negative': 10, 'min_count': 7, 'vector_size': 64}\n"
     ]
    },
    {
     "name": "stderr",
     "output_type": "stream",
     "text": [
      "[I 2023-09-28 13:20:11,787] Trial 8 finished with value: 0.05010055886348278 and parameters: {'sg': 1, 'window': 7, 'ns_exponent': -0.7512612633370499, 'negative': 10, 'min_count': 7, 'vector_size': 64}. Best is trial 3 with value: 0.11303485484295084.\n"
     ]
    },
    {
     "name": "stdout",
     "output_type": "stream",
     "text": [
      "NDCG@20 = 0.05010055886348278\n",
      "{'sg': 0, 'window_len': 3, 'ns_exponent': 1.2948497838755424, 'negative': 14, 'min_count': 17, 'vector_size': 128}\n"
     ]
    },
    {
     "name": "stderr",
     "output_type": "stream",
     "text": [
      "[I 2023-09-28 13:20:17,183] Trial 9 finished with value: 0.054952656323472786 and parameters: {'sg': 0, 'window': 3, 'ns_exponent': 1.2948497838755424, 'negative': 14, 'min_count': 17, 'vector_size': 128}. Best is trial 3 with value: 0.11303485484295084.\n"
     ]
    },
    {
     "name": "stdout",
     "output_type": "stream",
     "text": [
      "NDCG@20 = 0.054952656323472786\n",
      "{'sg': 0, 'window_len': 1, 'ns_exponent': -1.780995584699475, 'negative': 20, 'min_count': 0, 'vector_size': 128}\n"
     ]
    },
    {
     "name": "stderr",
     "output_type": "stream",
     "text": [
      "[I 2023-09-28 13:20:23,379] Trial 10 finished with value: 0.08164655565404855 and parameters: {'sg': 0, 'window': 1, 'ns_exponent': -1.780995584699475, 'negative': 20, 'min_count': 0, 'vector_size': 128}. Best is trial 3 with value: 0.11303485484295084.\n"
     ]
    },
    {
     "name": "stdout",
     "output_type": "stream",
     "text": [
      "NDCG@20 = 0.08164655565404855\n",
      "{'sg': 0, 'window_len': 3, 'ns_exponent': -1.0059196568273143, 'negative': 14, 'min_count': 11, 'vector_size': 32}\n"
     ]
    },
    {
     "name": "stderr",
     "output_type": "stream",
     "text": [
      "[I 2023-09-28 13:20:29,251] Trial 11 finished with value: 0.11060084233633524 and parameters: {'sg': 0, 'window': 3, 'ns_exponent': -1.0059196568273143, 'negative': 14, 'min_count': 11, 'vector_size': 32}. Best is trial 3 with value: 0.11303485484295084.\n"
     ]
    },
    {
     "name": "stdout",
     "output_type": "stream",
     "text": [
      "NDCG@20 = 0.11060084233633524\n",
      "{'sg': 0, 'window_len': 3, 'ns_exponent': -1.1335310925030724, 'negative': 16, 'min_count': 10, 'vector_size': 16}\n"
     ]
    },
    {
     "name": "stderr",
     "output_type": "stream",
     "text": [
      "[I 2023-09-28 13:20:34,155] Trial 12 finished with value: 0.13018802807298602 and parameters: {'sg': 0, 'window': 3, 'ns_exponent': -1.1335310925030724, 'negative': 16, 'min_count': 10, 'vector_size': 16}. Best is trial 12 with value: 0.13018802807298602.\n"
     ]
    },
    {
     "name": "stdout",
     "output_type": "stream",
     "text": [
      "NDCG@20 = 0.13018802807298602\n",
      "{'sg': 0, 'window_len': 1, 'ns_exponent': 0.08995002818962561, 'negative': 17, 'min_count': 10, 'vector_size': 16}\n"
     ]
    },
    {
     "name": "stderr",
     "output_type": "stream",
     "text": [
      "[I 2023-09-28 13:20:38,030] Trial 13 finished with value: 0.1591000578367207 and parameters: {'sg': 0, 'window': 1, 'ns_exponent': 0.08995002818962561, 'negative': 17, 'min_count': 10, 'vector_size': 16}. Best is trial 13 with value: 0.1591000578367207.\n"
     ]
    },
    {
     "name": "stdout",
     "output_type": "stream",
     "text": [
      "NDCG@20 = 0.1591000578367207\n",
      "{'sg': 0, 'window_len': 1, 'ns_exponent': 0.42131771744734636, 'negative': 17, 'min_count': 9, 'vector_size': 16}\n"
     ]
    },
    {
     "name": "stderr",
     "output_type": "stream",
     "text": [
      "[I 2023-09-28 13:20:43,501] Trial 14 finished with value: 0.15500329166041557 and parameters: {'sg': 0, 'window': 1, 'ns_exponent': 0.42131771744734636, 'negative': 17, 'min_count': 9, 'vector_size': 16}. Best is trial 13 with value: 0.1591000578367207.\n"
     ]
    },
    {
     "name": "stdout",
     "output_type": "stream",
     "text": [
      "NDCG@20 = 0.15500329166041557\n",
      "{'sg': 0, 'window_len': 1, 'ns_exponent': 0.6308573564890306, 'negative': 17, 'min_count': 9, 'vector_size': 16}\n"
     ]
    },
    {
     "name": "stderr",
     "output_type": "stream",
     "text": [
      "[I 2023-09-28 13:20:47,982] Trial 15 finished with value: 0.14136445297845335 and parameters: {'sg': 0, 'window': 1, 'ns_exponent': 0.6308573564890306, 'negative': 17, 'min_count': 9, 'vector_size': 16}. Best is trial 13 with value: 0.1591000578367207.\n"
     ]
    },
    {
     "name": "stdout",
     "output_type": "stream",
     "text": [
      "NDCG@20 = 0.14136445297845335\n",
      "{'sg': 0, 'window_len': 1, 'ns_exponent': 0.21930657529045242, 'negative': 20, 'min_count': 3, 'vector_size': 16}\n"
     ]
    },
    {
     "name": "stderr",
     "output_type": "stream",
     "text": [
      "[I 2023-09-28 13:20:53,254] Trial 16 finished with value: 0.16246831868333328 and parameters: {'sg': 0, 'window': 1, 'ns_exponent': 0.21930657529045242, 'negative': 20, 'min_count': 3, 'vector_size': 16}. Best is trial 16 with value: 0.16246831868333328.\n"
     ]
    },
    {
     "name": "stdout",
     "output_type": "stream",
     "text": [
      "NDCG@20 = 0.16246831868333328\n",
      "{'sg': 0, 'window_len': 5, 'ns_exponent': 1.5251991806935847, 'negative': 20, 'min_count': 1, 'vector_size': 16}\n"
     ]
    },
    {
     "name": "stderr",
     "output_type": "stream",
     "text": [
      "[I 2023-09-28 13:20:57,952] Trial 17 finished with value: 0.07368306683727002 and parameters: {'sg': 0, 'window': 5, 'ns_exponent': 1.5251991806935847, 'negative': 20, 'min_count': 1, 'vector_size': 16}. Best is trial 16 with value: 0.16246831868333328.\n"
     ]
    },
    {
     "name": "stdout",
     "output_type": "stream",
     "text": [
      "NDCG@20 = 0.07368306683727002\n",
      "{'sg': 0, 'window_len': 2, 'ns_exponent': 0.019576694493158277, 'negative': 19, 'min_count': 19, 'vector_size': 128}\n"
     ]
    },
    {
     "name": "stderr",
     "output_type": "stream",
     "text": [
      "[I 2023-09-28 13:21:05,576] Trial 18 finished with value: 0.13134996798453677 and parameters: {'sg': 0, 'window': 2, 'ns_exponent': 0.019576694493158277, 'negative': 19, 'min_count': 19, 'vector_size': 128}. Best is trial 16 with value: 0.16246831868333328.\n"
     ]
    },
    {
     "name": "stdout",
     "output_type": "stream",
     "text": [
      "NDCG@20 = 0.13134996798453677\n",
      "{'sg': 0, 'window_len': 4, 'ns_exponent': -0.07850640884224044, 'negative': 15, 'min_count': 3, 'vector_size': 64}\n"
     ]
    },
    {
     "name": "stderr",
     "output_type": "stream",
     "text": [
      "[I 2023-09-28 13:21:11,470] Trial 19 finished with value: 0.08944864109974976 and parameters: {'sg': 0, 'window': 4, 'ns_exponent': -0.07850640884224044, 'negative': 15, 'min_count': 3, 'vector_size': 64}. Best is trial 16 with value: 0.16246831868333328.\n"
     ]
    },
    {
     "name": "stdout",
     "output_type": "stream",
     "text": [
      "NDCG@20 = 0.08944864109974976\n"
     ]
    },
    {
     "data": {
      "text/plain": [
       "{'sg': 0,\n",
       " 'window': 1,\n",
       " 'ns_exponent': 0.21930657529045242,\n",
       " 'negative': 20,\n",
       " 'min_count': 3,\n",
       " 'vector_size': 16}"
      ]
     },
     "execution_count": 14,
     "metadata": {},
     "output_type": "execute_result"
    }
   ],
   "source": [
    "def evaluate_model(model):\n",
    "    ndcg_list = []\n",
    "    hitrate_list = []\n",
    "    for train_ids, y_rel in grouped_df.select('train_item_ids', 'test_item_ids').rows():\n",
    "        model_preds = model.predict_output_word(train_ids[-model.window:], topn=(TOP_K + len(train_ids)))\n",
    "        if model_preds is None:\n",
    "            ndcg_list.append(0)\n",
    "            hitrate_list.append(0)\n",
    "            continue\n",
    "\n",
    "        y_rec = [pred[0] for pred in model_preds if pred[0] not in train_ids]\n",
    "        ndcg_list.append(user_ndcg(y_rel, y_rec))\n",
    "        hitrate_list.append(user_hitrate(y_rel, y_rec))\n",
    "    return np.mean(ndcg_list), np.mean(hitrate_list)\n",
    "\n",
    "\n",
    "def objective(trial):\n",
    "    sg = trial.suggest_categorical('sg', [0, 1])\n",
    "    window = trial.suggest_int('window', 1, 10)\n",
    "    ns_exponent = trial.suggest_float('ns_exponent', -3, 3)\n",
    "    negative = trial.suggest_int('negative', 3, 20)\n",
    "    min_count = trial.suggest_int('min_count', 0, 20)\n",
    "    vector_size = trial.suggest_categorical('vector_size', [16, 32, 64, 128])\n",
    "    \n",
    "    print({\n",
    "        'sg': sg,\n",
    "        'window_len': window,\n",
    "        'ns_exponent': ns_exponent,\n",
    "        'negative': negative,\n",
    "        'min_count': min_count,\n",
    "        'vector_size': vector_size,\n",
    "    })\n",
    "    \n",
    "    set_seed()\n",
    "    model = Word2Vec(\n",
    "        grouped_df['train_item_ids'].to_list(),\n",
    "        window=window,\n",
    "        sg=sg,\n",
    "        hs=0,\n",
    "        min_count=min_count,\n",
    "        vector_size=vector_size,\n",
    "        negative=negative,\n",
    "        ns_exponent=ns_exponent,\n",
    "        seed=RANDOM_STATE,\n",
    "        epochs=10,\n",
    "    )\n",
    "    \n",
    "    mean_ndcg, mean_hitrate = evaluate_model(model)\n",
    "    print(f'NDCG@{TOP_K} = {mean_ndcg:.4f}, Hitrate@{TOP_K} = {mean_hitrate:.4f}')\n",
    "    return mean_ndcg\n",
    "    \n",
    "    \n",
    "study = optuna.create_study(directions=('maximize',))\n",
    "study.optimize(objective, n_trials=20)\n",
    "\n",
    "study.best_params"
   ]
  },
  {
   "cell_type": "code",
   "execution_count": 15,
   "id": "3e2493e5",
   "metadata": {
    "scrolled": true
   },
   "outputs": [
    {
     "name": "stdout",
     "output_type": "stream",
     "text": [
      "NDCG@20 = 0.1570, Hitrate@20 = 0.5048\n"
     ]
    }
   ],
   "source": [
    "set_seed()\n",
    "w2v_model = Word2Vec(\n",
    "    grouped_df['train_item_ids'].to_list(),\n",
    "    hs=0,\n",
    "    seed=RANDOM_STATE,\n",
    "    epochs=30,\n",
    "    sg=0,\n",
    "    window=1,\n",
    "    ns_exponent=0.2,\n",
    "    negative=20,\n",
    "    min_count=3,\n",
    "    vector_size=16,\n",
    ")\n",
    "\n",
    "mean_ndcg, mean_hitrate = evaluate_model(w2v_model)\n",
    "print(f'NDCG@{TOP_K} = {mean_ndcg:.4f}, Hitrate@{TOP_K} = {mean_hitrate:.4f}')"
   ]
  },
  {
   "cell_type": "markdown",
   "id": "7bd8786d",
   "metadata": {},
   "source": [
    "## Ранжирующая модель"
   ]
  },
  {
   "cell_type": "markdown",
   "id": "aab3deed",
   "metadata": {},
   "source": [
    "Для ранжирования нам хотелось бы учитывать больше признаков для пользователей и объектов, в датасете movielens-1M, к счастью, все это имеется из коробки\n",
    "\n",
    "Для _пользователей_ есть следующие признаки:\n",
    "- gender (пол пользователя, категориальный признак)\n",
    "- age (возраст пользователя, численный признак)\n",
    "- occupation (род дейтельности, категориальный признак)\n",
    "- zip_code (почтовый индекс пользователя, категориальный признак)"
   ]
  },
  {
   "cell_type": "code",
   "execution_count": 16,
   "id": "7ac34a32",
   "metadata": {
    "scrolled": true
   },
   "outputs": [
    {
     "data": {
      "text/html": [
       "<div><style>\n",
       ".dataframe > thead > tr > th,\n",
       ".dataframe > tbody > tr > td {\n",
       "  text-align: right;\n",
       "}\n",
       "</style>\n",
       "<small>shape: (6_040, 5)</small><table border=\"1\" class=\"dataframe\"><thead><tr><th>user_id</th><th>gender</th><th>age</th><th>occupation</th><th>zip_code</th></tr><tr><td>i64</td><td>str</td><td>i64</td><td>i64</td><td>str</td></tr></thead><tbody><tr><td>1</td><td>&quot;F&quot;</td><td>1</td><td>10</td><td>&quot;48067&quot;</td></tr><tr><td>2</td><td>&quot;M&quot;</td><td>56</td><td>16</td><td>&quot;70072&quot;</td></tr><tr><td>3</td><td>&quot;M&quot;</td><td>25</td><td>15</td><td>&quot;55117&quot;</td></tr><tr><td>4</td><td>&quot;M&quot;</td><td>45</td><td>7</td><td>&quot;02460&quot;</td></tr><tr><td>5</td><td>&quot;M&quot;</td><td>25</td><td>20</td><td>&quot;55455&quot;</td></tr><tr><td>6</td><td>&quot;F&quot;</td><td>50</td><td>9</td><td>&quot;55117&quot;</td></tr><tr><td>7</td><td>&quot;M&quot;</td><td>35</td><td>1</td><td>&quot;06810&quot;</td></tr><tr><td>8</td><td>&quot;M&quot;</td><td>25</td><td>12</td><td>&quot;11413&quot;</td></tr><tr><td>9</td><td>&quot;M&quot;</td><td>25</td><td>17</td><td>&quot;61614&quot;</td></tr><tr><td>10</td><td>&quot;F&quot;</td><td>35</td><td>1</td><td>&quot;95370&quot;</td></tr><tr><td>11</td><td>&quot;F&quot;</td><td>25</td><td>1</td><td>&quot;04093&quot;</td></tr><tr><td>12</td><td>&quot;M&quot;</td><td>25</td><td>12</td><td>&quot;32793&quot;</td></tr><tr><td>&hellip;</td><td>&hellip;</td><td>&hellip;</td><td>&hellip;</td><td>&hellip;</td></tr><tr><td>6029</td><td>&quot;F&quot;</td><td>25</td><td>1</td><td>&quot;23185&quot;</td></tr><tr><td>6030</td><td>&quot;M&quot;</td><td>25</td><td>17</td><td>&quot;32618&quot;</td></tr><tr><td>6031</td><td>&quot;F&quot;</td><td>18</td><td>0</td><td>&quot;45123&quot;</td></tr><tr><td>6032</td><td>&quot;M&quot;</td><td>45</td><td>7</td><td>&quot;55108&quot;</td></tr><tr><td>6033</td><td>&quot;M&quot;</td><td>50</td><td>13</td><td>&quot;78232&quot;</td></tr><tr><td>6034</td><td>&quot;M&quot;</td><td>25</td><td>14</td><td>&quot;94117&quot;</td></tr><tr><td>6035</td><td>&quot;F&quot;</td><td>25</td><td>1</td><td>&quot;78734&quot;</td></tr><tr><td>6036</td><td>&quot;F&quot;</td><td>25</td><td>15</td><td>&quot;32603&quot;</td></tr><tr><td>6037</td><td>&quot;F&quot;</td><td>45</td><td>1</td><td>&quot;76006&quot;</td></tr><tr><td>6038</td><td>&quot;F&quot;</td><td>56</td><td>1</td><td>&quot;14706&quot;</td></tr><tr><td>6039</td><td>&quot;F&quot;</td><td>45</td><td>0</td><td>&quot;01060&quot;</td></tr><tr><td>6040</td><td>&quot;M&quot;</td><td>25</td><td>6</td><td>&quot;11106&quot;</td></tr></tbody></table></div>"
      ],
      "text/plain": [
       "shape: (6_040, 5)\n",
       "┌─────────┬────────┬─────┬────────────┬──────────┐\n",
       "│ user_id ┆ gender ┆ age ┆ occupation ┆ zip_code │\n",
       "│ ---     ┆ ---    ┆ --- ┆ ---        ┆ ---      │\n",
       "│ i64     ┆ str    ┆ i64 ┆ i64        ┆ str      │\n",
       "╞═════════╪════════╪═════╪════════════╪══════════╡\n",
       "│ 1       ┆ F      ┆ 1   ┆ 10         ┆ 48067    │\n",
       "│ 2       ┆ M      ┆ 56  ┆ 16         ┆ 70072    │\n",
       "│ 3       ┆ M      ┆ 25  ┆ 15         ┆ 55117    │\n",
       "│ 4       ┆ M      ┆ 45  ┆ 7          ┆ 02460    │\n",
       "│ …       ┆ …      ┆ …   ┆ …          ┆ …        │\n",
       "│ 6037    ┆ F      ┆ 45  ┆ 1          ┆ 76006    │\n",
       "│ 6038    ┆ F      ┆ 56  ┆ 1          ┆ 14706    │\n",
       "│ 6039    ┆ F      ┆ 45  ┆ 0          ┆ 01060    │\n",
       "│ 6040    ┆ M      ┆ 25  ┆ 6          ┆ 11106    │\n",
       "└─────────┴────────┴─────┴────────────┴──────────┘"
      ]
     },
     "execution_count": 16,
     "metadata": {},
     "output_type": "execute_result"
    }
   ],
   "source": [
    "user_features = pd.read_csv(\n",
    "    'ml-1m/users.dat', delimiter='::', header=None, \n",
    "    names=['user_id', 'gender', 'age', 'occupation', 'zip_code'], \n",
    "    engine='python'\n",
    ")\n",
    "user_features = pl.from_pandas(user_features)\n",
    "user_features"
   ]
  },
  {
   "cell_type": "markdown",
   "id": "4d014aa1",
   "metadata": {},
   "source": [
    "Для _объектов_ есть следующие признаки:\n",
    "- title (название тайтла, строка)\n",
    "- genres (жанр тайтла, список категориальных признаков)"
   ]
  },
  {
   "cell_type": "code",
   "execution_count": 17,
   "id": "bd5512e9",
   "metadata": {
    "scrolled": true
   },
   "outputs": [
    {
     "data": {
      "text/html": [
       "<div><style>\n",
       ".dataframe > thead > tr > th,\n",
       ".dataframe > tbody > tr > td {\n",
       "  text-align: right;\n",
       "}\n",
       "</style>\n",
       "<small>shape: (3_883, 3)</small><table border=\"1\" class=\"dataframe\"><thead><tr><th>item_id</th><th>title</th><th>genres</th></tr><tr><td>i64</td><td>str</td><td>list[str]</td></tr></thead><tbody><tr><td>1</td><td>&quot;Toy Story (199…</td><td>[&quot;Animation&quot;, &quot;Children&#x27;s&quot;, &quot;Comedy&quot;]</td></tr><tr><td>2</td><td>&quot;Jumanji (1995)…</td><td>[&quot;Adventure&quot;, &quot;Children&#x27;s&quot;, &quot;Fantasy&quot;]</td></tr><tr><td>3</td><td>&quot;Grumpier Old M…</td><td>[&quot;Comedy&quot;, &quot;Romance&quot;]</td></tr><tr><td>4</td><td>&quot;Waiting to Exh…</td><td>[&quot;Comedy&quot;, &quot;Drama&quot;]</td></tr><tr><td>5</td><td>&quot;Father of the …</td><td>[&quot;Comedy&quot;]</td></tr><tr><td>6</td><td>&quot;Heat (1995)&quot;</td><td>[&quot;Action&quot;, &quot;Crime&quot;, &quot;Thriller&quot;]</td></tr><tr><td>7</td><td>&quot;Sabrina (1995)…</td><td>[&quot;Comedy&quot;, &quot;Romance&quot;]</td></tr><tr><td>8</td><td>&quot;Tom and Huck (…</td><td>[&quot;Adventure&quot;, &quot;Children&#x27;s&quot;]</td></tr><tr><td>9</td><td>&quot;Sudden Death (…</td><td>[&quot;Action&quot;]</td></tr><tr><td>10</td><td>&quot;GoldenEye (199…</td><td>[&quot;Action&quot;, &quot;Adventure&quot;, &quot;Thriller&quot;]</td></tr><tr><td>11</td><td>&quot;American Presi…</td><td>[&quot;Comedy&quot;, &quot;Drama&quot;, &quot;Romance&quot;]</td></tr><tr><td>12</td><td>&quot;Dracula: Dead …</td><td>[&quot;Comedy&quot;, &quot;Horror&quot;]</td></tr><tr><td>&hellip;</td><td>&hellip;</td><td>&hellip;</td></tr><tr><td>3941</td><td>&quot;Sorority House…</td><td>[&quot;Horror&quot;]</td></tr><tr><td>3942</td><td>&quot;Sorority House…</td><td>[&quot;Horror&quot;]</td></tr><tr><td>3943</td><td>&quot;Bamboozled (20…</td><td>[&quot;Comedy&quot;]</td></tr><tr><td>3944</td><td>&quot;Bootmen (2000)…</td><td>[&quot;Comedy&quot;, &quot;Drama&quot;]</td></tr><tr><td>3945</td><td>&quot;Digimon: The M…</td><td>[&quot;Adventure&quot;, &quot;Animation&quot;, &quot;Children&#x27;s&quot;]</td></tr><tr><td>3946</td><td>&quot;Get Carter (20…</td><td>[&quot;Action&quot;, &quot;Drama&quot;, &quot;Thriller&quot;]</td></tr><tr><td>3947</td><td>&quot;Get Carter (19…</td><td>[&quot;Thriller&quot;]</td></tr><tr><td>3948</td><td>&quot;Meet the Paren…</td><td>[&quot;Comedy&quot;]</td></tr><tr><td>3949</td><td>&quot;Requiem for a …</td><td>[&quot;Drama&quot;]</td></tr><tr><td>3950</td><td>&quot;Tigerland (200…</td><td>[&quot;Drama&quot;]</td></tr><tr><td>3951</td><td>&quot;Two Family Hou…</td><td>[&quot;Drama&quot;]</td></tr><tr><td>3952</td><td>&quot;Contender, The…</td><td>[&quot;Drama&quot;, &quot;Thriller&quot;]</td></tr></tbody></table></div>"
      ],
      "text/plain": [
       "shape: (3_883, 3)\n",
       "┌─────────┬────────────────────────────┬───────────────────────────────────┐\n",
       "│ item_id ┆ title                      ┆ genres                            │\n",
       "│ ---     ┆ ---                        ┆ ---                               │\n",
       "│ i64     ┆ str                        ┆ list[str]                         │\n",
       "╞═════════╪════════════════════════════╪═══════════════════════════════════╡\n",
       "│ 1       ┆ Toy Story (1995)           ┆ [\"Animation\", \"Children's\", \"Com… │\n",
       "│ 2       ┆ Jumanji (1995)             ┆ [\"Adventure\", \"Children's\", \"Fan… │\n",
       "│ 3       ┆ Grumpier Old Men (1995)    ┆ [\"Comedy\", \"Romance\"]             │\n",
       "│ 4       ┆ Waiting to Exhale (1995)   ┆ [\"Comedy\", \"Drama\"]               │\n",
       "│ …       ┆ …                          ┆ …                                 │\n",
       "│ 3949    ┆ Requiem for a Dream (2000) ┆ [\"Drama\"]                         │\n",
       "│ 3950    ┆ Tigerland (2000)           ┆ [\"Drama\"]                         │\n",
       "│ 3951    ┆ Two Family House (2000)    ┆ [\"Drama\"]                         │\n",
       "│ 3952    ┆ Contender, The (2000)      ┆ [\"Drama\", \"Thriller\"]             │\n",
       "└─────────┴────────────────────────────┴───────────────────────────────────┘"
      ]
     },
     "execution_count": 17,
     "metadata": {},
     "output_type": "execute_result"
    }
   ],
   "source": [
    "item_features = pd.read_csv(\n",
    "    'ml-1m/movies.dat', delimiter='::', header=None, \n",
    "    names=['item_id', 'title', 'genres'],\n",
    "    engine='python', encoding='latin-1'\n",
    ")\n",
    "item_features = pl.from_pandas(item_features)\n",
    "item_features = item_features.with_columns(pl.col('genres').apply(lambda x: x.split('|')))\n",
    "item_features"
   ]
  },
  {
   "cell_type": "markdown",
   "id": "369cf216",
   "metadata": {},
   "source": [
    "## Соберем датасет для ранжирования\n",
    "\n",
    "В качестве **позитивных** объектов мы будем использовать те взаимодействия, где оценка >= 4\n",
    "\n",
    "В качестве **негативных** объектов мы можем использовать те взаимодействия, где оценка < 4, однако для implicit реакции этот подход не всегда подходит и для простоты мы будем сэмплировать негативные примеры на примере сессионных рекомендаций"
   ]
  },
  {
   "cell_type": "code",
   "execution_count": 18,
   "id": "fbc90da2",
   "metadata": {},
   "outputs": [],
   "source": [
    "ns_exponent = 0.75  # степень популярности объекта\n",
    "items_set = ratings['item_id'].unique()\n",
    "\n",
    "# предподсчитаем вероятности в сэмплировании негативных примеров\n",
    "item_probs = dict()\n",
    "for item_id, count in ratings.groupby('item_id').count().rows():\n",
    "    item_probs[item_id] = count / len(ratings)\n",
    "\n",
    "item_probs = np.array([\n",
    "    item_probs.get(item_id, 0.)\n",
    "    for item_id in items_set\n",
    "])**ns_exponent\n",
    "item_probs /= np.sum(item_probs)  # normalize so that it's probabilities"
   ]
  },
  {
   "cell_type": "code",
   "execution_count": 19,
   "id": "d9625d05",
   "metadata": {
    "scrolled": true
   },
   "outputs": [
    {
     "data": {
      "text/html": [
       "<div><style>\n",
       ".dataframe > thead > tr > th,\n",
       ".dataframe > tbody > tr > td {\n",
       "  text-align: right;\n",
       "}\n",
       "</style>\n",
       "<small>shape: (2_585_599, 3)</small><table border=\"1\" class=\"dataframe\"><thead><tr><th>user_id</th><th>item_id</th><th>target</th></tr><tr><td>i64</td><td>i64</td><td>i64</td></tr></thead><tbody><tr><td>3152</td><td>3107</td><td>1</td></tr><tr><td>3152</td><td>260</td><td>1</td></tr><tr><td>3152</td><td>3754</td><td>1</td></tr><tr><td>3152</td><td>3852</td><td>1</td></tr><tr><td>3152</td><td>2797</td><td>1</td></tr><tr><td>3152</td><td>3793</td><td>1</td></tr><tr><td>3152</td><td>2161</td><td>1</td></tr><tr><td>3152</td><td>2678</td><td>1</td></tr><tr><td>3152</td><td>2431</td><td>1</td></tr><tr><td>3152</td><td>1276</td><td>0</td></tr><tr><td>3152</td><td>3683</td><td>0</td></tr><tr><td>3152</td><td>2739</td><td>0</td></tr><tr><td>&hellip;</td><td>&hellip;</td><td>&hellip;</td></tr><tr><td>4823</td><td>799</td><td>0</td></tr><tr><td>4823</td><td>17</td><td>0</td></tr><tr><td>4823</td><td>2144</td><td>0</td></tr><tr><td>4823</td><td>3478</td><td>0</td></tr><tr><td>4823</td><td>3338</td><td>0</td></tr><tr><td>4823</td><td>3547</td><td>0</td></tr><tr><td>4823</td><td>2433</td><td>0</td></tr><tr><td>4823</td><td>2606</td><td>0</td></tr><tr><td>4823</td><td>482</td><td>0</td></tr><tr><td>4823</td><td>2908</td><td>0</td></tr><tr><td>4823</td><td>673</td><td>0</td></tr><tr><td>4823</td><td>413</td><td>0</td></tr></tbody></table></div>"
      ],
      "text/plain": [
       "shape: (2_585_599, 3)\n",
       "┌─────────┬─────────┬────────┐\n",
       "│ user_id ┆ item_id ┆ target │\n",
       "│ ---     ┆ ---     ┆ ---    │\n",
       "│ i64     ┆ i64     ┆ i64    │\n",
       "╞═════════╪═════════╪════════╡\n",
       "│ 3152    ┆ 3107    ┆ 1      │\n",
       "│ 3152    ┆ 260     ┆ 1      │\n",
       "│ 3152    ┆ 3754    ┆ 1      │\n",
       "│ 3152    ┆ 3852    ┆ 1      │\n",
       "│ …       ┆ …       ┆ …      │\n",
       "│ 4823    ┆ 482     ┆ 0      │\n",
       "│ 4823    ┆ 2908    ┆ 0      │\n",
       "│ 4823    ┆ 673     ┆ 0      │\n",
       "│ 4823    ┆ 413     ┆ 0      │\n",
       "└─────────┴─────────┴────────┘"
      ]
     },
     "execution_count": 19,
     "metadata": {},
     "output_type": "execute_result"
    }
   ],
   "source": [
    "set_seed()\n",
    "\n",
    "n_negatives = 3  # кол-во негативных примеров на один позитивный\n",
    "\n",
    "ranking_dataset = []\n",
    "for user_id, pos_ids in ratings.groupby('user_id').agg(pl.col('item_id').alias('item_ids')).rows():\n",
    "    pos_ids = set(pos_ids)\n",
    "    # на каждый позитивный объект (len(pos_ids)) сэмплируем n_negatives негативных\n",
    "    # и еще len(pos_ids) для фильтрации\n",
    "    n_items_to_sample = min(\n",
    "        len(item_probs),\n",
    "        len(pos_ids) * (n_negatives + 1)\n",
    "    )\n",
    "    \n",
    "    neg_ids = [\n",
    "        item_id\n",
    "        for item_id in np.random.choice(\n",
    "            items_set,\n",
    "            n_items_to_sample,\n",
    "            replace=False,  # сэмплируем только уникальные объекты\n",
    "            p=item_probs  # сэмплируем чаще популярные объекты для негативов\n",
    "        )\n",
    "        if item_id not in pos_ids\n",
    "    ]\n",
    "    \n",
    "    for item_id in pos_ids:\n",
    "        ranking_dataset.append([user_id, item_id, 1])\n",
    "    for item_id in neg_ids:\n",
    "        ranking_dataset.append([user_id, item_id, 0])\n",
    "    \n",
    "ranking_dataset = pl.DataFrame(ranking_dataset, schema=['user_id', 'item_id', 'target'])\n",
    "ranking_dataset"
   ]
  },
  {
   "cell_type": "code",
   "execution_count": 20,
   "id": "9c7089ca",
   "metadata": {
    "scrolled": true
   },
   "outputs": [
    {
     "data": {
      "text/html": [
       "<div><style>\n",
       ".dataframe > thead > tr > th,\n",
       ".dataframe > tbody > tr > td {\n",
       "  text-align: right;\n",
       "}\n",
       "</style>\n",
       "<small>shape: (2_585_599, 7)</small><table border=\"1\" class=\"dataframe\"><thead><tr><th>user_id</th><th>item_id</th><th>target</th><th>gender</th><th>age</th><th>occupation</th><th>zip_code</th></tr><tr><td>i64</td><td>i64</td><td>i64</td><td>str</td><td>i64</td><td>i64</td><td>str</td></tr></thead><tbody><tr><td>3152</td><td>3107</td><td>1</td><td>&quot;M&quot;</td><td>18</td><td>4</td><td>&quot;61801&quot;</td></tr><tr><td>3152</td><td>260</td><td>1</td><td>&quot;M&quot;</td><td>18</td><td>4</td><td>&quot;61801&quot;</td></tr><tr><td>3152</td><td>3754</td><td>1</td><td>&quot;M&quot;</td><td>18</td><td>4</td><td>&quot;61801&quot;</td></tr><tr><td>3152</td><td>3852</td><td>1</td><td>&quot;M&quot;</td><td>18</td><td>4</td><td>&quot;61801&quot;</td></tr><tr><td>3152</td><td>2797</td><td>1</td><td>&quot;M&quot;</td><td>18</td><td>4</td><td>&quot;61801&quot;</td></tr><tr><td>3152</td><td>3793</td><td>1</td><td>&quot;M&quot;</td><td>18</td><td>4</td><td>&quot;61801&quot;</td></tr><tr><td>3152</td><td>2161</td><td>1</td><td>&quot;M&quot;</td><td>18</td><td>4</td><td>&quot;61801&quot;</td></tr><tr><td>3152</td><td>2678</td><td>1</td><td>&quot;M&quot;</td><td>18</td><td>4</td><td>&quot;61801&quot;</td></tr><tr><td>3152</td><td>2431</td><td>1</td><td>&quot;M&quot;</td><td>18</td><td>4</td><td>&quot;61801&quot;</td></tr><tr><td>3152</td><td>1276</td><td>0</td><td>&quot;M&quot;</td><td>18</td><td>4</td><td>&quot;61801&quot;</td></tr><tr><td>3152</td><td>3683</td><td>0</td><td>&quot;M&quot;</td><td>18</td><td>4</td><td>&quot;61801&quot;</td></tr><tr><td>3152</td><td>2739</td><td>0</td><td>&quot;M&quot;</td><td>18</td><td>4</td><td>&quot;61801&quot;</td></tr><tr><td>&hellip;</td><td>&hellip;</td><td>&hellip;</td><td>&hellip;</td><td>&hellip;</td><td>&hellip;</td><td>&hellip;</td></tr><tr><td>4823</td><td>799</td><td>0</td><td>&quot;M&quot;</td><td>18</td><td>4</td><td>&quot;46219&quot;</td></tr><tr><td>4823</td><td>17</td><td>0</td><td>&quot;M&quot;</td><td>18</td><td>4</td><td>&quot;46219&quot;</td></tr><tr><td>4823</td><td>2144</td><td>0</td><td>&quot;M&quot;</td><td>18</td><td>4</td><td>&quot;46219&quot;</td></tr><tr><td>4823</td><td>3478</td><td>0</td><td>&quot;M&quot;</td><td>18</td><td>4</td><td>&quot;46219&quot;</td></tr><tr><td>4823</td><td>3338</td><td>0</td><td>&quot;M&quot;</td><td>18</td><td>4</td><td>&quot;46219&quot;</td></tr><tr><td>4823</td><td>3547</td><td>0</td><td>&quot;M&quot;</td><td>18</td><td>4</td><td>&quot;46219&quot;</td></tr><tr><td>4823</td><td>2433</td><td>0</td><td>&quot;M&quot;</td><td>18</td><td>4</td><td>&quot;46219&quot;</td></tr><tr><td>4823</td><td>2606</td><td>0</td><td>&quot;M&quot;</td><td>18</td><td>4</td><td>&quot;46219&quot;</td></tr><tr><td>4823</td><td>482</td><td>0</td><td>&quot;M&quot;</td><td>18</td><td>4</td><td>&quot;46219&quot;</td></tr><tr><td>4823</td><td>2908</td><td>0</td><td>&quot;M&quot;</td><td>18</td><td>4</td><td>&quot;46219&quot;</td></tr><tr><td>4823</td><td>673</td><td>0</td><td>&quot;M&quot;</td><td>18</td><td>4</td><td>&quot;46219&quot;</td></tr><tr><td>4823</td><td>413</td><td>0</td><td>&quot;M&quot;</td><td>18</td><td>4</td><td>&quot;46219&quot;</td></tr></tbody></table></div>"
      ],
      "text/plain": [
       "shape: (2_585_599, 7)\n",
       "┌─────────┬─────────┬────────┬────────┬─────┬────────────┬──────────┐\n",
       "│ user_id ┆ item_id ┆ target ┆ gender ┆ age ┆ occupation ┆ zip_code │\n",
       "│ ---     ┆ ---     ┆ ---    ┆ ---    ┆ --- ┆ ---        ┆ ---      │\n",
       "│ i64     ┆ i64     ┆ i64    ┆ str    ┆ i64 ┆ i64        ┆ str      │\n",
       "╞═════════╪═════════╪════════╪════════╪═════╪════════════╪══════════╡\n",
       "│ 3152    ┆ 3107    ┆ 1      ┆ M      ┆ 18  ┆ 4          ┆ 61801    │\n",
       "│ 3152    ┆ 260     ┆ 1      ┆ M      ┆ 18  ┆ 4          ┆ 61801    │\n",
       "│ 3152    ┆ 3754    ┆ 1      ┆ M      ┆ 18  ┆ 4          ┆ 61801    │\n",
       "│ 3152    ┆ 3852    ┆ 1      ┆ M      ┆ 18  ┆ 4          ┆ 61801    │\n",
       "│ …       ┆ …       ┆ …      ┆ …      ┆ …   ┆ …          ┆ …        │\n",
       "│ 4823    ┆ 482     ┆ 0      ┆ M      ┆ 18  ┆ 4          ┆ 46219    │\n",
       "│ 4823    ┆ 2908    ┆ 0      ┆ M      ┆ 18  ┆ 4          ┆ 46219    │\n",
       "│ 4823    ┆ 673     ┆ 0      ┆ M      ┆ 18  ┆ 4          ┆ 46219    │\n",
       "│ 4823    ┆ 413     ┆ 0      ┆ M      ┆ 18  ┆ 4          ┆ 46219    │\n",
       "└─────────┴─────────┴────────┴────────┴─────┴────────────┴──────────┘"
      ]
     },
     "execution_count": 20,
     "metadata": {},
     "output_type": "execute_result"
    }
   ],
   "source": [
    "# соединим датасет с признаками пользователей и объектов\n",
    "ranking_dataset_with_features = (\n",
    "    ranking_dataset\n",
    "    .join(user_features, 'user_id')\n",
    "    .join(item_features, 'item_id')\n",
    ").drop(['title', 'genres'])  # пока что мы не будем использовать признаки для объектов, вам предлагается попробовать\n",
    "# вам предлагается попробовать эффективно закодировать эти признаки и еще улучшить метрики\n",
    "\n",
    "ranking_dataset_with_features"
   ]
  },
  {
   "cell_type": "markdown",
   "id": "65399389",
   "metadata": {},
   "source": [
    "## Обучаем catboost\n",
    "\n",
    "Большая часть признаков получилась категориальными, чтобы не думать над эффективным кодированием этих признаков мы воспользуемся библиотекой `catboost`\n",
    "\n",
    "Класс Pool позволяет обернуть наши данные с возможностью указать группу для group-wise ранжирования"
   ]
  },
  {
   "cell_type": "code",
   "execution_count": 21,
   "id": "fa7ee05f",
   "metadata": {
    "scrolled": true
   },
   "outputs": [
    {
     "data": {
      "application/vnd.jupyter.widget-view+json": {
       "model_id": "e6895226b9314cb4b2b837ad62e67913",
       "version_major": 2,
       "version_minor": 0
      },
      "text/plain": [
       "MetricVisualizer(layout=Layout(align_self='stretch', height='500px'))"
      ]
     },
     "metadata": {},
     "output_type": "display_data"
    },
    {
     "data": {
      "text/plain": [
       "<catboost.core.CatBoostClassifier at 0x291e83fa0>"
      ]
     },
     "execution_count": 21,
     "metadata": {},
     "output_type": "execute_result"
    }
   ],
   "source": [
    "train_dataset, test_dataset = train_test_split(\n",
    "    ranking_dataset_with_features, test_size=0.1, random_state=RANDOM_STATE\n",
    ")\n",
    "# отсортируем, чтобы использовать group_id в классе Pool\n",
    "train_dataset = train_dataset.sort('user_id')\n",
    "test_dataset = test_dataset.sort('user_id')\n",
    "\n",
    "cat_features=['user_id', 'item_id', 'gender', 'zip_code', 'occupation']\n",
    "\n",
    "train_pool = Pool(\n",
    "    train_dataset.drop(['target']).to_pandas(),\n",
    "    train_dataset['target'].to_list(),\n",
    "    # используется для подсчета groupwise метрик, например NDCG\n",
    "    group_id=train_dataset['user_id'].to_list(),\n",
    "    cat_features=cat_features\n",
    ")\n",
    "\n",
    "test_pool = Pool(\n",
    "    test_dataset.drop(['target']).to_pandas(),\n",
    "    test_dataset['target'].to_list(),\n",
    "    group_id=test_dataset['user_id'].to_list(),\n",
    "    cat_features=cat_features\n",
    ")\n",
    "\n",
    "# обучаем модель классификации, так как она работает сильно быстрее, чем модель ранжирования\n",
    "# в качестве метрик можно смотреть на NDCG, MAP и AUC\n",
    "ranking_model = CatBoostClassifier(**{\n",
    "    'iterations': 300,\n",
    "    'verbose': False,\n",
    "    'random_state': RANDOM_STATE,\n",
    "    'use_best_model': True,\n",
    "    'custom_metric': [f'NDCG:top={TOP_K}', f'MAP:top={TOP_K}', 'AUC']\n",
    "})\n",
    "ranking_model.fit(train_pool, plot=True, eval_set=test_pool)"
   ]
  },
  {
   "cell_type": "markdown",
   "id": "169faa39",
   "metadata": {},
   "source": [
    "## Оценим результаты ранжирования"
   ]
  },
  {
   "cell_type": "markdown",
   "id": "ed1ce57b",
   "metadata": {},
   "source": [
    "подготовим наши кандидаты в виде списков для каждого пользователя"
   ]
  },
  {
   "cell_type": "code",
   "execution_count": 22,
   "id": "84380c24",
   "metadata": {
    "scrolled": true
   },
   "outputs": [
    {
     "data": {
      "text/html": [
       "<div><style>\n",
       ".dataframe > thead > tr > th,\n",
       ".dataframe > tbody > tr > td {\n",
       "  text-align: right;\n",
       "}\n",
       "</style>\n",
       "<small>shape: (6_038, 2)</small><table border=\"1\" class=\"dataframe\"><thead><tr><th>user_id</th><th>candidates</th></tr><tr><td>i64</td><td>list[i64]</td></tr></thead><tbody><tr><td>1448</td><td>[454, 1090, 2580]</td></tr><tr><td>4840</td><td>[3114, 2355, … 3100]</td></tr><tr><td>72</td><td>[1265, 1784, … 2268]</td></tr><tr><td>4808</td><td>[1240, 610, … 3396]</td></tr><tr><td>4656</td><td>[1393, 908, … 2916]</td></tr><tr><td>448</td><td>[2336, 3408, … 2987]</td></tr><tr><td>1784</td><td>[2916, 1196, … 541]</td></tr><tr><td>4384</td><td>[2706, 1394, … 1476]</td></tr><tr><td>5840</td><td>[597, 1035, … 3526]</td></tr><tr><td>6040</td><td>[3424, 1225, … 307]</td></tr><tr><td>2144</td><td>[3499, 1994, … 1644]</td></tr><tr><td>1312</td><td>[594, 2085, … 661]</td></tr><tr><td>&hellip;</td><td>&hellip;</td></tr><tr><td>927</td><td>[339, 3253, … 2359]</td></tr><tr><td>2687</td><td>[296, 293, … 1218]</td></tr><tr><td>3991</td><td>[3114, 2396, … 2826]</td></tr><tr><td>4327</td><td>[1374, 1356, … 3101]</td></tr><tr><td>5527</td><td>[1580, 1466, … 110]</td></tr><tr><td>3807</td><td>[253, 2872, … 2664]</td></tr><tr><td>751</td><td>[2858, 260, … 3535]</td></tr><tr><td>223</td><td>[2628, 590, … 1378]</td></tr><tr><td>439</td><td>[150, 527, … 1387]</td></tr><tr><td>975</td><td>[2762, 150, … 2501]</td></tr><tr><td>2191</td><td>[1, 2997, … 3006]</td></tr><tr><td>2279</td><td>[2455, 2352, … 1197]</td></tr></tbody></table></div>"
      ],
      "text/plain": [
       "shape: (6_038, 2)\n",
       "┌─────────┬──────────────────────┐\n",
       "│ user_id ┆ candidates           │\n",
       "│ ---     ┆ ---                  │\n",
       "│ i64     ┆ list[i64]            │\n",
       "╞═════════╪══════════════════════╡\n",
       "│ 1448    ┆ [454, 1090, 2580]    │\n",
       "│ 4840    ┆ [3114, 2355, … 3100] │\n",
       "│ 72      ┆ [1265, 1784, … 2268] │\n",
       "│ 4808    ┆ [1240, 610, … 3396]  │\n",
       "│ …       ┆ …                    │\n",
       "│ 439     ┆ [150, 527, … 1387]   │\n",
       "│ 975     ┆ [2762, 150, … 2501]  │\n",
       "│ 2191    ┆ [1, 2997, … 3006]    │\n",
       "│ 2279    ┆ [2455, 2352, … 1197] │\n",
       "└─────────┴──────────────────────┘"
      ]
     },
     "execution_count": 22,
     "metadata": {},
     "output_type": "execute_result"
    }
   ],
   "source": [
    "# сформируем датафрейм с кандидатами из модели als\n",
    "als_candidates = pl.DataFrame({\n",
    "    'user_id': grouped_df['user_id'],\n",
    "    'candidates': [\n",
    "        [item_id for item_id in als_recs[user_id] if item_id not in user_history][:TOP_K]\n",
    "        for user_id, user_history in grouped_df.select('user_id', 'train_item_ids').rows()\n",
    "    ]\n",
    "})\n",
    "als_candidates"
   ]
  },
  {
   "cell_type": "code",
   "execution_count": 23,
   "id": "153a8ef0",
   "metadata": {
    "scrolled": true
   },
   "outputs": [
    {
     "data": {
      "text/html": [
       "<div><style>\n",
       ".dataframe > thead > tr > th,\n",
       ".dataframe > tbody > tr > td {\n",
       "  text-align: right;\n",
       "}\n",
       "</style>\n",
       "<small>shape: (6_038, 2)</small><table border=\"1\" class=\"dataframe\"><thead><tr><th>user_id</th><th>candidates</th></tr><tr><td>i64</td><td>list[i64]</td></tr></thead><tbody><tr><td>1448</td><td>[2985, 1242, … 3920]</td></tr><tr><td>4840</td><td>[529, 2797, … 377]</td></tr><tr><td>72</td><td>[3755, 3751, … 1208]</td></tr><tr><td>4808</td><td>[1089, 3911, … 556]</td></tr><tr><td>4656</td><td>[2018, 2019, … 1221]</td></tr><tr><td>448</td><td>[2762, 1028, … 1965]</td></tr><tr><td>1784</td><td>[1968, 353, … 355]</td></tr><tr><td>4384</td><td>[1090, 1097, … 705]</td></tr><tr><td>5840</td><td>[2018, 2019, … 540]</td></tr><tr><td>6040</td><td>[1097, 1090, … 2038]</td></tr><tr><td>2144</td><td>[1994, 377, … 2784]</td></tr><tr><td>1312</td><td>[3763, 2020, … 543]</td></tr><tr><td>&hellip;</td><td>&hellip;</td></tr><tr><td>927</td><td>[3755, 3751, … 1208]</td></tr><tr><td>2687</td><td>[1213, 2951, … 539]</td></tr><tr><td>3991</td><td>[539, 2012, … 1208]</td></tr><tr><td>4327</td><td>[1089, 551, … 556]</td></tr><tr><td>5527</td><td>[2321, 2329, … 1394]</td></tr><tr><td>3807</td><td>[1090, 1097, … 2034]</td></tr><tr><td>751</td><td>[1213, 1214, … 1219]</td></tr><tr><td>223</td><td>[1097, 1090, … 2038]</td></tr><tr><td>439</td><td>[1080, 1222, … 2025]</td></tr><tr><td>975</td><td>[708, 1240, … 3926]</td></tr><tr><td>2191</td><td>[2395, 125, … 110]</td></tr><tr><td>2279</td><td>[1244, 1240, … 1237]</td></tr></tbody></table></div>"
      ],
      "text/plain": [
       "shape: (6_038, 2)\n",
       "┌─────────┬──────────────────────┐\n",
       "│ user_id ┆ candidates           │\n",
       "│ ---     ┆ ---                  │\n",
       "│ i64     ┆ list[i64]            │\n",
       "╞═════════╪══════════════════════╡\n",
       "│ 1448    ┆ [2985, 1242, … 3920] │\n",
       "│ 4840    ┆ [529, 2797, … 377]   │\n",
       "│ 72      ┆ [3755, 3751, … 1208] │\n",
       "│ 4808    ┆ [1089, 3911, … 556]  │\n",
       "│ …       ┆ …                    │\n",
       "│ 439     ┆ [1080, 1222, … 2025] │\n",
       "│ 975     ┆ [708, 1240, … 3926]  │\n",
       "│ 2191    ┆ [2395, 125, … 110]   │\n",
       "│ 2279    ┆ [1244, 1240, … 1237] │\n",
       "└─────────┴──────────────────────┘"
      ]
     },
     "execution_count": 23,
     "metadata": {},
     "output_type": "execute_result"
    }
   ],
   "source": [
    "def get_w2v_candidates(w2v_model, train_ids):\n",
    "    model_preds = w2v_model.predict_output_word(\n",
    "        train_ids[-w2v_model.window:], topn=(TOP_K + len(train_ids))\n",
    "    )\n",
    "    if model_preds is None:\n",
    "        return []\n",
    "    \n",
    "    return [pred[0] for pred in model_preds if pred[0] not in train_ids][:TOP_K]\n",
    "    \n",
    "# сформируем датафрейм с кандидатами из модели w2v\n",
    "w2v_candidates = pl.DataFrame({\n",
    "    'user_id': grouped_df['user_id'],\n",
    "    'candidates': [\n",
    "        get_w2v_candidates(w2v_model, train_ids)\n",
    "        for train_ids in grouped_df['train_item_ids'].to_list()\n",
    "    ]\n",
    "})\n",
    "w2v_candidates"
   ]
  },
  {
   "cell_type": "code",
   "execution_count": 24,
   "id": "540abe5e",
   "metadata": {
    "scrolled": true
   },
   "outputs": [
    {
     "data": {
      "text/html": [
       "<div><style>\n",
       ".dataframe > thead > tr > th,\n",
       ".dataframe > tbody > tr > td {\n",
       "  text-align: right;\n",
       "}\n",
       "</style>\n",
       "<small>shape: (225_663, 7)</small><table border=\"1\" class=\"dataframe\"><thead><tr><th>user_id</th><th>item_id</th><th>gender</th><th>age</th><th>occupation</th><th>zip_code</th><th>rank</th></tr><tr><td>i64</td><td>i64</td><td>str</td><td>i64</td><td>i64</td><td>str</td><td>f64</td></tr></thead><tbody><tr><td>1448</td><td>454</td><td>&quot;F&quot;</td><td>25</td><td>3</td><td>&quot;17522&quot;</td><td>0.387932</td></tr><tr><td>4840</td><td>589</td><td>&quot;F&quot;</td><td>45</td><td>6</td><td>&quot;63135&quot;</td><td>0.276843</td></tr><tr><td>4840</td><td>2571</td><td>&quot;F&quot;</td><td>45</td><td>6</td><td>&quot;63135&quot;</td><td>0.282576</td></tr><tr><td>4840</td><td>3255</td><td>&quot;F&quot;</td><td>45</td><td>6</td><td>&quot;63135&quot;</td><td>0.268616</td></tr><tr><td>72</td><td>1641</td><td>&quot;F&quot;</td><td>45</td><td>0</td><td>&quot;55122&quot;</td><td>0.278103</td></tr><tr><td>72</td><td>539</td><td>&quot;F&quot;</td><td>45</td><td>0</td><td>&quot;55122&quot;</td><td>0.294356</td></tr><tr><td>4656</td><td>1219</td><td>&quot;M&quot;</td><td>25</td><td>17</td><td>&quot;94041&quot;</td><td>0.341076</td></tr><tr><td>4656</td><td>866</td><td>&quot;M&quot;</td><td>25</td><td>17</td><td>&quot;94041&quot;</td><td>0.21189</td></tr><tr><td>448</td><td>2336</td><td>&quot;M&quot;</td><td>25</td><td>17</td><td>&quot;80123&quot;</td><td>0.190112</td></tr><tr><td>448</td><td>3408</td><td>&quot;M&quot;</td><td>25</td><td>17</td><td>&quot;80123&quot;</td><td>0.233324</td></tr><tr><td>448</td><td>2762</td><td>&quot;M&quot;</td><td>25</td><td>17</td><td>&quot;80123&quot;</td><td>0.497841</td></tr><tr><td>448</td><td>2724</td><td>&quot;M&quot;</td><td>25</td><td>17</td><td>&quot;80123&quot;</td><td>0.120873</td></tr><tr><td>&hellip;</td><td>&hellip;</td><td>&hellip;</td><td>&hellip;</td><td>&hellip;</td><td>&hellip;</td><td>&hellip;</td></tr><tr><td>439</td><td>3763</td><td>&quot;M&quot;</td><td>35</td><td>14</td><td>&quot;55129&quot;</td><td>0.243794</td></tr><tr><td>439</td><td>1223</td><td>&quot;M&quot;</td><td>35</td><td>14</td><td>&quot;55129&quot;</td><td>0.169589</td></tr><tr><td>975</td><td>562</td><td>&quot;M&quot;</td><td>35</td><td>0</td><td>&quot;98136&quot;</td><td>0.12119</td></tr><tr><td>975</td><td>3925</td><td>&quot;M&quot;</td><td>35</td><td>0</td><td>&quot;98136&quot;</td><td>0.147928</td></tr><tr><td>975</td><td>3920</td><td>&quot;M&quot;</td><td>35</td><td>0</td><td>&quot;98136&quot;</td><td>0.105526</td></tr><tr><td>975</td><td>705</td><td>&quot;M&quot;</td><td>35</td><td>0</td><td>&quot;98136&quot;</td><td>0.101583</td></tr><tr><td>975</td><td>1093</td><td>&quot;M&quot;</td><td>35</td><td>0</td><td>&quot;98136&quot;</td><td>0.180947</td></tr><tr><td>2191</td><td>110</td><td>&quot;M&quot;</td><td>18</td><td>4</td><td>&quot;45231&quot;</td><td>0.456778</td></tr><tr><td>2279</td><td>1244</td><td>&quot;M&quot;</td><td>50</td><td>7</td><td>&quot;08816&quot;</td><td>0.418387</td></tr><tr><td>2279</td><td>1243</td><td>&quot;M&quot;</td><td>50</td><td>7</td><td>&quot;08816&quot;</td><td>0.086743</td></tr><tr><td>2279</td><td>3783</td><td>&quot;M&quot;</td><td>50</td><td>7</td><td>&quot;08816&quot;</td><td>0.196016</td></tr><tr><td>2279</td><td>1233</td><td>&quot;M&quot;</td><td>50</td><td>7</td><td>&quot;08816&quot;</td><td>0.659689</td></tr></tbody></table></div>"
      ],
      "text/plain": [
       "shape: (225_663, 7)\n",
       "┌─────────┬─────────┬────────┬─────┬────────────┬──────────┬──────────┐\n",
       "│ user_id ┆ item_id ┆ gender ┆ age ┆ occupation ┆ zip_code ┆ rank     │\n",
       "│ ---     ┆ ---     ┆ ---    ┆ --- ┆ ---        ┆ ---      ┆ ---      │\n",
       "│ i64     ┆ i64     ┆ str    ┆ i64 ┆ i64        ┆ str      ┆ f64      │\n",
       "╞═════════╪═════════╪════════╪═════╪════════════╪══════════╪══════════╡\n",
       "│ 1448    ┆ 454     ┆ F      ┆ 25  ┆ 3          ┆ 17522    ┆ 0.387932 │\n",
       "│ 4840    ┆ 589     ┆ F      ┆ 45  ┆ 6          ┆ 63135    ┆ 0.276843 │\n",
       "│ 4840    ┆ 2571    ┆ F      ┆ 45  ┆ 6          ┆ 63135    ┆ 0.282576 │\n",
       "│ 4840    ┆ 3255    ┆ F      ┆ 45  ┆ 6          ┆ 63135    ┆ 0.268616 │\n",
       "│ …       ┆ …       ┆ …      ┆ …   ┆ …          ┆ …        ┆ …        │\n",
       "│ 2279    ┆ 1244    ┆ M      ┆ 50  ┆ 7          ┆ 08816    ┆ 0.418387 │\n",
       "│ 2279    ┆ 1243    ┆ M      ┆ 50  ┆ 7          ┆ 08816    ┆ 0.086743 │\n",
       "│ 2279    ┆ 3783    ┆ M      ┆ 50  ┆ 7          ┆ 08816    ┆ 0.196016 │\n",
       "│ 2279    ┆ 1233    ┆ M      ┆ 50  ┆ 7          ┆ 08816    ┆ 0.659689 │\n",
       "└─────────┴─────────┴────────┴─────┴────────────┴──────────┴──────────┘"
      ]
     },
     "execution_count": 24,
     "metadata": {},
     "output_type": "execute_result"
    }
   ],
   "source": [
    "def predict_ranks(ranking_model, candidates_with_features):\n",
    "    if isinstance(ranking_model, CatBoostRanker):\n",
    "        return ranking_model.predict(candidates_with_features.to_pandas())\n",
    "    else:\n",
    "        return ranking_model.predict_proba(candidates_with_features.to_pandas())[:, 1]\n",
    "\n",
    "candidates_with_features = (\n",
    "    # объединяем все кандидаты в один список пар (user_id, item_id)\n",
    "    pl.concat([als_candidates, w2v_candidates])\n",
    "    .explode('candidates')\n",
    "    .rename({'candidates': 'item_id'})\n",
    "    .unique()\n",
    "    # добавляем признаки пользователей\n",
    "    .join(user_features, 'user_id')\n",
    "    # добавляем признаки объектов\n",
    "    .join(item_features, 'item_id')\n",
    ").drop(['title', 'genres'])\n",
    "\n",
    "candidates_with_features = candidates_with_features.with_columns([\n",
    "    # взвешиваем с помощью модели ранжирования кандидатов\n",
    "    pl.Series(predict_ranks(ranking_model, candidates_with_features)).alias('rank')\n",
    "])\n",
    "\n",
    "candidates_with_features"
   ]
  },
  {
   "cell_type": "code",
   "execution_count": 25,
   "id": "49ef6270",
   "metadata": {
    "scrolled": true
   },
   "outputs": [
    {
     "data": {
      "text/html": [
       "<div><style>\n",
       ".dataframe > thead > tr > th,\n",
       ".dataframe > tbody > tr > td {\n",
       "  text-align: right;\n",
       "}\n",
       "</style>\n",
       "<small>shape: (6_038, 2)</small><table border=\"1\" class=\"dataframe\"><thead><tr><th>user_id</th><th>candidates_item_ids</th></tr><tr><td>i64</td><td>list[i64]</td></tr></thead><tbody><tr><td>3208</td><td>[593, 2762, … 3671]</td></tr><tr><td>3888</td><td>[1196, 1198, … 1080]</td></tr><tr><td>1152</td><td>[2959, 2571, … 70]</td></tr><tr><td>1592</td><td>[1240, 2762, … 1095]</td></tr><tr><td>2640</td><td>[2762, 1580, … 1215]</td></tr><tr><td>808</td><td>[2858, 608, … 2020]</td></tr><tr><td>1808</td><td>[318, 3578, … 1012]</td></tr><tr><td>336</td><td>[3793, 1214, … 1690]</td></tr><tr><td>5128</td><td>[1196, 527, … 1220]</td></tr><tr><td>5896</td><td>[527, 1, … 441]</td></tr><tr><td>3560</td><td>[2396, 1097, … 3105]</td></tr><tr><td>4208</td><td>[2396, 920, … 3176]</td></tr><tr><td>&hellip;</td><td>&hellip;</td></tr><tr><td>551</td><td>[318, 1247, … 17]</td></tr><tr><td>2543</td><td>[608, 912, … 1221]</td></tr><tr><td>2967</td><td>[34, 1097, … 2046]</td></tr><tr><td>5111</td><td>[2791, 1097, … 272]</td></tr><tr><td>3303</td><td>[260, 1196, … 2186]</td></tr><tr><td>1895</td><td>[589, 110, … 2968]</td></tr><tr><td>4439</td><td>[260, 1196, … 2580]</td></tr><tr><td>2783</td><td>[1210, 480, … 2951]</td></tr><tr><td>2975</td><td>[1196, 2973, … 1231]</td></tr><tr><td>5887</td><td>[527, 1270, … 1288]</td></tr><tr><td>5607</td><td>[2997, 527, … 21]</td></tr><tr><td>4591</td><td>[1089, 2628, … 1083]</td></tr></tbody></table></div>"
      ],
      "text/plain": [
       "shape: (6_038, 2)\n",
       "┌─────────┬──────────────────────┐\n",
       "│ user_id ┆ candidates_item_ids  │\n",
       "│ ---     ┆ ---                  │\n",
       "│ i64     ┆ list[i64]            │\n",
       "╞═════════╪══════════════════════╡\n",
       "│ 3208    ┆ [593, 2762, … 3671]  │\n",
       "│ 3888    ┆ [1196, 1198, … 1080] │\n",
       "│ 1152    ┆ [2959, 2571, … 70]   │\n",
       "│ 1592    ┆ [1240, 2762, … 1095] │\n",
       "│ …       ┆ …                    │\n",
       "│ 2975    ┆ [1196, 2973, … 1231] │\n",
       "│ 5887    ┆ [527, 1270, … 1288]  │\n",
       "│ 5607    ┆ [2997, 527, … 21]    │\n",
       "│ 4591    ┆ [1089, 2628, … 1083] │\n",
       "└─────────┴──────────────────────┘"
      ]
     },
     "execution_count": 25,
     "metadata": {},
     "output_type": "execute_result"
    }
   ],
   "source": [
    "grouped_candidates_with_features = (\n",
    "    candidates_with_features\n",
    "    .groupby('user_id')\n",
    "    .agg([\n",
    "        pl.col('item_id'),\n",
    "        pl.col('rank')\n",
    "    ])\n",
    ")\n",
    "\n",
    "reranked_candidates = []\n",
    "for user_id, item_ids, item_ranks in grouped_candidates_with_features.rows():\n",
    "    # для каждого пользователя сортируем оценки модели ранжирования и оставляем top-k объектов\n",
    "    reranked_candidates.append([\n",
    "        user_id,\n",
    "        [\n",
    "            item_ids[ind]\n",
    "            for ind in np.argsort(item_ranks)[::-1][:TOP_K]\n",
    "        ]\n",
    "    ])\n",
    "    \n",
    "reranked_candidates = pl.DataFrame(reranked_candidates, schema=['user_id', 'candidates_item_ids'])\n",
    "reranked_candidates"
   ]
  },
  {
   "cell_type": "markdown",
   "id": "19a0d1b0",
   "metadata": {},
   "source": [
    "оценим метрики для кандидатов по отдельности"
   ]
  },
  {
   "cell_type": "code",
   "execution_count": 26,
   "id": "56995964",
   "metadata": {
    "scrolled": true
   },
   "outputs": [
    {
     "name": "stdout",
     "output_type": "stream",
     "text": [
      "NDCG@20 = 0.1570, Hitrate@20 = 0.5048\n"
     ]
    }
   ],
   "source": [
    "ndcg_list = []\n",
    "hitrate_list = []\n",
    "\n",
    "for y_rec, y_rel in w2v_candidates.join(grouped_df, 'user_id').select('candidates', 'test_item_ids').rows():\n",
    "    ndcg_list.append(user_ndcg(y_rel, y_rec))\n",
    "    hitrate_list.append(user_hitrate(y_rel, y_rec))\n",
    "print(f'NDCG@{TOP_K} = {np.mean(ndcg_list):.4f}, Hitrate@{TOP_K} = {np.mean(hitrate_list):.4f}')"
   ]
  },
  {
   "cell_type": "code",
   "execution_count": 27,
   "id": "709372a4",
   "metadata": {},
   "outputs": [
    {
     "name": "stdout",
     "output_type": "stream",
     "text": [
      "NDCG@20 = 0.0760, Hitrate@20 = 0.3264\n"
     ]
    }
   ],
   "source": [
    "ndcg_list = []\n",
    "hitrate_list = []\n",
    "\n",
    "for y_rec, y_rel in als_candidates.join(grouped_df, 'user_id').select('candidates', 'test_item_ids').rows():\n",
    "    ndcg_list.append(user_ndcg(y_rel, y_rec))\n",
    "    hitrate_list.append(user_hitrate(y_rel, y_rec))\n",
    "print(f'NDCG@{TOP_K} = {np.mean(ndcg_list):.4f}, Hitrate@{TOP_K} = {np.mean(hitrate_list):.4f}')"
   ]
  },
  {
   "cell_type": "markdown",
   "id": "71ec5fb1",
   "metadata": {},
   "source": [
    "и попробуем два подхода объединения кандидатов:\n",
    "1. будем по очереди брать объекты на i-ой категории и соединять в один список\n",
    "2. возьмем сначала n кандидатов из одного списка, затем из другого и так далее"
   ]
  },
  {
   "cell_type": "code",
   "execution_count": 36,
   "id": "55e0fcd6",
   "metadata": {},
   "outputs": [
    {
     "name": "stdout",
     "output_type": "stream",
     "text": [
      "NDCG@20 = 0.1351, Hitrate@20 = 0.5320\n"
     ]
    }
   ],
   "source": [
    "joined_candidates = (\n",
    "    pl.concat([als_candidates, w2v_candidates])\n",
    "    .groupby('user_id')\n",
    "    .agg(pl.col('candidates'))\n",
    ")\n",
    "\n",
    "ndcg_list = []\n",
    "hitrate_list = []\n",
    "\n",
    "for candidates, y_rel in (\n",
    "    joined_candidates\n",
    "    .join(grouped_df, 'user_id')\n",
    "    .select('candidates', 'test_item_ids')\n",
    "    .rows()\n",
    "):\n",
    "    y_rec = [item_id for item_ids in list(zip(*candidates)) for item_id in item_ids]\n",
    "    \n",
    "    ndcg_list.append(user_ndcg(y_rel, y_rec))\n",
    "    hitrate_list.append(user_hitrate(y_rel, y_rec))\n",
    "print(f'NDCG@{TOP_K} = {np.mean(ndcg_list):.4f}, Hitrate@{TOP_K} = {np.mean(hitrate_list):.4f}')"
   ]
  },
  {
   "cell_type": "code",
   "execution_count": 39,
   "id": "95d6a3d7",
   "metadata": {},
   "outputs": [
    {
     "name": "stdout",
     "output_type": "stream",
     "text": [
      "NDCG@20 = 0.1223, Hitrate@20 = 0.5421\n"
     ]
    }
   ],
   "source": [
    "joined_candidates = (\n",
    "    pl.concat([als_candidates, w2v_candidates])\n",
    "    .groupby('user_id')\n",
    "    .agg(pl.col('candidates'))\n",
    ")\n",
    "\n",
    "ndcg_list = []\n",
    "hitrate_list = []\n",
    "\n",
    "for candidates, y_rel in (\n",
    "    joined_candidates\n",
    "    .join(grouped_df, 'user_id')\n",
    "    .select('candidates', 'test_item_ids')\n",
    "    .rows()\n",
    "):\n",
    "    y_rec = [item_id for item_ids in candidates for item_id in item_ids[:TOP_K // len(candidates)]]\n",
    "    \n",
    "    ndcg_list.append(user_ndcg(y_rel, y_rec))\n",
    "    hitrate_list.append(user_hitrate(y_rel, y_rec))\n",
    "print(f'NDCG@{TOP_K} = {np.mean(ndcg_list):.4f}, Hitrate@{TOP_K} = {np.mean(hitrate_list):.4f}')"
   ]
  },
  {
   "cell_type": "markdown",
   "id": "a9800642",
   "metadata": {},
   "source": [
    "ну и наконец оценим метрики для кандидатов после ранжирования"
   ]
  },
  {
   "cell_type": "code",
   "execution_count": 35,
   "id": "d406ae31",
   "metadata": {
    "scrolled": true
   },
   "outputs": [
    {
     "name": "stdout",
     "output_type": "stream",
     "text": [
      "NDCG@20 = 0.2405, Hitrate@20 = 0.6706\n"
     ]
    }
   ],
   "source": [
    "ndcg_list = []\n",
    "hitrate_list = []\n",
    "\n",
    "for y_rec, y_rel in (\n",
    "    reranked_candidates\n",
    "    .join(grouped_df, 'user_id')\n",
    "    .select('candidates_item_ids', 'test_item_ids')\n",
    "    .rows()\n",
    "):\n",
    "    ndcg_list.append(user_ndcg(y_rel, y_rec))\n",
    "    hitrate_list.append(user_hitrate(y_rel, y_rec))\n",
    "print(f'NDCG@{TOP_K} = {np.mean(ndcg_list):.4f}, Hitrate@{TOP_K} = {np.mean(hitrate_list):.4f}')"
   ]
  },
  {
   "cell_type": "code",
   "execution_count": 31,
   "id": "0fd08f9d",
   "metadata": {},
   "outputs": [
    {
     "name": "stdout",
     "output_type": "stream",
     "text": [
      "NDCG@20 +56.29%\n",
      "Hitrate@20 +32.22%\n"
     ]
    }
   ],
   "source": [
    "print(f'NDCG@{TOP_K} +{(0.2496 / 0.1597 - 1)* 100:.2f}%')\n",
    "print(f'Hitrate@{TOP_K} +{(0.6742 / 0.5099 - 1)* 100:.2f}%')"
   ]
  }
 ],
 "metadata": {
  "kernelspec": {
   "display_name": "Python 3 (ipykernel)",
   "language": "python",
   "name": "python3"
  },
  "language_info": {
   "codemirror_mode": {
    "name": "ipython",
    "version": 3
   },
   "file_extension": ".py",
   "mimetype": "text/x-python",
   "name": "python",
   "nbconvert_exporter": "python",
   "pygments_lexer": "ipython3",
   "version": "3.10.10"
  }
 },
 "nbformat": 4,
 "nbformat_minor": 5
}
