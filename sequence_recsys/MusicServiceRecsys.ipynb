{
 "cells": [
  {
   "cell_type": "code",
   "execution_count": 1,
   "id": "a054832f",
   "metadata": {},
   "outputs": [
    {
     "name": "stderr",
     "output_type": "stream",
     "text": [
      "/home/i.nurgaliev/recsys/venv/lib/python3.10/site-packages/tqdm/auto.py:21: TqdmWarning: IProgress not found. Please update jupyter and ipywidgets. See https://ipywidgets.readthedocs.io/en/stable/user_install.html\n",
      "  from .autonotebook import tqdm as notebook_tqdm\n"
     ]
    }
   ],
   "source": [
    "import pandas as pd\n",
    "import polars as pl\n",
    "import numpy as np\n",
    "import scipy.sparse as sp\n",
    "\n",
    "from tqdm import tqdm\n",
    "from typing import List, Any\n",
    "from importlib import reload\n",
    "import session_recsys as sr"
   ]
  },
  {
   "cell_type": "markdown",
   "id": "0f86f3a9",
   "metadata": {},
   "source": [
    "## User and items history"
   ]
  },
  {
   "cell_type": "code",
   "execution_count": 2,
   "id": "b3b0fc0f",
   "metadata": {
    "scrolled": true
   },
   "outputs": [
    {
     "data": {
      "text/html": [
       "<div><style>\n",
       ".dataframe > thead > tr > th,\n",
       ".dataframe > tbody > tr > td {\n",
       "  text-align: right;\n",
       "}\n",
       "</style>\n",
       "<small>shape: (2_275_900, 2)</small><table border=\"1\" class=\"dataframe\"><thead><tr><th>user_id</th><th>artist_id</th></tr><tr><td>str</td><td>str</td></tr></thead><tbody><tr><td>&quot;d705b538-1bd8-…</td><td>&quot;69c71d72-7ed8-…</td></tr><tr><td>&quot;d705b538-1bd8-…</td><td>&quot;30bf469f-9abd-…</td></tr><tr><td>&quot;d705b538-1bd8-…</td><td>&quot;a26c9335-2459-…</td></tr><tr><td>&quot;d705b538-1bd8-…</td><td>&quot;69c903b5-dff0-…</td></tr><tr><td>&quot;d705b538-1bd8-…</td><td>&quot;af8eef9d-13aa-…</td></tr><tr><td>&quot;d705b538-1bd8-…</td><td>&quot;293a86ee-6ce7-…</td></tr><tr><td>&quot;d705b538-1bd8-…</td><td>&quot;348f4909-1c48-…</td></tr><tr><td>&quot;d705b538-1bd8-…</td><td>&quot;ad2bf122-726e-…</td></tr><tr><td>&quot;d705b538-1bd8-…</td><td>&quot;cc97fc57-30b5-…</td></tr><tr><td>&quot;d705b538-1bd8-…</td><td>&quot;3000b3a4-7435-…</td></tr><tr><td>&quot;d705b538-1bd8-…</td><td>&quot;3d3535e5-f2cf-…</td></tr><tr><td>&quot;d705b538-1bd8-…</td><td>&quot;b4d4af2b-f7a9-…</td></tr><tr><td>&hellip;</td><td>&hellip;</td></tr><tr><td>&quot;fde30130-2882-…</td><td>&quot;b21ad2da-5a3b-…</td></tr><tr><td>&quot;fde30130-2882-…</td><td>&quot;69c71d72-7ed8-…</td></tr><tr><td>&quot;fde30130-2882-…</td><td>&quot;a26c9335-2459-…</td></tr><tr><td>&quot;fde30130-2882-…</td><td>&quot;bf1f82b0-709a-…</td></tr><tr><td>&quot;fde30130-2882-…</td><td>&quot;1279ad53-a053-…</td></tr><tr><td>&quot;fde30130-2882-…</td><td>&quot;ee0f3f04-8fa0-…</td></tr><tr><td>&quot;fde30130-2882-…</td><td>&quot;7de0cc8f-f42d-…</td></tr><tr><td>&quot;fde30130-2882-…</td><td>&quot;79973184-b4f0-…</td></tr><tr><td>&quot;fde30130-2882-…</td><td>&quot;ed437fe5-c894-…</td></tr><tr><td>&quot;fde30130-2882-…</td><td>&quot;6ea31f9c-d4fa-…</td></tr><tr><td>&quot;fde30130-2882-…</td><td>&quot;ce4b8396-8061-…</td></tr><tr><td>&quot;fde30130-2882-…</td><td>&quot;224f17fd-74e2-…</td></tr></tbody></table></div>"
      ],
      "text/plain": [
       "shape: (2_275_900, 2)\n",
       "┌───────────────────────────────────┬───────────────────────────────────┐\n",
       "│ user_id                           ┆ artist_id                         │\n",
       "│ ---                               ┆ ---                               │\n",
       "│ str                               ┆ str                               │\n",
       "╞═══════════════════════════════════╪═══════════════════════════════════╡\n",
       "│ d705b538-1bd8-48a3-9dad-8941dee2… ┆ 69c71d72-7ed8-42c4-b9ec-c33976a3… │\n",
       "│ d705b538-1bd8-48a3-9dad-8941dee2… ┆ 30bf469f-9abd-4011-a210-ff19fee2… │\n",
       "│ d705b538-1bd8-48a3-9dad-8941dee2… ┆ a26c9335-2459-4c89-a00c-fdecbeb2… │\n",
       "│ d705b538-1bd8-48a3-9dad-8941dee2… ┆ 69c903b5-dff0-4ded-86e4-ea97ac4e… │\n",
       "│ …                                 ┆ …                                 │\n",
       "│ fde30130-2882-4950-8fd4-5483b4a6… ┆ ed437fe5-c894-4ddf-b2ce-d1f91988… │\n",
       "│ fde30130-2882-4950-8fd4-5483b4a6… ┆ 6ea31f9c-d4fa-42a7-a77a-de92a793… │\n",
       "│ fde30130-2882-4950-8fd4-5483b4a6… ┆ ce4b8396-8061-4225-a1ed-0528f1ca… │\n",
       "│ fde30130-2882-4950-8fd4-5483b4a6… ┆ 224f17fd-74e2-4d0b-93a7-63bd7af9… │\n",
       "└───────────────────────────────────┴───────────────────────────────────┘"
      ]
     },
     "execution_count": 2,
     "metadata": {},
     "output_type": "execute_result"
    }
   ],
   "source": [
    "data = pl.read_parquet('train.parquet')\n",
    "data"
   ]
  },
  {
   "cell_type": "markdown",
   "id": "c0187017",
   "metadata": {},
   "source": [
    "## Метрики\n",
    "\n",
    "В этом задании нашей задачей будем оптимизация метрик ndcg@20. Тем не менее, такая метрику сложно интерпретировать и поэтому вам также будет доступно значение метрики hitrate@20, с которой вы уже познакомились в прошлой домашке"
   ]
  },
  {
   "cell_type": "markdown",
   "id": "43bf0329",
   "metadata": {},
   "source": [
    "В этом датасете идентификаторы представлены в виде строк, но для работы с ними может быть проще сделать преобразование в числа (например, для алгоритмов матричной факторизации)"
   ]
  },
  {
   "cell_type": "code",
   "execution_count": 3,
   "id": "07829521",
   "metadata": {},
   "outputs": [],
   "source": [
    "user_mapping = {k: v for v, k in enumerate(data['user_id'].unique())}\n",
    "user_mapping_inverse = {k: v for v, k in user_mapping.items()}\n",
    "\n",
    "artist_mapping = {k: v for v, k in enumerate(data['artist_id'].unique())}\n",
    "artist_mapping_inverse = {k: v for v, k in artist_mapping.items()}"
   ]
  },
  {
   "cell_type": "code",
   "execution_count": 4,
   "id": "156ede3e",
   "metadata": {
    "scrolled": true
   },
   "outputs": [
    {
     "data": {
      "text/html": [
       "<div><style>\n",
       ".dataframe > thead > tr > th,\n",
       ".dataframe > tbody > tr > td {\n",
       "  text-align: right;\n",
       "}\n",
       "</style>\n",
       "<small>shape: (50_000, 3)</small><table border=\"1\" class=\"dataframe\"><thead><tr><th>user_id</th><th>train_item_ids</th><th>test_item_ids</th></tr><tr><td>i64</td><td>list[i64]</td><td>list[i64]</td></tr></thead><tbody><tr><td>33184</td><td>[86491, 19721, … 32100]</td><td>[10576, 80516, 41209]</td></tr><tr><td>5664</td><td>[88327, 43739, … 785]</td><td>[86620, 10576, 60675]</td></tr><tr><td>30128</td><td>[39597, 58878, … 84229]</td><td>[1018, 44185, 44346]</td></tr><tr><td>43936</td><td>[84682, 6744, … 60307]</td><td>[27088, 55424, 82527]</td></tr><tr><td>49744</td><td>[20047, 585, … 67026]</td><td>[31118, 33005, 9885]</td></tr><tr><td>2448</td><td>[71718, 79306, … 17551]</td><td>[50014, 4360, 34093]</td></tr><tr><td>43072</td><td>[10241, 74500, … 66018]</td><td>[87291, 42596, 24444]</td></tr><tr><td>46752</td><td>[7971, 28536, … 17805]</td><td>[86964, 85244, 38926]</td></tr><tr><td>3120</td><td>[29345, 79092, … 34234]</td><td>[39692, 86514, 33545]</td></tr><tr><td>7264</td><td>[42276, 28139, … 23693]</td><td>[84029, 47127, 11677]</td></tr><tr><td>46592</td><td>[13199, 38984, … 1044]</td><td>[45127, 51186, 42298]</td></tr><tr><td>9568</td><td>[38984, 77551, … 65233]</td><td>[85395, 62115, 56517]</td></tr><tr><td>&hellip;</td><td>&hellip;</td><td>&hellip;</td></tr><tr><td>48207</td><td>[21867, 63154, … 49483]</td><td>[33373, 72882, 17862]</td></tr><tr><td>42799</td><td>[15245, 41299, … 27811]</td><td>[64054, 4383, 79624]</td></tr><tr><td>38463</td><td>[83787, 45406, … 11923]</td><td>[2787, 10399, 86385]</td></tr><tr><td>41231</td><td>[380, 13389, … 44035]</td><td>[51805, 89972, 68513]</td></tr><tr><td>17855</td><td>[47577, 68145, … 84776]</td><td>[30835, 66510, 80417]</td></tr><tr><td>27631</td><td>[47577, 66048, … 10317]</td><td>[54778, 31671, 10311]</td></tr><tr><td>26751</td><td>[15394, 6670, … 56556]</td><td>[37301, 33005, 62877]</td></tr><tr><td>13375</td><td>[87773, 29603, … 47577]</td><td>[82749, 45701, 71756]</td></tr><tr><td>17679</td><td>[67248, 58705, … 82951]</td><td>[34369, 55075, 89147]</td></tr><tr><td>28735</td><td>[10241, 35520, … 21985]</td><td>[89418, 5366, 18468]</td></tr><tr><td>7359</td><td>[28919, 81085, … 11381]</td><td>[75844, 46418, 39597]</td></tr><tr><td>23407</td><td>[33289, 2858, … 48088]</td><td>[72636, 89646, 53346]</td></tr></tbody></table></div>"
      ],
      "text/plain": [
       "shape: (50_000, 3)\n",
       "┌─────────┬─────────────────────────┬───────────────────────┐\n",
       "│ user_id ┆ train_item_ids          ┆ test_item_ids         │\n",
       "│ ---     ┆ ---                     ┆ ---                   │\n",
       "│ i64     ┆ list[i64]               ┆ list[i64]             │\n",
       "╞═════════╪═════════════════════════╪═══════════════════════╡\n",
       "│ 33184   ┆ [86491, 19721, … 32100] ┆ [10576, 80516, 41209] │\n",
       "│ 5664    ┆ [88327, 43739, … 785]   ┆ [86620, 10576, 60675] │\n",
       "│ 30128   ┆ [39597, 58878, … 84229] ┆ [1018, 44185, 44346]  │\n",
       "│ 43936   ┆ [84682, 6744, … 60307]  ┆ [27088, 55424, 82527] │\n",
       "│ …       ┆ …                       ┆ …                     │\n",
       "│ 17679   ┆ [67248, 58705, … 82951] ┆ [34369, 55075, 89147] │\n",
       "│ 28735   ┆ [10241, 35520, … 21985] ┆ [89418, 5366, 18468]  │\n",
       "│ 7359    ┆ [28919, 81085, … 11381] ┆ [75844, 46418, 39597] │\n",
       "│ 23407   ┆ [33289, 2858, … 48088]  ┆ [72636, 89646, 53346] │\n",
       "└─────────┴─────────────────────────┴───────────────────────┘"
      ]
     },
     "execution_count": 4,
     "metadata": {},
     "output_type": "execute_result"
    }
   ],
   "source": [
    "grouped_df_with_inds = (\n",
    "    data\n",
    "    .with_columns([\n",
    "        pl.col('user_id').apply(user_mapping.get),\n",
    "        pl.col('artist_id').apply(artist_mapping.get),\n",
    "    ])\n",
    "    # для каждого пользователя оставим последние 3 объекта в качестве тестовой выборки,\n",
    "    # а остальное будем использовать для тренировки\n",
    "    .groupby('user_id')\n",
    "    .agg([\n",
    "        pl.col('artist_id').apply(lambda x: x[:-3]).alias('train_item_ids'),\n",
    "        pl.col('artist_id').apply(lambda x: x[-3:]).alias('test_item_ids'),\n",
    "    ])\n",
    ")\n",
    "\n",
    "grouped_df_with_inds"
   ]
  },
  {
   "cell_type": "code",
   "execution_count": 5,
   "id": "36dea774",
   "metadata": {},
   "outputs": [
    {
     "name": "stdout",
     "output_type": "stream",
     "text": [
      "средняя длина сессии 42\n"
     ]
    }
   ],
   "source": [
    "median_seq_len = int(grouped_df_with_inds['train_item_ids'].apply(len).median())\n",
    "print(f\"средняя длина сессии {median_seq_len}\")"
   ]
  },
  {
   "cell_type": "code",
   "execution_count": 6,
   "id": "7cd5a463",
   "metadata": {},
   "outputs": [
    {
     "name": "stderr",
     "output_type": "stream",
     "text": [
      "100%|██████████████████████████████████████████████████████████████████████| 50000/50000 [00:04<00:00, 11651.66it/s]\n"
     ]
    }
   ],
   "source": [
    "reload(sr)\n",
    "user_item_data = sr.sparse_user_item(grouped_df_with_inds['user_id'],\n",
    "                                     grouped_df_with_inds['train_item_ids'])"
   ]
  },
  {
   "cell_type": "markdown",
   "id": "e064a3aa",
   "metadata": {},
   "source": [
    "## Бейзлайны\n",
    "\n",
    "В качестве простого бейзлайна будем рекомендовать самый популярных артистов\n",
    "\n",
    "Мы хотим сначала провалидировать такое решение, а значит в качестве популярных артистов мы возьмем только тех, кто чаще встречается в `train_item_ids`"
   ]
  },
  {
   "cell_type": "code",
   "execution_count": null,
   "id": "fa65a122",
   "metadata": {
    "scrolled": true
   },
   "outputs": [],
   "source": [
    "top_artists = (\n",
    "    grouped_df_with_inds\n",
    "    .select(pl.col('train_item_ids').alias('artist_id'))\n",
    "    .explode('artist_id')\n",
    "    .groupby('artist_id')\n",
    "    .count()\n",
    "    .sort('count', descending=True)\n",
    "    .head(sr.TOP_K + median_seq_len)\n",
    ")['artist_id'].to_list()"
   ]
  },
  {
   "cell_type": "code",
   "execution_count": null,
   "id": "2b39b15d",
   "metadata": {},
   "outputs": [],
   "source": [
    "ndcg_list = []\n",
    "hitrate_list = []\n",
    "\n",
    "for user_id, user_history, y_rel in grouped_df_with_inds.rows():\n",
    "    y_rec = top_artists.copy()\n",
    "    \n",
    "    ndcg_list.append(user_ndcg(y_rel, y_rec))\n",
    "    hitrate_list.append(user_hitrate(y_rel, y_rec))\n",
    "    \n",
    "print(f'NDCG@{TOP_K} = {np.mean(ndcg_list):.5f}, Hitrate@{TOP_K} = {np.mean(hitrate_list):.5f}')"
   ]
  },
  {
   "cell_type": "markdown",
   "id": "f30d3687",
   "metadata": {},
   "source": [
    "Не забываем про фильтрацию просмотренного (для разных доменов и подходов это не всегда улучши рекомендации, но в данном случае дало прирост)"
   ]
  },
  {
   "cell_type": "code",
   "execution_count": null,
   "id": "900f8bcc",
   "metadata": {},
   "outputs": [],
   "source": [
    "ndcg_list = []\n",
    "hitrate_list = []\n",
    "\n",
    "for user_id, user_history, y_rel in grouped_df_with_inds.rows():\n",
    "    y_rec = [artist_id for artist_id in top_artists if artist_id not in user_history]\n",
    "    \n",
    "    ndcg_list.append(user_ndcg(y_rel, y_rec))\n",
    "    hitrate_list.append(user_hitrate(y_rel, y_rec))\n",
    "    \n",
    "print(f'NDCG@{TOP_K} = {np.mean(ndcg_list):.5f}, Hitrate@{TOP_K} = {np.mean(hitrate_list):.5f}')"
   ]
  },
  {
   "cell_type": "markdown",
   "id": "b7373ba7",
   "metadata": {},
   "source": [
    "## Построим файл с рекомендациями\n",
    "\n",
    "Для построения рекомендаций теперь можем учесть все возможные данные"
   ]
  },
  {
   "cell_type": "code",
   "execution_count": 13,
   "id": "32275e4a",
   "metadata": {},
   "outputs": [],
   "source": [
    "top_artists = (\n",
    "    data\n",
    "    .groupby('artist_id')\n",
    "    .count()\n",
    "    .sort('count', descending=True)\n",
    "    .head(sr.TOP_K + median_seq_len)\n",
    ")['artist_id'].to_list()"
   ]
  },
  {
   "cell_type": "code",
   "execution_count": null,
   "id": "8a3cb241",
   "metadata": {
    "scrolled": true
   },
   "outputs": [],
   "source": [
    "submission = []\n",
    "\n",
    "for user_id, user_history in data.groupby('user_id').agg(pl.col('artist_id')).rows():\n",
    "    y_rec = top_artists.copy()\n",
    "    \n",
    "    submission.append((user_id, y_rec))\n",
    "    \n",
    "submission = pl.DataFrame(submission, schema=('user_id', 'y_rec'))\n",
    "submission.write_parquet('sample_submission.parquet')\n",
    "submission"
   ]
  },
  {
   "cell_type": "markdown",
   "id": "824f7ac3",
   "metadata": {},
   "source": [
    "Не забывайте, что в файле с рекомендациями должны быть **исходные идентификаторы (строки)**, а не преобразованные в числа!"
   ]
  },
  {
   "cell_type": "markdown",
   "id": "3a509360-f689-49bc-9852-2a26f2abd581",
   "metadata": {},
   "source": [
    "## Создание рекомендательной системы для авторов музыки Д/З\n",
    "- В этот раз вы не обладаете знаниями о контенте, зато у вас есть история прослушиваний исполнителей для каждого пользователя.\n",
    "- Нужно предсказать релевантные рекомендации для каждого пользователя на основе их истории прослушиваний.\n",
    "- параметры моделей по умолчанию зачастую не являются оптимальными, стоит подобрать наиболее подходящие\n",
    "- для улучшения метрик стоит обучать модель на всех возможных данных (train + test)\n",
    "в качестве комбинации методов можно использовать взвешенную сортировку, где вес зависит от позиции в списке рекомендаций и «качества» метода\n",
    "- При офлайн оценке рекомендуется оценивать ваше решение с помощью валидации по событиям"
   ]
  },
  {
   "cell_type": "code",
   "execution_count": null,
   "id": "28a87d14-b05d-456f-978c-d5dbf29a9296",
   "metadata": {
    "scrolled": true
   },
   "outputs": [],
   "source": [
    "reload(sr)\n",
    "study = sr.optimise_hyperparams(grouped_df_with_inds)\n",
    "study"
   ]
  },
  {
   "cell_type": "markdown",
   "id": "a23cbfda-7c7c-4771-9556-6f95c322a743",
   "metadata": {},
   "source": [
    "### Prepare submission"
   ]
  },
  {
   "cell_type": "code",
   "execution_count": 8,
   "id": "207da8e4-e369-434a-a25f-8bcfe523ebc8",
   "metadata": {},
   "outputs": [],
   "source": [
    "full_item_ids = (\n",
    "    data\n",
    "    .with_columns([\n",
    "        pl.col('user_id'),\n",
    "        pl.col('artist_id').apply(artist_mapping.get),\n",
    "    ])\n",
    "    .groupby('user_id')\n",
    "    .agg([\n",
    "        pl.col('artist_id').alias('history_ids'),\n",
    "    ])\n",
    ")"
   ]
  },
  {
   "cell_type": "code",
   "execution_count": 10,
   "id": "5a24f54c-6774-4e0d-beb4-bfc899f68fdb",
   "metadata": {},
   "outputs": [],
   "source": [
    "from gensim.models import Word2Vec\n",
    "# best_params = study.best_params\n",
    "# best_params = {'sg': 1, 'window': 3, 'ns_exponent': -1.2600306628405324, 'negative': 15, 'min_count': 1, 'vector_size': 16}\n",
    "best_params = {'sg': 0, 'window': 3, 'ns_exponent': -0.257840485330199, 'negative': 18, 'min_count': 18, 'vector_size': 64}\n",
    "final_model = Word2Vec(\n",
    "    full_item_ids['history_ids'].to_list(),\n",
    "    **best_params,\n",
    "    hs=0,\n",
    "    seed=sr.SEED,\n",
    "    epochs=50\n",
    ")"
   ]
  },
  {
   "cell_type": "code",
   "execution_count": 14,
   "id": "18a56897-0eb6-4ba7-a6d0-e67039131163",
   "metadata": {},
   "outputs": [
    {
     "name": "stderr",
     "output_type": "stream",
     "text": [
      "100%|███████████████████████████████████████████████████████████████████████| 50000/50000 [00:22<00:00, 2234.34it/s]\n"
     ]
    }
   ],
   "source": [
    "reload(sr)\n",
    "submission = sr.prepare_submission(data, final_model,\n",
    "                      artist_mapping, artist_mapping_inverse,\n",
    "                      top_artists)"
   ]
  },
  {
   "cell_type": "code",
   "execution_count": 15,
   "id": "a178b52c-35f0-4cb5-9294-0559127f3cf2",
   "metadata": {},
   "outputs": [
    {
     "data": {
      "text/html": [
       "<div><style>\n",
       ".dataframe > thead > tr > th,\n",
       ".dataframe > tbody > tr > td {\n",
       "  text-align: right;\n",
       "}\n",
       "</style>\n",
       "<small>shape: (50_000, 2)</small><table border=\"1\" class=\"dataframe\"><thead><tr><th>user_id</th><th>y_rec</th></tr><tr><td>str</td><td>list[str]</td></tr></thead><tbody><tr><td>&quot;754ee207-9625-…</td><td>[&quot;13145656-b46b-4dba-875f-9b6f7bf5d72e&quot;, &quot;db2802ef-5aac-4a78-a688-f022944f186b&quot;, … &quot;ebe601f7-8e0e-429c-b9be-8325337c85a7&quot;]</td></tr><tr><td>&quot;ad3a1511-a86b-…</td><td>[&quot;b4e4b725-d47f-4f79-b044-a14cdd47e980&quot;, &quot;c8841d2c-613a-40a7-89af-f7201f073c1d&quot;, … &quot;23c006f8-4187-4a3f-bb23-1c97fc0cd3db&quot;]</td></tr><tr><td>&quot;c76a0073-673f-…</td><td>[&quot;3af88cef-5bff-4ef7-adaf-1f1942408b96&quot;, &quot;d6e07452-b6f7-4d5e-83ac-5e9413b98cd1&quot;, … &quot;09f2763a-8edd-4ed6-ba4d-82c73fa4ff36&quot;]</td></tr><tr><td>&quot;7c0648a0-8e74-…</td><td>[&quot;a6cdae3d-16ae-430a-8716-b82f64ed758d&quot;, &quot;ef87386a-3b2f-45d3-a200-06d5116d5357&quot;, … &quot;224f17fd-74e2-4d0b-93a7-63bd7af9c01d&quot;]</td></tr><tr><td>&quot;c2329132-6aca-…</td><td>[&quot;0f3684df-3b34-4324-b228-9eb2e53619b8&quot;, &quot;985d096c-b1fe-473b-972f-f176d7ebd05c&quot;, … &quot;6d009688-63b4-48d0-ae25-5ab84137f108&quot;]</td></tr><tr><td>&quot;913e9952-5c4b-…</td><td>[&quot;4b83d4b0-9559-4346-ae3a-8eb54632c6f9&quot;, &quot;b6908c95-ed36-4bc1-bd0a-0ad196a2e387&quot;, … &quot;e0d0391a-7454-4d3e-a690-950204ef59bf&quot;]</td></tr><tr><td>&quot;3e545cf7-ebd8-…</td><td>[&quot;fbd6e44d-d56a-45d5-bf6d-49ec4bef01b1&quot;, &quot;c70a9c8c-a44c-4db1-a3ac-268a5326521a&quot;, … &quot;94b8478a-913b-4560-a633-1cf4b086647a&quot;]</td></tr><tr><td>&quot;9d2b7fc8-a794-…</td><td>[&quot;9f63ba39-eb64-449d-bd6b-be68970c64e3&quot;, &quot;13145656-b46b-4dba-875f-9b6f7bf5d72e&quot;, … &quot;f68f9f13-c536-4ff8-ac48-4fe1090a135e&quot;]</td></tr><tr><td>&quot;617ab812-0bf3-…</td><td>[&quot;42cee962-0f50-4728-b887-01cb7a207075&quot;, &quot;a662889e-d41f-4acd-9712-a983e3c3d91d&quot;, … &quot;b6a01c95-ca81-4396-861d-35c4e8e659c5&quot;]</td></tr><tr><td>&quot;f3065372-7d6d-…</td><td>[&quot;c70a9c8c-a44c-4db1-a3ac-268a5326521a&quot;, &quot;392d5791-06c0-4eb5-8b8c-be660a1d634e&quot;, … &quot;60b3db7e-4623-459c-a9bf-bf493de54b37&quot;]</td></tr><tr><td>&quot;32ca59a7-03c3-…</td><td>[&quot;d1947eb3-8fba-4084-a173-a514820ee4cc&quot;, &quot;7e0a77d9-a8f8-4a60-ac5d-f771056f8306&quot;, … &quot;39a327dd-fc85-46c0-9f6c-2ab8bac7b2a6&quot;]</td></tr><tr><td>&quot;3a8834bf-b764-…</td><td>[&quot;5cd0ffb5-0cf2-4ecd-8c5b-ca2102e33198&quot;, &quot;c70a9c8c-a44c-4db1-a3ac-268a5326521a&quot;, … &quot;eaa72629-4e8e-4201-974a-dd544a386b1e&quot;]</td></tr><tr><td>&hellip;</td><td>&hellip;</td></tr><tr><td>&quot;1c24a11f-db18-…</td><td>[&quot;4f0b2eeb-ae54-46d9-b5fa-6f4d315dbe6b&quot;, &quot;37803ce7-0eee-4714-a278-c56b92b5caba&quot;, … &quot;6e3b9954-7313-4e0d-a377-d51c6e5b7a2e&quot;]</td></tr><tr><td>&quot;67e7024a-dc57-…</td><td>[&quot;5cd0ffb5-0cf2-4ecd-8c5b-ca2102e33198&quot;, &quot;0f971801-697f-4652-8cc3-4c493b8472cd&quot;, … &quot;7c205ec2-d48b-4686-87ad-ee3533ffb5bc&quot;]</td></tr><tr><td>&quot;0dc98e54-e905-…</td><td>[&quot;5cd0ffb5-0cf2-4ecd-8c5b-ca2102e33198&quot;, &quot;fbd6e44d-d56a-45d5-bf6d-49ec4bef01b1&quot;, … &quot;9232a936-ce2d-473f-8526-6da103790f1f&quot;]</td></tr><tr><td>&quot;035be71c-7a76-…</td><td>[&quot;5013361c-4240-442e-855e-19f0185aa442&quot;, &quot;3e6852cc-d954-443b-a636-74a3a09afe95&quot;, … &quot;c8822a9f-f6f2-4025-ae84-8b7cd45c916f&quot;]</td></tr><tr><td>&quot;4a6335ab-a14a-…</td><td>[&quot;13145656-b46b-4dba-875f-9b6f7bf5d72e&quot;, &quot;9f63ba39-eb64-449d-bd6b-be68970c64e3&quot;, … &quot;e3682d95-ca4c-4749-8882-a3bdaaff0649&quot;]</td></tr><tr><td>&quot;f1cba403-60c3-…</td><td>[&quot;0f3684df-3b34-4324-b228-9eb2e53619b8&quot;, &quot;392d5791-06c0-4eb5-8b8c-be660a1d634e&quot;, … &quot;10832c5a-b122-4eba-8bbc-b05589fb34e1&quot;]</td></tr><tr><td>&quot;251b6953-d277-…</td><td>[&quot;6068650b-00fe-4c73-a567-f3056ab0286d&quot;, &quot;277c978f-65fd-4d35-9784-feed640f11b6&quot;, … &quot;4e9a3b38-d8d9-4d9c-a9cf-843c7bd956cb&quot;]</td></tr><tr><td>&quot;0506b081-3d6b-…</td><td>[&quot;ea63c8fd-4e9d-4735-8f87-15c27cd98540&quot;, &quot;d1947eb3-8fba-4084-a173-a514820ee4cc&quot;, … &quot;bd3e86c2-8403-4b26-b057-0c6de8750a2a&quot;]</td></tr><tr><td>&quot;b054edcf-7e9f-…</td><td>[&quot;5cd0ffb5-0cf2-4ecd-8c5b-ca2102e33198&quot;, &quot;d1947eb3-8fba-4084-a173-a514820ee4cc&quot;, … &quot;19cdee1f-2e3a-4731-a989-ec82787d1c46&quot;]</td></tr><tr><td>&quot;fd751535-fa35-…</td><td>[&quot;d1947eb3-8fba-4084-a173-a514820ee4cc&quot;, &quot;76f67ddb-f1d0-4502-abf7-42224deb5cda&quot;, … &quot;3a341c44-0edc-408b-a234-8eaad397cd54&quot;]</td></tr><tr><td>&quot;28b983f4-3768-…</td><td>[&quot;a26c9335-2459-4c89-a00c-fdecbeb2c8c4&quot;, &quot;7611fde9-6085-4130-89b5-ee3f3e7ea9f9&quot;, … &quot;224f17fd-74e2-4d0b-93a7-63bd7af9c01d&quot;]</td></tr><tr><td>&quot;1faa3d71-cdbd-…</td><td>[&quot;f468c554-1cf2-4bd6-9281-4ed93216427c&quot;, &quot;d1947eb3-8fba-4084-a173-a514820ee4cc&quot;, … &quot;ea63c8fd-4e9d-4735-8f87-15c27cd98540&quot;]</td></tr></tbody></table></div>"
      ],
      "text/plain": [
       "shape: (50_000, 2)\n",
       "┌───────────────────────────────────┬───────────────────────────────────┐\n",
       "│ user_id                           ┆ y_rec                             │\n",
       "│ ---                               ┆ ---                               │\n",
       "│ str                               ┆ list[str]                         │\n",
       "╞═══════════════════════════════════╪═══════════════════════════════════╡\n",
       "│ 754ee207-9625-478e-92ed-e2d229c3… ┆ [\"13145656-b46b-4dba-875f-9b6f7b… │\n",
       "│ ad3a1511-a86b-477b-91d0-b43c9362… ┆ [\"b4e4b725-d47f-4f79-b044-a14cdd… │\n",
       "│ c76a0073-673f-4d02-94a6-617af324… ┆ [\"3af88cef-5bff-4ef7-adaf-1f1942… │\n",
       "│ 7c0648a0-8e74-4f02-961f-98570050… ┆ [\"a6cdae3d-16ae-430a-8716-b82f64… │\n",
       "│ …                                 ┆ …                                 │\n",
       "│ b054edcf-7e9f-4e29-83ce-f4a50775… ┆ [\"5cd0ffb5-0cf2-4ecd-8c5b-ca2102… │\n",
       "│ fd751535-fa35-4727-b14b-da123043… ┆ [\"d1947eb3-8fba-4084-a173-a51482… │\n",
       "│ 28b983f4-3768-4e6b-b753-a1c3607d… ┆ [\"a26c9335-2459-4c89-a00c-fdecbe… │\n",
       "│ 1faa3d71-cdbd-468b-8e56-99317f47… ┆ [\"f468c554-1cf2-4bd6-9281-4ed932… │\n",
       "└───────────────────────────────────┴───────────────────────────────────┘"
      ]
     },
     "execution_count": 15,
     "metadata": {},
     "output_type": "execute_result"
    }
   ],
   "source": [
    "submission = pl.read_parquet(sr.SUBMITION_FILE)\n",
    "submission"
   ]
  },
  {
   "cell_type": "code",
   "execution_count": null,
   "id": "9911f4dc-9c51-40c8-9d0b-5a8bb0b7c3b7",
   "metadata": {},
   "outputs": [],
   "source": []
  }
 ],
 "metadata": {
  "kernelspec": {
   "display_name": "Python 3 (ipykernel)",
   "language": "python",
   "name": "python3"
  },
  "language_info": {
   "codemirror_mode": {
    "name": "ipython",
    "version": 3
   },
   "file_extension": ".py",
   "mimetype": "text/x-python",
   "name": "python",
   "nbconvert_exporter": "python",
   "pygments_lexer": "ipython3",
   "version": "3.10.12"
  }
 },
 "nbformat": 4,
 "nbformat_minor": 5
}
