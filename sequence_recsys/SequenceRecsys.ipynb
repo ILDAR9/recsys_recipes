{
 "cells": [
  {
   "cell_type": "code",
   "execution_count": null,
   "id": "41a960cc",
   "metadata": {},
   "outputs": [],
   "source": [
    "# расскоментируйте код ниже, чтобы установить все зависимости\n",
    "# !pip install -q \\\n",
    "#     pyarrow==12.0.1 \\\n",
    "#     polars==0.18.6 \\\n",
    "#     pandas==2.0.3 \\\n",
    "#     optuna==3.3.0 \\\n",
    "#     tqdm==4.65.0 \\\n",
    "#     numpy==1.24.3 \\\n",
    "#     redis==4.6.0 \\\n",
    "#     gensim==4.3.2"
   ]
  },
  {
   "cell_type": "code",
   "execution_count": null,
   "id": "a1764fbb",
   "metadata": {},
   "outputs": [],
   "source": [
    "# раскоментируйте код ниже, чтобы скачать данные\n",
    "# !wget -q https://files.grouplens.org/datasets/movielens/ml-100k.zip\n",
    "# !unzip -q ml-100k.zip"
   ]
  },
  {
   "cell_type": "code",
   "execution_count": 1,
   "id": "08656b16",
   "metadata": {},
   "outputs": [
    {
     "name": "stderr",
     "output_type": "stream",
     "text": [
      "/home/i.nurgaliev/recsys/venv/lib/python3.10/site-packages/tqdm/auto.py:21: TqdmWarning: IProgress not found. Please update jupyter and ipywidgets. See https://ipywidgets.readthedocs.io/en/stable/user_install.html\n",
      "  from .autonotebook import tqdm as notebook_tqdm\n"
     ]
    }
   ],
   "source": [
    "import uuid\n",
    "import redis\n",
    "import optuna\n",
    "import random\n",
    "\n",
    "import polars as pl\n",
    "import pandas as pd\n",
    "import numpy as np\n",
    "from tqdm import tqdm\n",
    "from gensim.models import Word2Vec\n",
    "\n",
    "from typing import List, Any"
   ]
  },
  {
   "cell_type": "code",
   "execution_count": 2,
   "id": "b51a51a3",
   "metadata": {
    "scrolled": true
   },
   "outputs": [
    {
     "data": {
      "text/html": [
       "<div><style>\n",
       ".dataframe > thead > tr > th,\n",
       ".dataframe > tbody > tr > td {\n",
       "  text-align: right;\n",
       "}\n",
       "</style>\n",
       "<small>shape: (55_375, 4)</small><table border=\"1\" class=\"dataframe\"><thead><tr><th>user_id</th><th>item_id</th><th>rating</th><th>timestamp</th></tr><tr><td>i64</td><td>i64</td><td>i64</td><td>i64</td></tr></thead><tbody><tr><td>298</td><td>474</td><td>4</td><td>884182806</td></tr><tr><td>253</td><td>465</td><td>5</td><td>891628467</td></tr><tr><td>286</td><td>1014</td><td>5</td><td>879781125</td></tr><tr><td>200</td><td>222</td><td>5</td><td>876042340</td></tr><tr><td>122</td><td>387</td><td>5</td><td>879270459</td></tr><tr><td>291</td><td>1042</td><td>4</td><td>874834944</td></tr><tr><td>119</td><td>392</td><td>4</td><td>886176814</td></tr><tr><td>167</td><td>486</td><td>4</td><td>892738452</td></tr><tr><td>299</td><td>144</td><td>4</td><td>877881320</td></tr><tr><td>308</td><td>1</td><td>4</td><td>887736532</td></tr><tr><td>38</td><td>95</td><td>5</td><td>892430094</td></tr><tr><td>63</td><td>277</td><td>4</td><td>875747401</td></tr><tr><td>&hellip;</td><td>&hellip;</td><td>&hellip;</td><td>&hellip;</td></tr><tr><td>429</td><td>199</td><td>5</td><td>882386006</td></tr><tr><td>897</td><td>369</td><td>4</td><td>879993713</td></tr><tr><td>936</td><td>287</td><td>4</td><td>886832419</td></tr><tr><td>821</td><td>151</td><td>4</td><td>874792889</td></tr><tr><td>113</td><td>975</td><td>5</td><td>875936424</td></tr><tr><td>864</td><td>685</td><td>4</td><td>888891900</td></tr><tr><td>617</td><td>582</td><td>4</td><td>883789294</td></tr><tr><td>421</td><td>498</td><td>4</td><td>892241344</td></tr><tr><td>495</td><td>1091</td><td>4</td><td>888637503</td></tr><tr><td>806</td><td>421</td><td>4</td><td>882388897</td></tr><tr><td>676</td><td>538</td><td>4</td><td>892685437</td></tr><tr><td>716</td><td>204</td><td>5</td><td>879795543</td></tr></tbody></table></div>"
      ],
      "text/plain": [
       "shape: (55_375, 4)\n",
       "┌─────────┬─────────┬────────┬───────────┐\n",
       "│ user_id ┆ item_id ┆ rating ┆ timestamp │\n",
       "│ ---     ┆ ---     ┆ ---    ┆ ---       │\n",
       "│ i64     ┆ i64     ┆ i64    ┆ i64       │\n",
       "╞═════════╪═════════╪════════╪═══════════╡\n",
       "│ 298     ┆ 474     ┆ 4      ┆ 884182806 │\n",
       "│ 253     ┆ 465     ┆ 5      ┆ 891628467 │\n",
       "│ 286     ┆ 1014    ┆ 5      ┆ 879781125 │\n",
       "│ 200     ┆ 222     ┆ 5      ┆ 876042340 │\n",
       "│ …       ┆ …       ┆ …      ┆ …         │\n",
       "│ 495     ┆ 1091    ┆ 4      ┆ 888637503 │\n",
       "│ 806     ┆ 421     ┆ 4      ┆ 882388897 │\n",
       "│ 676     ┆ 538     ┆ 4      ┆ 892685437 │\n",
       "│ 716     ┆ 204     ┆ 5      ┆ 879795543 │\n",
       "└─────────┴─────────┴────────┴───────────┘"
      ]
     },
     "execution_count": 2,
     "metadata": {},
     "output_type": "execute_result"
    }
   ],
   "source": [
    "ratings = pd.read_csv(\n",
    "    'ml-100k/u.data', sep='\\t',\n",
    "    names=['user_id', 'item_id', 'rating', 'timestamp']\n",
    ")\n",
    "ratings = pl.from_pandas(ratings).filter(pl.col('rating') >= 4)\n",
    "ratings"
   ]
  },
  {
   "cell_type": "code",
   "execution_count": 3,
   "id": "c35a23ae",
   "metadata": {
    "scrolled": true
   },
   "outputs": [
    {
     "data": {
      "text/html": [
       "<div><style>\n",
       ".dataframe > thead > tr > th,\n",
       ".dataframe > tbody > tr > td {\n",
       "  text-align: right;\n",
       "}\n",
       "</style>\n",
       "<small>shape: (942, 5)</small><table border=\"1\" class=\"dataframe\"><thead><tr><th>user_id</th><th>train_ids</th><th>train_ratings</th><th>test_ids</th><th>test_ratings</th></tr><tr><td>i64</td><td>list[i64]</td><td>list[i64]</td><td>list[i64]</td><td>list[i64]</td></tr></thead><tbody><tr><td>192</td><td>[1061, 1160, … 100]</td><td>[4, 4, … 5]</td><td>[289, 9, 287]</td><td>[4, 5, 4]</td></tr><tr><td>336</td><td>[1047, 1057, … 1118]</td><td>[4, 4, … 4]</td><td>[273, 50, 173]</td><td>[5, 4, 5]</td></tr><tr><td>160</td><td>[234, 174, … 250]</td><td>[5, 5, … 4]</td><td>[488, 952, 127]</td><td>[5, 4, 5]</td></tr><tr><td>256</td><td>[452, 781, … 21]</td><td>[4, 5, … 4]</td><td>[829, 597, 230]</td><td>[4, 4, 4]</td></tr><tr><td>928</td><td>[8, 98, … 168]</td><td>[5, 5, … 5]</td><td>[191, 135, 9]</td><td>[5, 4, 5]</td></tr><tr><td>384</td><td>[272, 355, … 327]</td><td>[5, 4, … 4]</td><td>[879, 258, 286]</td><td>[4, 4, 4]</td></tr><tr><td>32</td><td>[1012, 249, … 7]</td><td>[4, 4, … 4]</td><td>[628, 50, 181]</td><td>[4, 4, 4]</td></tr><tr><td>528</td><td>[239, 58, … 202]</td><td>[5, 5, … 5]</td><td>[79, 213, 410]</td><td>[5, 4, 4]</td></tr><tr><td>64</td><td>[381, 736, … 732]</td><td>[4, 4, … 4]</td><td>[651, 503, 184]</td><td>[4, 4, 4]</td></tr><tr><td>224</td><td>[77, 69, … 570]</td><td>[4, 4, … 4]</td><td>[526, 378, 731]</td><td>[4, 4, 4]</td></tr><tr><td>864</td><td>[408, 53, … 265]</td><td>[5, 4, … 5]</td><td>[550, 151, 685]</td><td>[4, 5, 4]</td></tr><tr><td>656</td><td>[347]</td><td>[4]</td><td>[344, 303, 896]</td><td>[4, 4, 5]</td></tr><tr><td>&hellip;</td><td>&hellip;</td><td>&hellip;</td><td>&hellip;</td><td>&hellip;</td></tr><tr><td>783</td><td>[346, 876, … 299]</td><td>[5, 4, … 5]</td><td>[292, 880, 895]</td><td>[4, 4, 4]</td></tr><tr><td>31</td><td>[484, 302, … 1022]</td><td>[5, 4, … 5]</td><td>[1019, 611, 192]</td><td>[5, 4, 4]</td></tr><tr><td>335</td><td>[245, 269, … 307]</td><td>[4, 4, … 5]</td><td>[300, 322, 340]</td><td>[5, 4, 5]</td></tr><tr><td>831</td><td>[96, 591, … 197]</td><td>[5, 4, … 4]</td><td>[22, 56, 690]</td><td>[5, 5, 4]</td></tr><tr><td>63</td><td>[277, 100, … 262]</td><td>[4, 5, … 4]</td><td>[137, 283, 10]</td><td>[4, 4, 4]</td></tr><tr><td>527</td><td>[956, 588, … 9]</td><td>[4, 4, … 5]</td><td>[144, 526, 659]</td><td>[4, 5, 4]</td></tr><tr><td>671</td><td>[250, 385, … 553]</td><td>[5, 5, … 5]</td><td>[82, 273, 195]</td><td>[4, 4, 5]</td></tr><tr><td>703</td><td>[293, 7, … 926]</td><td>[4, 4, … 4]</td><td>[1012, 127, 100]</td><td>[4, 5, 4]</td></tr><tr><td>95</td><td>[625, 233, … 219]</td><td>[4, 4, … 4]</td><td>[473, 433, 507]</td><td>[4, 4, 4]</td></tr><tr><td>399</td><td>[459, 924, … 1]</td><td>[4, 5, … 4]</td><td>[54, 11, 182]</td><td>[4, 4, 4]</td></tr><tr><td>511</td><td>[346, 292, … 260]</td><td>[4, 5, … 4]</td><td>[887, 1527, 340]</td><td>[5, 4, 4]</td></tr><tr><td>927</td><td>[222, 138, … 742]</td><td>[5, 4, … 5]</td><td>[38, 91, 28]</td><td>[5, 4, 4]</td></tr></tbody></table></div>"
      ],
      "text/plain": [
       "shape: (942, 5)\n",
       "┌─────────┬──────────────────────┬───────────────┬──────────────────┬──────────────┐\n",
       "│ user_id ┆ train_ids            ┆ train_ratings ┆ test_ids         ┆ test_ratings │\n",
       "│ ---     ┆ ---                  ┆ ---           ┆ ---              ┆ ---          │\n",
       "│ i64     ┆ list[i64]            ┆ list[i64]     ┆ list[i64]        ┆ list[i64]    │\n",
       "╞═════════╪══════════════════════╪═══════════════╪══════════════════╪══════════════╡\n",
       "│ 192     ┆ [1061, 1160, … 100]  ┆ [4, 4, … 5]   ┆ [289, 9, 287]    ┆ [4, 5, 4]    │\n",
       "│ 336     ┆ [1047, 1057, … 1118] ┆ [4, 4, … 4]   ┆ [273, 50, 173]   ┆ [5, 4, 5]    │\n",
       "│ 160     ┆ [234, 174, … 250]    ┆ [5, 5, … 4]   ┆ [488, 952, 127]  ┆ [5, 4, 5]    │\n",
       "│ 256     ┆ [452, 781, … 21]     ┆ [4, 5, … 4]   ┆ [829, 597, 230]  ┆ [4, 4, 4]    │\n",
       "│ …       ┆ …                    ┆ …             ┆ …                ┆ …            │\n",
       "│ 95      ┆ [625, 233, … 219]    ┆ [4, 4, … 4]   ┆ [473, 433, 507]  ┆ [4, 4, 4]    │\n",
       "│ 399     ┆ [459, 924, … 1]      ┆ [4, 5, … 4]   ┆ [54, 11, 182]    ┆ [4, 4, 4]    │\n",
       "│ 511     ┆ [346, 292, … 260]    ┆ [4, 5, … 4]   ┆ [887, 1527, 340] ┆ [5, 4, 4]    │\n",
       "│ 927     ┆ [222, 138, … 742]    ┆ [5, 4, … 5]   ┆ [38, 91, 28]     ┆ [5, 4, 4]    │\n",
       "└─────────┴──────────────────────┴───────────────┴──────────────────┴──────────────┘"
      ]
     },
     "execution_count": 3,
     "metadata": {},
     "output_type": "execute_result"
    }
   ],
   "source": [
    "grouped_df = (\n",
    "    ratings\n",
    "    .groupby('user_id')\n",
    "    .agg([\n",
    "        pl.col('item_id').apply(lambda x: x[:-3]).alias('train_ids'),\n",
    "        pl.col('rating').apply(lambda x: x[:-3]).alias('train_ratings'),\n",
    "        pl.col('item_id').apply(lambda x: x[-3:]).alias('test_ids'),\n",
    "        pl.col('rating').apply(lambda x: x[-3:]).alias('test_ratings'),\n",
    "    ])\n",
    ")\n",
    "grouped_df"
   ]
  },
  {
   "cell_type": "code",
   "execution_count": 4,
   "id": "f58e8ab6",
   "metadata": {},
   "outputs": [],
   "source": [
    "TOP_K = 10\n",
    "\n",
    "\n",
    "def user_intersection(y_rel: List[Any], y_rec: List[Any], k: int = 10) -> int:\n",
    "    \"\"\"\n",
    "    :param y_rel: relevant items\n",
    "    :param y_rec: recommended items\n",
    "    :param k: number of top recommended items\n",
    "    :return: number of items in intersection of y_rel and y_rec (truncated to top-K)\n",
    "    \"\"\"\n",
    "    return len(set(y_rec[:k]).intersection(set(y_rel)))\n",
    "\n",
    "\n",
    "def user_hitrate(y_rel: List[Any], y_rec: List[Any], k: int = 10) -> int:\n",
    "    \"\"\"\n",
    "    :param y_rel: relevant items\n",
    "    :param y_rec: recommended items\n",
    "    :param k: number of top recommended items\n",
    "    :return: 1 if top-k recommendations contains at lease one relevant item\n",
    "    \"\"\"\n",
    "    return int(user_intersection(y_rel, y_rec, k) > 0)\n",
    "\n",
    "\n",
    "def user_precision(y_rel: List[Any], y_rec: List[Any], k: int = 10) -> float:\n",
    "    \"\"\"\n",
    "    :param y_rel: relevant items\n",
    "    :param y_rec: recommended items\n",
    "    :param k: number of top recommended items\n",
    "    :return: percentage of relevant items through recommendations\n",
    "    \"\"\"\n",
    "    return user_intersection(y_rel, y_rec, k) / k\n",
    "\n",
    "\n",
    "def user_ap(y_rel: List[Any], y_rec: List[Any], k: int = 10) -> float:\n",
    "    \"\"\"\n",
    "    :param y_rel: relevant items\n",
    "    :param y_rec: recommended items\n",
    "    :param k: number of top recommended items\n",
    "    :return: average precision metric for user recommendations\n",
    "    \"\"\"\n",
    "    return np.sum([\n",
    "        user_precision(y_rel, y_rec, idx + 1)\n",
    "        for idx, item in enumerate(y_rec[:k]) if item in y_rel\n",
    "    ]) / k"
   ]
  },
  {
   "cell_type": "markdown",
   "id": "e0910f0d",
   "metadata": {},
   "source": [
    "## Применим алгоритм w2v\n",
    "\n",
    "Внутри gensim написан эффективный метод `predict_output_word`, позволяющий получать следующие возможные токены (в нашем случае объекты для рекомендации), перед фильтрацией просмотренного попросим его сгенерировать на `len(train_ids)` токенов больше (в худшем случае, нам придется все отфильтровать)"
   ]
  },
  {
   "cell_type": "code",
   "execution_count": 5,
   "id": "ec98af4c",
   "metadata": {},
   "outputs": [
    {
     "name": "stdout",
     "output_type": "stream",
     "text": [
      "MAP@10 = 0.0026 Hitrate@10 = 0.1083\n"
     ]
    }
   ],
   "source": [
    "def evaluate_model(model):\n",
    "    ap_list = []\n",
    "    hitrate_list = []\n",
    "    for train_ids, y_rel in grouped_df.select('train_ids', 'test_ids').rows():\n",
    "        model_preds = model.predict_output_word(\n",
    "            train_ids, topn=(TOP_K + len(train_ids))\n",
    "        )\n",
    "        if model_preds is None:\n",
    "            hitrate_list.append(0)\n",
    "            continue\n",
    "\n",
    "        y_rec = [pred[0] for pred in model_preds if pred[0] not in train_ids]\n",
    "        ap_list.append(user_ap(y_rel, y_rec))\n",
    "        hitrate_list.append(user_hitrate(y_rel, y_rec))\n",
    "    return np.mean(ap_list), np.mean(hitrate_list)\n",
    "\n",
    "# обучим w2v с параметрами по умолчанию\n",
    "model = Word2Vec(grouped_df['train_ids'].to_list())\n",
    "mean_ap, mean_hitrate = evaluate_model(model)\n",
    "print(f'MAP@{TOP_K} = {mean_ap:.4f} Hitrate@{TOP_K} = {mean_hitrate:.4f}')"
   ]
  },
  {
   "cell_type": "markdown",
   "id": "354f00d4",
   "metadata": {},
   "source": [
    "## Подберем самые оптимальные гиперпараметры с помощью optuna\n",
    "\n",
    "Дла алгоритма [W2V](https://radimrehurek.com/gensim/models/word2vec.html#gensim.models.word2vec.Word2Vec) рассмотрим следующие параметры:\n",
    "\n",
    "- `sg` – 1, если использовать skip-gram, иначе cbow\n",
    "- `window` – размер окна для обучения алгоритма w2v\n",
    "- `ns_exponent` – степень популярности объектов, которая будет использована для negative sampling\n",
    "- `negative` – количество негативных примеров для сэмплирования\n",
    "- `min_count` – минимальное число взаимодействий, нужное для \n",
    "- `vector_size` – размерность эмбеддингов"
   ]
  },
  {
   "cell_type": "code",
   "execution_count": 6,
   "id": "5c4bf5e1",
   "metadata": {
    "scrolled": true
   },
   "outputs": [
    {
     "name": "stderr",
     "output_type": "stream",
     "text": [
      "[I 2023-10-21 10:33:00,127] A new study created in memory with name: no-name-62dfb982-8983-4bce-9c11-da16b4298e3c\n"
     ]
    },
    {
     "name": "stdout",
     "output_type": "stream",
     "text": [
      "{'sg': 1, 'window_len': 4, 'ns_exponent': 2.7581226625078106, 'negative': 5, 'min_count': 3, 'vector_size': 32}\n"
     ]
    },
    {
     "name": "stderr",
     "output_type": "stream",
     "text": [
      "[I 2023-10-21 10:33:01,143] Trial 0 finished with value: 0.004109464707868963 and parameters: {'sg': 1, 'window': 4, 'ns_exponent': 2.7581226625078106, 'negative': 5, 'min_count': 3, 'vector_size': 32}. Best is trial 0 with value: 0.004109464707868963.\n"
     ]
    },
    {
     "name": "stdout",
     "output_type": "stream",
     "text": [
      "MAP@10 = 0.0041 Hitrate@10 = 0.1062\n",
      "{'sg': 0, 'window_len': 2, 'ns_exponent': -1.3562907906098454, 'negative': 15, 'min_count': 5, 'vector_size': 64}\n"
     ]
    },
    {
     "name": "stderr",
     "output_type": "stream",
     "text": [
      "[I 2023-10-21 10:33:01,898] Trial 1 finished with value: 0.00873032759202972 and parameters: {'sg': 0, 'window': 2, 'ns_exponent': -1.3562907906098454, 'negative': 15, 'min_count': 5, 'vector_size': 64}. Best is trial 1 with value: 0.00873032759202972.\n"
     ]
    },
    {
     "name": "stdout",
     "output_type": "stream",
     "text": [
      "MAP@10 = 0.0087 Hitrate@10 = 0.1985\n",
      "{'sg': 0, 'window_len': 9, 'ns_exponent': -1.581304645235897, 'negative': 14, 'min_count': 13, 'vector_size': 128}\n"
     ]
    },
    {
     "name": "stderr",
     "output_type": "stream",
     "text": [
      "[I 2023-10-21 10:33:02,823] Trial 2 finished with value: 0.011347180006754476 and parameters: {'sg': 0, 'window': 9, 'ns_exponent': -1.581304645235897, 'negative': 14, 'min_count': 13, 'vector_size': 128}. Best is trial 2 with value: 0.011347180006754476.\n"
     ]
    },
    {
     "name": "stdout",
     "output_type": "stream",
     "text": [
      "MAP@10 = 0.0113 Hitrate@10 = 0.2686\n",
      "{'sg': 0, 'window_len': 7, 'ns_exponent': 1.5455542880572635, 'negative': 15, 'min_count': 11, 'vector_size': 32}\n"
     ]
    },
    {
     "name": "stderr",
     "output_type": "stream",
     "text": [
      "[I 2023-10-21 10:33:03,626] Trial 3 finished with value: 0.008971209050996286 and parameters: {'sg': 0, 'window': 7, 'ns_exponent': 1.5455542880572635, 'negative': 15, 'min_count': 11, 'vector_size': 32}. Best is trial 2 with value: 0.011347180006754476.\n"
     ]
    },
    {
     "name": "stdout",
     "output_type": "stream",
     "text": [
      "MAP@10 = 0.0090 Hitrate@10 = 0.2081\n",
      "{'sg': 0, 'window_len': 8, 'ns_exponent': 1.165370535415807, 'negative': 18, 'min_count': 0, 'vector_size': 32}\n"
     ]
    },
    {
     "name": "stderr",
     "output_type": "stream",
     "text": [
      "[I 2023-10-21 10:33:04,552] Trial 4 finished with value: 0.004952803107058426 and parameters: {'sg': 0, 'window': 8, 'ns_exponent': 1.165370535415807, 'negative': 18, 'min_count': 0, 'vector_size': 32}. Best is trial 2 with value: 0.011347180006754476.\n"
     ]
    },
    {
     "name": "stdout",
     "output_type": "stream",
     "text": [
      "MAP@10 = 0.0050 Hitrate@10 = 0.1210\n",
      "{'sg': 0, 'window_len': 7, 'ns_exponent': 1.6227163249640375, 'negative': 5, 'min_count': 2, 'vector_size': 64}\n"
     ]
    },
    {
     "name": "stderr",
     "output_type": "stream",
     "text": [
      "[I 2023-10-21 10:33:05,111] Trial 5 finished with value: 0.0048741979061128005 and parameters: {'sg': 0, 'window': 7, 'ns_exponent': 1.6227163249640375, 'negative': 5, 'min_count': 2, 'vector_size': 64}. Best is trial 2 with value: 0.011347180006754476.\n"
     ]
    },
    {
     "name": "stdout",
     "output_type": "stream",
     "text": [
      "MAP@10 = 0.0049 Hitrate@10 = 0.1200\n",
      "{'sg': 0, 'window_len': 6, 'ns_exponent': -1.928800019867124, 'negative': 6, 'min_count': 7, 'vector_size': 32}\n"
     ]
    },
    {
     "name": "stderr",
     "output_type": "stream",
     "text": [
      "[I 2023-10-21 10:33:05,661] Trial 6 finished with value: 0.010258527524484971 and parameters: {'sg': 0, 'window': 6, 'ns_exponent': -1.928800019867124, 'negative': 6, 'min_count': 7, 'vector_size': 32}. Best is trial 2 with value: 0.011347180006754476.\n"
     ]
    },
    {
     "name": "stdout",
     "output_type": "stream",
     "text": [
      "MAP@10 = 0.0103 Hitrate@10 = 0.1996\n",
      "{'sg': 1, 'window_len': 10, 'ns_exponent': -0.42028306483831024, 'negative': 12, 'min_count': 13, 'vector_size': 32}\n"
     ]
    },
    {
     "name": "stderr",
     "output_type": "stream",
     "text": [
      "[I 2023-10-21 10:33:09,492] Trial 7 finished with value: 0.020928486997635935 and parameters: {'sg': 1, 'window': 10, 'ns_exponent': -0.42028306483831024, 'negative': 12, 'min_count': 13, 'vector_size': 32}. Best is trial 7 with value: 0.020928486997635935.\n"
     ]
    },
    {
     "name": "stdout",
     "output_type": "stream",
     "text": [
      "MAP@10 = 0.0209 Hitrate@10 = 0.4066\n",
      "{'sg': 0, 'window_len': 3, 'ns_exponent': -1.7680193258615362, 'negative': 14, 'min_count': 0, 'vector_size': 64}\n"
     ]
    },
    {
     "name": "stderr",
     "output_type": "stream",
     "text": [
      "[I 2023-10-21 10:33:10,144] Trial 8 finished with value: 0.010633823032759204 and parameters: {'sg': 0, 'window': 3, 'ns_exponent': -1.7680193258615362, 'negative': 14, 'min_count': 0, 'vector_size': 64}. Best is trial 7 with value: 0.020928486997635935.\n"
     ]
    },
    {
     "name": "stdout",
     "output_type": "stream",
     "text": [
      "MAP@10 = 0.0106 Hitrate@10 = 0.2452\n",
      "{'sg': 0, 'window_len': 10, 'ns_exponent': -2.216983845219264, 'negative': 5, 'min_count': 5, 'vector_size': 16}\n"
     ]
    },
    {
     "name": "stderr",
     "output_type": "stream",
     "text": [
      "[I 2023-10-21 10:33:10,685] Trial 9 finished with value: 0.010180555555555556 and parameters: {'sg': 0, 'window': 10, 'ns_exponent': -2.216983845219264, 'negative': 5, 'min_count': 5, 'vector_size': 16}. Best is trial 7 with value: 0.020928486997635935.\n"
     ]
    },
    {
     "name": "stdout",
     "output_type": "stream",
     "text": [
      "MAP@10 = 0.0102 Hitrate@10 = 0.2049\n",
      "{'sg': 1, 'window_len': 10, 'ns_exponent': -0.23067779689916335, 'negative': 10, 'min_count': 17, 'vector_size': 128}\n"
     ]
    },
    {
     "name": "stderr",
     "output_type": "stream",
     "text": [
      "[I 2023-10-21 10:33:15,124] Trial 10 finished with value: 0.026522500844309356 and parameters: {'sg': 1, 'window': 10, 'ns_exponent': -0.23067779689916335, 'negative': 10, 'min_count': 17, 'vector_size': 128}. Best is trial 10 with value: 0.026522500844309356.\n"
     ]
    },
    {
     "name": "stdout",
     "output_type": "stream",
     "text": [
      "MAP@10 = 0.0265 Hitrate@10 = 0.4650\n",
      "{'sg': 1, 'window_len': 10, 'ns_exponent': -0.2731512286661891, 'negative': 10, 'min_count': 19, 'vector_size': 128}\n"
     ]
    },
    {
     "name": "stderr",
     "output_type": "stream",
     "text": [
      "[I 2023-10-21 10:33:19,694] Trial 11 finished with value: 0.024716354272205338 and parameters: {'sg': 1, 'window': 10, 'ns_exponent': -0.2731512286661891, 'negative': 10, 'min_count': 19, 'vector_size': 128}. Best is trial 10 with value: 0.026522500844309356.\n"
     ]
    },
    {
     "name": "stdout",
     "output_type": "stream",
     "text": [
      "MAP@10 = 0.0247 Hitrate@10 = 0.4469\n",
      "{'sg': 1, 'window_len': 10, 'ns_exponent': -0.08306560873529606, 'negative': 9, 'min_count': 20, 'vector_size': 128}\n"
     ]
    },
    {
     "name": "stderr",
     "output_type": "stream",
     "text": [
      "[I 2023-10-21 10:33:24,010] Trial 12 finished with value: 0.030962470449172576 and parameters: {'sg': 1, 'window': 10, 'ns_exponent': -0.08306560873529606, 'negative': 9, 'min_count': 20, 'vector_size': 128}. Best is trial 12 with value: 0.030962470449172576.\n"
     ]
    },
    {
     "name": "stdout",
     "output_type": "stream",
     "text": [
      "MAP@10 = 0.0310 Hitrate@10 = 0.5287\n",
      "{'sg': 1, 'window_len': 8, 'ns_exponent': 0.4054975605520044, 'negative': 9, 'min_count': 20, 'vector_size': 128}\n"
     ]
    },
    {
     "name": "stderr",
     "output_type": "stream",
     "text": [
      "[I 2023-10-21 10:33:27,522] Trial 13 finished with value: 0.01964969604863222 and parameters: {'sg': 1, 'window': 8, 'ns_exponent': 0.4054975605520044, 'negative': 9, 'min_count': 20, 'vector_size': 128}. Best is trial 12 with value: 0.030962470449172576.\n"
     ]
    },
    {
     "name": "stdout",
     "output_type": "stream",
     "text": [
      "MAP@10 = 0.0196 Hitrate@10 = 0.3811\n",
      "{'sg': 1, 'window_len': 5, 'ns_exponent': -2.823512498876477, 'negative': 8, 'min_count': 17, 'vector_size': 128}\n"
     ]
    },
    {
     "name": "stderr",
     "output_type": "stream",
     "text": [
      "[I 2023-10-21 10:33:29,709] Trial 14 finished with value: 0.009020601148260723 and parameters: {'sg': 1, 'window': 5, 'ns_exponent': -2.823512498876477, 'negative': 8, 'min_count': 17, 'vector_size': 128}. Best is trial 12 with value: 0.030962470449172576.\n"
     ]
    },
    {
     "name": "stdout",
     "output_type": "stream",
     "text": [
      "MAP@10 = 0.0090 Hitrate@10 = 0.2197\n",
      "{'sg': 1, 'window_len': 1, 'ns_exponent': -0.625034301031024, 'negative': 3, 'min_count': 17, 'vector_size': 128}\n"
     ]
    },
    {
     "name": "stderr",
     "output_type": "stream",
     "text": [
      "[I 2023-10-21 10:33:30,271] Trial 15 finished with value: 0.011324468085106383 and parameters: {'sg': 1, 'window': 1, 'ns_exponent': -0.625034301031024, 'negative': 3, 'min_count': 17, 'vector_size': 128}. Best is trial 12 with value: 0.030962470449172576.\n"
     ]
    },
    {
     "name": "stdout",
     "output_type": "stream",
     "text": [
      "MAP@10 = 0.0113 Hitrate@10 = 0.2527\n",
      "{'sg': 1, 'window_len': 9, 'ns_exponent': 0.6430593866437229, 'negative': 11, 'min_count': 14, 'vector_size': 16}\n"
     ]
    },
    {
     "name": "stderr",
     "output_type": "stream",
     "text": [
      "[I 2023-10-21 10:33:34,335] Trial 16 finished with value: 0.014500379939209726 and parameters: {'sg': 1, 'window': 9, 'ns_exponent': 0.6430593866437229, 'negative': 11, 'min_count': 14, 'vector_size': 16}. Best is trial 12 with value: 0.030962470449172576.\n"
     ]
    },
    {
     "name": "stdout",
     "output_type": "stream",
     "text": [
      "MAP@10 = 0.0145 Hitrate@10 = 0.3259\n",
      "{'sg': 1, 'window_len': 8, 'ns_exponent': -0.9252089604529743, 'negative': 20, 'min_count': 17, 'vector_size': 128}\n"
     ]
    },
    {
     "name": "stderr",
     "output_type": "stream",
     "text": [
      "[I 2023-10-21 10:33:41,349] Trial 17 finished with value: 0.01738268321513002 and parameters: {'sg': 1, 'window': 8, 'ns_exponent': -0.9252089604529743, 'negative': 20, 'min_count': 17, 'vector_size': 128}. Best is trial 12 with value: 0.030962470449172576.\n"
     ]
    },
    {
     "name": "stdout",
     "output_type": "stream",
     "text": [
      "MAP@10 = 0.0174 Hitrate@10 = 0.3450\n",
      "{'sg': 1, 'window_len': 6, 'ns_exponent': 0.13353913721585572, 'negative': 8, 'min_count': 15, 'vector_size': 128}\n"
     ]
    },
    {
     "name": "stderr",
     "output_type": "stream",
     "text": [
      "[I 2023-10-21 10:33:44,015] Trial 18 finished with value: 0.026428191489361704 and parameters: {'sg': 1, 'window': 6, 'ns_exponent': 0.13353913721585572, 'negative': 8, 'min_count': 15, 'vector_size': 128}. Best is trial 12 with value: 0.030962470449172576.\n"
     ]
    },
    {
     "name": "stdout",
     "output_type": "stream",
     "text": [
      "MAP@10 = 0.0264 Hitrate@10 = 0.4830\n",
      "{'sg': 1, 'window_len': 9, 'ns_exponent': -1.069463501581109, 'negative': 12, 'min_count': 9, 'vector_size': 128}\n"
     ]
    },
    {
     "name": "stderr",
     "output_type": "stream",
     "text": [
      "[I 2023-10-21 10:33:49,134] Trial 19 finished with value: 0.014239446133063154 and parameters: {'sg': 1, 'window': 9, 'ns_exponent': -1.069463501581109, 'negative': 12, 'min_count': 9, 'vector_size': 128}. Best is trial 12 with value: 0.030962470449172576.\n"
     ]
    },
    {
     "name": "stdout",
     "output_type": "stream",
     "text": [
      "MAP@10 = 0.0142 Hitrate@10 = 0.3089\n",
      "{'sg': 1, 'window_len': 7, 'ns_exponent': -0.21056636326668382, 'negative': 7, 'min_count': 20, 'vector_size': 16}\n"
     ]
    },
    {
     "name": "stderr",
     "output_type": "stream",
     "text": [
      "[I 2023-10-21 10:33:51,347] Trial 20 finished with value: 0.027304922323539347 and parameters: {'sg': 1, 'window': 7, 'ns_exponent': -0.21056636326668382, 'negative': 7, 'min_count': 20, 'vector_size': 16}. Best is trial 12 with value: 0.030962470449172576.\n"
     ]
    },
    {
     "name": "stdout",
     "output_type": "stream",
     "text": [
      "MAP@10 = 0.0273 Hitrate@10 = 0.4820\n",
      "{'sg': 1, 'window_len': 10, 'ns_exponent': 0.07885693302126778, 'negative': 7, 'min_count': 20, 'vector_size': 16}\n"
     ]
    },
    {
     "name": "stderr",
     "output_type": "stream",
     "text": [
      "[I 2023-10-21 10:33:53,940] Trial 21 finished with value: 0.03159612462006079 and parameters: {'sg': 1, 'window': 10, 'ns_exponent': 0.07885693302126778, 'negative': 7, 'min_count': 20, 'vector_size': 16}. Best is trial 21 with value: 0.03159612462006079.\n"
     ]
    },
    {
     "name": "stdout",
     "output_type": "stream",
     "text": [
      "MAP@10 = 0.0316 Hitrate@10 = 0.4989\n",
      "{'sg': 1, 'window_len': 7, 'ns_exponent': 0.1191616832537234, 'negative': 7, 'min_count': 19, 'vector_size': 16}\n"
     ]
    },
    {
     "name": "stderr",
     "output_type": "stream",
     "text": [
      "[I 2023-10-21 10:33:55,996] Trial 22 finished with value: 0.028870694022289766 and parameters: {'sg': 1, 'window': 7, 'ns_exponent': 0.1191616832537234, 'negative': 7, 'min_count': 19, 'vector_size': 16}. Best is trial 21 with value: 0.03159612462006079.\n"
     ]
    },
    {
     "name": "stdout",
     "output_type": "stream",
     "text": [
      "MAP@10 = 0.0289 Hitrate@10 = 0.4926\n",
      "{'sg': 1, 'window_len': 9, 'ns_exponent': 0.5814176207119313, 'negative': 7, 'min_count': 19, 'vector_size': 16}\n"
     ]
    },
    {
     "name": "stderr",
     "output_type": "stream",
     "text": [
      "[I 2023-10-21 10:33:58,576] Trial 23 finished with value: 0.01721605876393111 and parameters: {'sg': 1, 'window': 9, 'ns_exponent': 0.5814176207119313, 'negative': 7, 'min_count': 19, 'vector_size': 16}. Best is trial 21 with value: 0.03159612462006079.\n"
     ]
    },
    {
     "name": "stdout",
     "output_type": "stream",
     "text": [
      "MAP@10 = 0.0172 Hitrate@10 = 0.3493\n",
      "{'sg': 1, 'window_len': 5, 'ns_exponent': -0.6070057282001746, 'negative': 3, 'min_count': 18, 'vector_size': 16}\n"
     ]
    },
    {
     "name": "stderr",
     "output_type": "stream",
     "text": [
      "[I 2023-10-21 10:33:59,490] Trial 24 finished with value: 0.018922534616683553 and parameters: {'sg': 1, 'window': 5, 'ns_exponent': -0.6070057282001746, 'negative': 3, 'min_count': 18, 'vector_size': 16}. Best is trial 21 with value: 0.03159612462006079.\n"
     ]
    },
    {
     "name": "stdout",
     "output_type": "stream",
     "text": [
      "MAP@10 = 0.0189 Hitrate@10 = 0.3800\n",
      "{'sg': 1, 'window_len': 8, 'ns_exponent': -0.9232359617365349, 'negative': 9, 'min_count': 15, 'vector_size': 16}\n"
     ]
    },
    {
     "name": "stderr",
     "output_type": "stream",
     "text": [
      "[I 2023-10-21 10:34:02,301] Trial 25 finished with value: 0.015915569064505235 and parameters: {'sg': 1, 'window': 8, 'ns_exponent': -0.9232359617365349, 'negative': 9, 'min_count': 15, 'vector_size': 16}. Best is trial 21 with value: 0.03159612462006079.\n"
     ]
    },
    {
     "name": "stdout",
     "output_type": "stream",
     "text": [
      "MAP@10 = 0.0159 Hitrate@10 = 0.3376\n",
      "{'sg': 1, 'window_len': 9, 'ns_exponent': 0.8210292027560508, 'negative': 7, 'min_count': 20, 'vector_size': 16}\n"
     ]
    },
    {
     "name": "stderr",
     "output_type": "stream",
     "text": [
      "[I 2023-10-21 10:34:04,817] Trial 26 finished with value: 0.015127237419790612 and parameters: {'sg': 1, 'window': 9, 'ns_exponent': 0.8210292027560508, 'negative': 7, 'min_count': 20, 'vector_size': 16}. Best is trial 21 with value: 0.03159612462006079.\n"
     ]
    },
    {
     "name": "stdout",
     "output_type": "stream",
     "text": [
      "MAP@10 = 0.0151 Hitrate@10 = 0.3100\n",
      "{'sg': 1, 'window_len': 4, 'ns_exponent': 0.06014684233782927, 'negative': 4, 'min_count': 11, 'vector_size': 16}\n"
     ]
    },
    {
     "name": "stderr",
     "output_type": "stream",
     "text": [
      "[I 2023-10-21 10:34:05,894] Trial 27 finished with value: 0.030690222897669702 and parameters: {'sg': 1, 'window': 4, 'ns_exponent': 0.06014684233782927, 'negative': 4, 'min_count': 11, 'vector_size': 16}. Best is trial 21 with value: 0.03159612462006079.\n"
     ]
    },
    {
     "name": "stdout",
     "output_type": "stream",
     "text": [
      "MAP@10 = 0.0307 Hitrate@10 = 0.5149\n",
      "{'sg': 1, 'window_len': 4, 'ns_exponent': 0.17195676439299362, 'negative': 4, 'min_count': 8, 'vector_size': 16}\n"
     ]
    },
    {
     "name": "stderr",
     "output_type": "stream",
     "text": [
      "[I 2023-10-21 10:34:07,000] Trial 28 finished with value: 0.022204576156703813 and parameters: {'sg': 1, 'window': 4, 'ns_exponent': 0.17195676439299362, 'negative': 4, 'min_count': 8, 'vector_size': 16}. Best is trial 21 with value: 0.03159612462006079.\n"
     ]
    },
    {
     "name": "stdout",
     "output_type": "stream",
     "text": [
      "MAP@10 = 0.0222 Hitrate@10 = 0.4321\n",
      "{'sg': 1, 'window_len': 4, 'ns_exponent': 2.954020762455409, 'negative': 4, 'min_count': 11, 'vector_size': 16}\n"
     ]
    },
    {
     "name": "stderr",
     "output_type": "stream",
     "text": [
      "[I 2023-10-21 10:34:08,035] Trial 29 finished with value: 0.004573919284025668 and parameters: {'sg': 1, 'window': 4, 'ns_exponent': 2.954020762455409, 'negative': 4, 'min_count': 11, 'vector_size': 16}. Best is trial 21 with value: 0.03159612462006079.\n"
     ]
    },
    {
     "name": "stdout",
     "output_type": "stream",
     "text": [
      "MAP@10 = 0.0046 Hitrate@10 = 0.1454\n",
      "{'sg': 1, 'window_len': 3, 'ns_exponent': 2.19002327108228, 'negative': 6, 'min_count': 15, 'vector_size': 64}\n"
     ]
    },
    {
     "name": "stderr",
     "output_type": "stream",
     "text": [
      "[I 2023-10-21 10:34:09,170] Trial 30 finished with value: 0.00699096588990206 and parameters: {'sg': 1, 'window': 3, 'ns_exponent': 2.19002327108228, 'negative': 6, 'min_count': 15, 'vector_size': 64}. Best is trial 21 with value: 0.03159612462006079.\n"
     ]
    },
    {
     "name": "stdout",
     "output_type": "stream",
     "text": [
      "MAP@10 = 0.0070 Hitrate@10 = 0.1444\n",
      "{'sg': 1, 'window_len': 3, 'ns_exponent': 0.2375133139226374, 'negative': 6, 'min_count': 18, 'vector_size': 16}\n"
     ]
    },
    {
     "name": "stderr",
     "output_type": "stream",
     "text": [
      "[I 2023-10-21 10:34:10,298] Trial 31 finished with value: 0.023278242147923 and parameters: {'sg': 1, 'window': 3, 'ns_exponent': 0.2375133139226374, 'negative': 6, 'min_count': 18, 'vector_size': 16}. Best is trial 21 with value: 0.03159612462006079.\n"
     ]
    },
    {
     "name": "stdout",
     "output_type": "stream",
     "text": [
      "MAP@10 = 0.0233 Hitrate@10 = 0.4183\n",
      "{'sg': 1, 'window_len': 6, 'ns_exponent': -0.02380591951456341, 'negative': 8, 'min_count': 19, 'vector_size': 16}\n"
     ]
    },
    {
     "name": "stderr",
     "output_type": "stream",
     "text": [
      "[I 2023-10-21 10:34:12,517] Trial 32 finished with value: 0.03217223910840932 and parameters: {'sg': 1, 'window': 6, 'ns_exponent': -0.02380591951456341, 'negative': 8, 'min_count': 19, 'vector_size': 16}. Best is trial 32 with value: 0.03217223910840932.\n"
     ]
    },
    {
     "name": "stdout",
     "output_type": "stream",
     "text": [
      "MAP@10 = 0.0322 Hitrate@10 = 0.5276\n",
      "{'sg': 1, 'window_len': 2, 'ns_exponent': -0.12985333637161944, 'negative': 9, 'min_count': 16, 'vector_size': 16}\n"
     ]
    },
    {
     "name": "stderr",
     "output_type": "stream",
     "text": [
      "[I 2023-10-21 10:34:13,788] Trial 33 finished with value: 0.02799257007767646 and parameters: {'sg': 1, 'window': 2, 'ns_exponent': -0.12985333637161944, 'negative': 9, 'min_count': 16, 'vector_size': 16}. Best is trial 32 with value: 0.03217223910840932.\n"
     ]
    },
    {
     "name": "stdout",
     "output_type": "stream",
     "text": [
      "MAP@10 = 0.0280 Hitrate@10 = 0.4894\n",
      "{'sg': 1, 'window_len': 5, 'ns_exponent': 0.9339163928064393, 'negative': 11, 'min_count': 12, 'vector_size': 16}\n"
     ]
    },
    {
     "name": "stderr",
     "output_type": "stream",
     "text": [
      "[I 2023-10-21 10:34:16,328] Trial 34 finished with value: 0.012817544748395812 and parameters: {'sg': 1, 'window': 5, 'ns_exponent': 0.9339163928064393, 'negative': 11, 'min_count': 12, 'vector_size': 16}. Best is trial 32 with value: 0.03217223910840932.\n"
     ]
    },
    {
     "name": "stdout",
     "output_type": "stream",
     "text": [
      "MAP@10 = 0.0128 Hitrate@10 = 0.2760\n",
      "{'sg': 1, 'window_len': 6, 'ns_exponent': 0.4726845962289164, 'negative': 4, 'min_count': 20, 'vector_size': 16}\n"
     ]
    },
    {
     "name": "stderr",
     "output_type": "stream",
     "text": [
      "[I 2023-10-21 10:34:17,489] Trial 35 finished with value: 0.017952254305977713 and parameters: {'sg': 1, 'window': 6, 'ns_exponent': 0.4726845962289164, 'negative': 4, 'min_count': 20, 'vector_size': 16}. Best is trial 32 with value: 0.03217223910840932.\n"
     ]
    },
    {
     "name": "stdout",
     "output_type": "stream",
     "text": [
      "MAP@10 = 0.0180 Hitrate@10 = 0.3577\n",
      "{'sg': 1, 'window_len': 2, 'ns_exponent': 1.106991275250191, 'negative': 8, 'min_count': 6, 'vector_size': 64}\n"
     ]
    },
    {
     "name": "stderr",
     "output_type": "stream",
     "text": [
      "[I 2023-10-21 10:34:19,435] Trial 36 finished with value: 0.004822863897331983 and parameters: {'sg': 1, 'window': 2, 'ns_exponent': 1.106991275250191, 'negative': 8, 'min_count': 6, 'vector_size': 64}. Best is trial 32 with value: 0.03217223910840932.\n"
     ]
    },
    {
     "name": "stdout",
     "output_type": "stream",
     "text": [
      "MAP@10 = 0.0048 Hitrate@10 = 0.1614\n",
      "{'sg': 0, 'window_len': 4, 'ns_exponent': -0.5637625790284488, 'negative': 13, 'min_count': 3, 'vector_size': 32}\n"
     ]
    },
    {
     "name": "stderr",
     "output_type": "stream",
     "text": [
      "[I 2023-10-21 10:34:20,329] Trial 37 finished with value: 0.012965594393785885 and parameters: {'sg': 0, 'window': 4, 'ns_exponent': -0.5637625790284488, 'negative': 13, 'min_count': 3, 'vector_size': 32}. Best is trial 32 with value: 0.03217223910840932.\n"
     ]
    },
    {
     "name": "stdout",
     "output_type": "stream",
     "text": [
      "MAP@10 = 0.0130 Hitrate@10 = 0.2877\n",
      "{'sg': 1, 'window_len': 1, 'ns_exponent': 1.4442011776262054, 'negative': 16, 'min_count': 18, 'vector_size': 16}\n"
     ]
    },
    {
     "name": "stderr",
     "output_type": "stream",
     "text": [
      "[I 2023-10-21 10:34:21,837] Trial 38 finished with value: 0.007533308004052684 and parameters: {'sg': 1, 'window': 1, 'ns_exponent': 1.4442011776262054, 'negative': 16, 'min_count': 18, 'vector_size': 16}. Best is trial 32 with value: 0.03217223910840932.\n"
     ]
    },
    {
     "name": "stdout",
     "output_type": "stream",
     "text": [
      "MAP@10 = 0.0075 Hitrate@10 = 0.2038\n",
      "{'sg': 0, 'window_len': 10, 'ns_exponent': -0.06035377172129573, 'negative': 5, 'min_count': 10, 'vector_size': 32}\n"
     ]
    },
    {
     "name": "stderr",
     "output_type": "stream",
     "text": [
      "[I 2023-10-21 10:34:22,487] Trial 39 finished with value: 0.02367945795339412 and parameters: {'sg': 0, 'window': 10, 'ns_exponent': -0.06035377172129573, 'negative': 5, 'min_count': 10, 'vector_size': 32}. Best is trial 32 with value: 0.03217223910840932.\n"
     ]
    },
    {
     "name": "stdout",
     "output_type": "stream",
     "text": [
      "MAP@10 = 0.0237 Hitrate@10 = 0.4427\n",
      "{'sg': 1, 'window_len': 3, 'ns_exponent': -1.3232209898796081, 'negative': 10, 'min_count': 13, 'vector_size': 64}\n"
     ]
    },
    {
     "name": "stderr",
     "output_type": "stream",
     "text": [
      "[I 2023-10-21 10:34:24,382] Trial 40 finished with value: 0.01237951705504897 and parameters: {'sg': 1, 'window': 3, 'ns_exponent': -1.3232209898796081, 'negative': 10, 'min_count': 13, 'vector_size': 64}. Best is trial 32 with value: 0.03217223910840932.\n"
     ]
    },
    {
     "name": "stdout",
     "output_type": "stream",
     "text": [
      "MAP@10 = 0.0124 Hitrate@10 = 0.2760\n",
      "{'sg': 1, 'window_len': 7, 'ns_exponent': 0.17923535364689197, 'negative': 7, 'min_count': 19, 'vector_size': 16}\n"
     ]
    },
    {
     "name": "stderr",
     "output_type": "stream",
     "text": [
      "[I 2023-10-21 10:34:26,521] Trial 41 finished with value: 0.026756543397500842 and parameters: {'sg': 1, 'window': 7, 'ns_exponent': 0.17923535364689197, 'negative': 7, 'min_count': 19, 'vector_size': 16}. Best is trial 32 with value: 0.03217223910840932.\n"
     ]
    },
    {
     "name": "stdout",
     "output_type": "stream",
     "text": [
      "MAP@10 = 0.0268 Hitrate@10 = 0.4682\n",
      "{'sg': 1, 'window_len': 6, 'ns_exponent': 0.4359351884684365, 'negative': 6, 'min_count': 19, 'vector_size': 16}\n"
     ]
    },
    {
     "name": "stderr",
     "output_type": "stream",
     "text": [
      "[I 2023-10-21 10:34:28,195] Trial 42 finished with value: 0.01981695373184735 and parameters: {'sg': 1, 'window': 6, 'ns_exponent': 0.4359351884684365, 'negative': 6, 'min_count': 19, 'vector_size': 16}. Best is trial 32 with value: 0.03217223910840932.\n"
     ]
    },
    {
     "name": "stdout",
     "output_type": "stream",
     "text": [
      "MAP@10 = 0.0198 Hitrate@10 = 0.3779\n",
      "{'sg': 1, 'window_len': 7, 'ns_exponent': -0.05912476547517344, 'negative': 8, 'min_count': 18, 'vector_size': 16}\n"
     ]
    },
    {
     "name": "stderr",
     "output_type": "stream",
     "text": [
      "[I 2023-10-21 10:34:30,522] Trial 43 finished with value: 0.034180091185410336 and parameters: {'sg': 1, 'window': 7, 'ns_exponent': -0.05912476547517344, 'negative': 8, 'min_count': 18, 'vector_size': 16}. Best is trial 43 with value: 0.034180091185410336.\n"
     ]
    },
    {
     "name": "stdout",
     "output_type": "stream",
     "text": [
      "MAP@10 = 0.0342 Hitrate@10 = 0.5329\n",
      "{'sg': 0, 'window_len': 5, 'ns_exponent': -0.35902748668533857, 'negative': 9, 'min_count': 16, 'vector_size': 16}\n"
     ]
    },
    {
     "name": "stderr",
     "output_type": "stream",
     "text": [
      "[I 2023-10-21 10:34:31,266] Trial 44 finished with value: 0.018463441404930767 and parameters: {'sg': 0, 'window': 5, 'ns_exponent': -0.35902748668533857, 'negative': 9, 'min_count': 16, 'vector_size': 16}. Best is trial 43 with value: 0.034180091185410336.\n"
     ]
    },
    {
     "name": "stdout",
     "output_type": "stream",
     "text": [
      "MAP@10 = 0.0185 Hitrate@10 = 0.3811\n",
      "{'sg': 1, 'window_len': 10, 'ns_exponent': -0.05803359835812717, 'negative': 8, 'min_count': 18, 'vector_size': 16}\n"
     ]
    },
    {
     "name": "stderr",
     "output_type": "stream",
     "text": [
      "[I 2023-10-21 10:34:34,149] Trial 45 finished with value: 0.031954111786558596 and parameters: {'sg': 1, 'window': 10, 'ns_exponent': -0.05803359835812717, 'negative': 8, 'min_count': 18, 'vector_size': 16}. Best is trial 43 with value: 0.034180091185410336.\n"
     ]
    },
    {
     "name": "stdout",
     "output_type": "stream",
     "text": [
      "MAP@10 = 0.0320 Hitrate@10 = 0.5329\n",
      "{'sg': 1, 'window_len': 10, 'ns_exponent': -0.45272692607150233, 'negative': 8, 'min_count': 18, 'vector_size': 32}\n"
     ]
    },
    {
     "name": "stderr",
     "output_type": "stream",
     "text": [
      "[I 2023-10-21 10:34:37,387] Trial 46 finished with value: 0.022002701789935835 and parameters: {'sg': 1, 'window': 10, 'ns_exponent': -0.45272692607150233, 'negative': 8, 'min_count': 18, 'vector_size': 32}. Best is trial 43 with value: 0.034180091185410336.\n"
     ]
    },
    {
     "name": "stdout",
     "output_type": "stream",
     "text": [
      "MAP@10 = 0.0220 Hitrate@10 = 0.4183\n",
      "{'sg': 1, 'window_len': 10, 'ns_exponent': -0.06029500070101812, 'negative': 10, 'min_count': 16, 'vector_size': 128}\n"
     ]
    },
    {
     "name": "stderr",
     "output_type": "stream",
     "text": [
      "[I 2023-10-21 10:34:42,653] Trial 47 finished with value: 0.033634920634920636 and parameters: {'sg': 1, 'window': 10, 'ns_exponent': -0.06029500070101812, 'negative': 10, 'min_count': 16, 'vector_size': 128}. Best is trial 43 with value: 0.034180091185410336.\n"
     ]
    },
    {
     "name": "stdout",
     "output_type": "stream",
     "text": [
      "MAP@10 = 0.0336 Hitrate@10 = 0.5329\n",
      "{'sg': 0, 'window_len': 9, 'ns_exponent': 0.780277219229603, 'negative': 10, 'min_count': 16, 'vector_size': 16}\n"
     ]
    },
    {
     "name": "stderr",
     "output_type": "stream",
     "text": [
      "[I 2023-10-21 10:34:43,522] Trial 48 finished with value: 0.013317840256670046 and parameters: {'sg': 0, 'window': 9, 'ns_exponent': 0.780277219229603, 'negative': 10, 'min_count': 16, 'vector_size': 16}. Best is trial 43 with value: 0.034180091185410336.\n"
     ]
    },
    {
     "name": "stdout",
     "output_type": "stream",
     "text": [
      "MAP@10 = 0.0133 Hitrate@10 = 0.3015\n",
      "{'sg': 1, 'window_len': 8, 'ns_exponent': 0.43762950425455727, 'negative': 11, 'min_count': 14, 'vector_size': 128}\n"
     ]
    },
    {
     "name": "stderr",
     "output_type": "stream",
     "text": [
      "[I 2023-10-21 10:34:48,573] Trial 49 finished with value: 0.01794398007429922 and parameters: {'sg': 1, 'window': 8, 'ns_exponent': 0.43762950425455727, 'negative': 11, 'min_count': 14, 'vector_size': 128}. Best is trial 43 with value: 0.034180091185410336.\n"
     ]
    },
    {
     "name": "stdout",
     "output_type": "stream",
     "text": [
      "MAP@10 = 0.0179 Hitrate@10 = 0.3662\n",
      "{'sg': 1, 'window_len': 10, 'ns_exponent': -0.7739574603987153, 'negative': 12, 'min_count': 17, 'vector_size': 64}\n"
     ]
    },
    {
     "name": "stderr",
     "output_type": "stream",
     "text": [
      "[I 2023-10-21 10:34:53,627] Trial 50 finished with value: 0.01946550996285039 and parameters: {'sg': 1, 'window': 10, 'ns_exponent': -0.7739574603987153, 'negative': 12, 'min_count': 17, 'vector_size': 64}. Best is trial 43 with value: 0.034180091185410336.\n"
     ]
    },
    {
     "name": "stdout",
     "output_type": "stream",
     "text": [
      "MAP@10 = 0.0195 Hitrate@10 = 0.3737\n",
      "{'sg': 1, 'window_len': 9, 'ns_exponent': -0.14512279924827992, 'negative': 10, 'min_count': 20, 'vector_size': 128}\n"
     ]
    },
    {
     "name": "stderr",
     "output_type": "stream",
     "text": [
      "[I 2023-10-21 10:34:58,489] Trial 51 finished with value: 0.02847082911178656 and parameters: {'sg': 1, 'window': 9, 'ns_exponent': -0.14512279924827992, 'negative': 10, 'min_count': 20, 'vector_size': 128}. Best is trial 43 with value: 0.034180091185410336.\n"
     ]
    },
    {
     "name": "stdout",
     "output_type": "stream",
     "text": [
      "MAP@10 = 0.0285 Hitrate@10 = 0.4989\n",
      "{'sg': 1, 'window_len': 10, 'ns_exponent': -0.351358387305634, 'negative': 8, 'min_count': 18, 'vector_size': 128}\n"
     ]
    },
    {
     "name": "stderr",
     "output_type": "stream",
     "text": [
      "[I 2023-10-21 10:35:02,704] Trial 52 finished with value: 0.02367532083755488 and parameters: {'sg': 1, 'window': 10, 'ns_exponent': -0.351358387305634, 'negative': 8, 'min_count': 18, 'vector_size': 128}. Best is trial 43 with value: 0.034180091185410336.\n"
     ]
    },
    {
     "name": "stdout",
     "output_type": "stream",
     "text": [
      "MAP@10 = 0.0237 Hitrate@10 = 0.4416\n",
      "{'sg': 1, 'window_len': 10, 'ns_exponent': -0.04450721274642237, 'negative': 9, 'min_count': 19, 'vector_size': 128}\n"
     ]
    },
    {
     "name": "stderr",
     "output_type": "stream",
     "text": [
      "[I 2023-10-21 10:35:06,819] Trial 53 finished with value: 0.032356382978723404 and parameters: {'sg': 1, 'window': 10, 'ns_exponent': -0.04450721274642237, 'negative': 9, 'min_count': 19, 'vector_size': 128}. Best is trial 43 with value: 0.034180091185410336.\n"
     ]
    },
    {
     "name": "stdout",
     "output_type": "stream",
     "text": [
      "MAP@10 = 0.0324 Hitrate@10 = 0.5393\n",
      "{'sg': 1, 'window_len': 10, 'ns_exponent': -0.08264219609194082, 'negative': 9, 'min_count': 17, 'vector_size': 128}\n"
     ]
    },
    {
     "name": "stderr",
     "output_type": "stream",
     "text": [
      "[I 2023-10-21 10:35:10,995] Trial 54 finished with value: 0.033093465045592706 and parameters: {'sg': 1, 'window': 10, 'ns_exponent': -0.08264219609194082, 'negative': 9, 'min_count': 17, 'vector_size': 128}. Best is trial 43 with value: 0.034180091185410336.\n"
     ]
    },
    {
     "name": "stdout",
     "output_type": "stream",
     "text": [
      "MAP@10 = 0.0331 Hitrate@10 = 0.5372\n",
      "{'sg': 1, 'window_len': 8, 'ns_exponent': -0.38576856120564174, 'negative': 10, 'min_count': 16, 'vector_size': 128}\n"
     ]
    },
    {
     "name": "stderr",
     "output_type": "stream",
     "text": [
      "[I 2023-10-21 10:35:14,950] Trial 55 finished with value: 0.023444908814589667 and parameters: {'sg': 1, 'window': 8, 'ns_exponent': -0.38576856120564174, 'negative': 10, 'min_count': 16, 'vector_size': 128}. Best is trial 43 with value: 0.034180091185410336.\n"
     ]
    },
    {
     "name": "stdout",
     "output_type": "stream",
     "text": [
      "MAP@10 = 0.0234 Hitrate@10 = 0.4299\n",
      "{'sg': 1, 'window_len': 9, 'ns_exponent': 0.26012186048329783, 'negative': 9, 'min_count': 17, 'vector_size': 128}\n"
     ]
    },
    {
     "name": "stderr",
     "output_type": "stream",
     "text": [
      "[I 2023-10-21 10:35:18,847] Trial 56 finished with value: 0.02566130530226275 and parameters: {'sg': 1, 'window': 9, 'ns_exponent': 0.26012186048329783, 'negative': 9, 'min_count': 17, 'vector_size': 128}. Best is trial 43 with value: 0.034180091185410336.\n"
     ]
    },
    {
     "name": "stdout",
     "output_type": "stream",
     "text": [
      "MAP@10 = 0.0257 Hitrate@10 = 0.4278\n",
      "{'sg': 1, 'window_len': 10, 'ns_exponent': -0.6578150509337013, 'negative': 13, 'min_count': 14, 'vector_size': 128}\n"
     ]
    },
    {
     "name": "stderr",
     "output_type": "stream",
     "text": [
      "[I 2023-10-21 10:35:25,082] Trial 57 finished with value: 0.018411600810536985 and parameters: {'sg': 1, 'window': 10, 'ns_exponent': -0.6578150509337013, 'negative': 13, 'min_count': 14, 'vector_size': 128}. Best is trial 43 with value: 0.034180091185410336.\n"
     ]
    },
    {
     "name": "stdout",
     "output_type": "stream",
     "text": [
      "MAP@10 = 0.0184 Hitrate@10 = 0.3524\n",
      "{'sg': 0, 'window_len': 9, 'ns_exponent': -0.1584534065103575, 'negative': 11, 'min_count': 17, 'vector_size': 128}\n"
     ]
    },
    {
     "name": "stderr",
     "output_type": "stream",
     "text": [
      "[I 2023-10-21 10:35:25,985] Trial 58 finished with value: 0.023075903411009797 and parameters: {'sg': 0, 'window': 9, 'ns_exponent': -0.1584534065103575, 'negative': 11, 'min_count': 17, 'vector_size': 128}. Best is trial 43 with value: 0.034180091185410336.\n"
     ]
    },
    {
     "name": "stdout",
     "output_type": "stream",
     "text": [
      "MAP@10 = 0.0231 Hitrate@10 = 0.4544\n",
      "{'sg': 1, 'window_len': 7, 'ns_exponent': 0.6126323106912466, 'negative': 8, 'min_count': 19, 'vector_size': 128}\n"
     ]
    },
    {
     "name": "stderr",
     "output_type": "stream",
     "text": [
      "[I 2023-10-21 10:35:28,878] Trial 59 finished with value: 0.016995187436676797 and parameters: {'sg': 1, 'window': 7, 'ns_exponent': 0.6126323106912466, 'negative': 8, 'min_count': 19, 'vector_size': 128}. Best is trial 43 with value: 0.034180091185410336.\n"
     ]
    },
    {
     "name": "stdout",
     "output_type": "stream",
     "text": [
      "MAP@10 = 0.0170 Hitrate@10 = 0.3397\n",
      "{'sg': 1, 'window_len': 8, 'ns_exponent': -0.0198834909873613, 'negative': 9, 'min_count': 18, 'vector_size': 128}\n"
     ]
    },
    {
     "name": "stderr",
     "output_type": "stream",
     "text": [
      "[I 2023-10-21 10:35:32,326] Trial 60 finished with value: 0.03302144545761567 and parameters: {'sg': 1, 'window': 8, 'ns_exponent': -0.0198834909873613, 'negative': 9, 'min_count': 18, 'vector_size': 128}. Best is trial 43 with value: 0.034180091185410336.\n"
     ]
    },
    {
     "name": "stdout",
     "output_type": "stream",
     "text": [
      "MAP@10 = 0.0330 Hitrate@10 = 0.5372\n",
      "{'sg': 1, 'window_len': 8, 'ns_exponent': -0.08268852685230993, 'negative': 9, 'min_count': 18, 'vector_size': 128}\n"
     ]
    },
    {
     "name": "stderr",
     "output_type": "stream",
     "text": [
      "[I 2023-10-21 10:35:35,832] Trial 61 finished with value: 0.03189002870651807 and parameters: {'sg': 1, 'window': 8, 'ns_exponent': -0.08268852685230993, 'negative': 9, 'min_count': 18, 'vector_size': 128}. Best is trial 43 with value: 0.034180091185410336.\n"
     ]
    },
    {
     "name": "stdout",
     "output_type": "stream",
     "text": [
      "MAP@10 = 0.0319 Hitrate@10 = 0.5287\n",
      "{'sg': 1, 'window_len': 7, 'ns_exponent': 0.3478611711106473, 'negative': 9, 'min_count': 19, 'vector_size': 128}\n"
     ]
    },
    {
     "name": "stderr",
     "output_type": "stream",
     "text": [
      "[I 2023-10-21 10:35:38,945] Trial 62 finished with value: 0.021479103343465047 and parameters: {'sg': 1, 'window': 7, 'ns_exponent': 0.3478611711106473, 'negative': 9, 'min_count': 19, 'vector_size': 128}. Best is trial 43 with value: 0.034180091185410336.\n"
     ]
    },
    {
     "name": "stdout",
     "output_type": "stream",
     "text": [
      "MAP@10 = 0.0215 Hitrate@10 = 0.4066\n",
      "{'sg': 1, 'window_len': 10, 'ns_exponent': 0.0240100952482048, 'negative': 8, 'min_count': 15, 'vector_size': 128}\n"
     ]
    },
    {
     "name": "stderr",
     "output_type": "stream",
     "text": [
      "[I 2023-10-21 10:35:42,930] Trial 63 finished with value: 0.031288247213779125 and parameters: {'sg': 1, 'window': 10, 'ns_exponent': 0.0240100952482048, 'negative': 8, 'min_count': 15, 'vector_size': 128}. Best is trial 43 with value: 0.034180091185410336.\n"
     ]
    },
    {
     "name": "stdout",
     "output_type": "stream",
     "text": [
      "MAP@10 = 0.0313 Hitrate@10 = 0.5127\n",
      "{'sg': 1, 'window_len': 9, 'ns_exponent': -0.27668545110378534, 'negative': 10, 'min_count': 18, 'vector_size': 128}\n"
     ]
    },
    {
     "name": "stderr",
     "output_type": "stream",
     "text": [
      "[I 2023-10-21 10:35:47,408] Trial 64 finished with value: 0.0245580884836204 and parameters: {'sg': 1, 'window': 9, 'ns_exponent': -0.27668545110378534, 'negative': 10, 'min_count': 18, 'vector_size': 128}. Best is trial 43 with value: 0.034180091185410336.\n"
     ]
    },
    {
     "name": "stdout",
     "output_type": "stream",
     "text": [
      "MAP@10 = 0.0246 Hitrate@10 = 0.4522\n",
      "{'sg': 1, 'window_len': 6, 'ns_exponent': -0.5068515081786203, 'negative': 6, 'min_count': 16, 'vector_size': 128}\n"
     ]
    },
    {
     "name": "stderr",
     "output_type": "stream",
     "text": [
      "[I 2023-10-21 10:35:49,522] Trial 65 finished with value: 0.02038627152988855 and parameters: {'sg': 1, 'window': 6, 'ns_exponent': -0.5068515081786203, 'negative': 6, 'min_count': 16, 'vector_size': 128}. Best is trial 43 with value: 0.034180091185410336.\n"
     ]
    },
    {
     "name": "stdout",
     "output_type": "stream",
     "text": [
      "MAP@10 = 0.0204 Hitrate@10 = 0.4076\n",
      "{'sg': 1, 'window_len': 10, 'ns_exponent': 0.3221961008968451, 'negative': 11, 'min_count': 19, 'vector_size': 128}\n"
     ]
    },
    {
     "name": "stderr",
     "output_type": "stream",
     "text": [
      "[I 2023-10-21 10:35:54,311] Trial 66 finished with value: 0.023092874029044242 and parameters: {'sg': 1, 'window': 10, 'ns_exponent': 0.3221961008968451, 'negative': 11, 'min_count': 19, 'vector_size': 128}. Best is trial 43 with value: 0.034180091185410336.\n"
     ]
    },
    {
     "name": "stdout",
     "output_type": "stream",
     "text": [
      "MAP@10 = 0.0231 Hitrate@10 = 0.4140\n",
      "{'sg': 1, 'window_len': 8, 'ns_exponent': 0.019544320775065807, 'negative': 7, 'min_count': 17, 'vector_size': 128}\n"
     ]
    },
    {
     "name": "stderr",
     "output_type": "stream",
     "text": [
      "[I 2023-10-21 10:35:57,239] Trial 67 finished with value: 0.034665695710908474 and parameters: {'sg': 1, 'window': 8, 'ns_exponent': 0.019544320775065807, 'negative': 7, 'min_count': 17, 'vector_size': 128}. Best is trial 67 with value: 0.034665695710908474.\n"
     ]
    },
    {
     "name": "stdout",
     "output_type": "stream",
     "text": [
      "MAP@10 = 0.0347 Hitrate@10 = 0.5446\n",
      "{'sg': 1, 'window_len': 8, 'ns_exponent': -0.7770515811012342, 'negative': 7, 'min_count': 17, 'vector_size': 128}\n"
     ]
    },
    {
     "name": "stderr",
     "output_type": "stream",
     "text": [
      "[I 2023-10-21 10:36:00,066] Trial 68 finished with value: 0.01813728470111449 and parameters: {'sg': 1, 'window': 8, 'ns_exponent': -0.7770515811012342, 'negative': 7, 'min_count': 17, 'vector_size': 128}. Best is trial 67 with value: 0.034665695710908474.\n"
     ]
    },
    {
     "name": "stdout",
     "output_type": "stream",
     "text": [
      "MAP@10 = 0.0181 Hitrate@10 = 0.3694\n",
      "{'sg': 1, 'window_len': 7, 'ns_exponent': 0.039720816952864044, 'negative': 7, 'min_count': 17, 'vector_size': 128}\n"
     ]
    },
    {
     "name": "stderr",
     "output_type": "stream",
     "text": [
      "[I 2023-10-21 10:36:02,917] Trial 69 finished with value: 0.03456155015197568 and parameters: {'sg': 1, 'window': 7, 'ns_exponent': 0.039720816952864044, 'negative': 7, 'min_count': 17, 'vector_size': 128}. Best is trial 67 with value: 0.034665695710908474.\n"
     ]
    },
    {
     "name": "stdout",
     "output_type": "stream",
     "text": [
      "MAP@10 = 0.0346 Hitrate@10 = 0.5382\n",
      "{'sg': 1, 'window_len': 7, 'ns_exponent': -0.2464896053941942, 'negative': 7, 'min_count': 15, 'vector_size': 128}\n"
     ]
    },
    {
     "name": "stderr",
     "output_type": "stream",
     "text": [
      "[I 2023-10-21 10:36:05,800] Trial 70 finished with value: 0.024869849712934818 and parameters: {'sg': 1, 'window': 7, 'ns_exponent': -0.2464896053941942, 'negative': 7, 'min_count': 15, 'vector_size': 128}. Best is trial 67 with value: 0.034665695710908474.\n"
     ]
    },
    {
     "name": "stdout",
     "output_type": "stream",
     "text": [
      "MAP@10 = 0.0249 Hitrate@10 = 0.4512\n",
      "{'sg': 1, 'window_len': 7, 'ns_exponent': 0.054398507729226456, 'negative': 9, 'min_count': 16, 'vector_size': 128}\n"
     ]
    },
    {
     "name": "stderr",
     "output_type": "stream",
     "text": [
      "[I 2023-10-21 10:36:09,126] Trial 71 finished with value: 0.03226414218169537 and parameters: {'sg': 1, 'window': 7, 'ns_exponent': 0.054398507729226456, 'negative': 9, 'min_count': 16, 'vector_size': 128}. Best is trial 67 with value: 0.034665695710908474.\n"
     ]
    },
    {
     "name": "stdout",
     "output_type": "stream",
     "text": [
      "MAP@10 = 0.0323 Hitrate@10 = 0.5138\n",
      "{'sg': 1, 'window_len': 8, 'ns_exponent': 0.21535167405762023, 'negative': 9, 'min_count': 14, 'vector_size': 128}\n"
     ]
    },
    {
     "name": "stderr",
     "output_type": "stream",
     "text": [
      "[I 2023-10-21 10:36:12,940] Trial 72 finished with value: 0.02386613475177305 and parameters: {'sg': 1, 'window': 8, 'ns_exponent': 0.21535167405762023, 'negative': 9, 'min_count': 14, 'vector_size': 128}. Best is trial 67 with value: 0.034665695710908474.\n"
     ]
    },
    {
     "name": "stdout",
     "output_type": "stream",
     "text": [
      "MAP@10 = 0.0239 Hitrate@10 = 0.4437\n",
      "{'sg': 1, 'window_len': 7, 'ns_exponent': 0.07232820187871056, 'negative': 10, 'min_count': 16, 'vector_size': 128}\n"
     ]
    },
    {
     "name": "stderr",
     "output_type": "stream",
     "text": [
      "[I 2023-10-21 10:36:16,485] Trial 73 finished with value: 0.03073340932117528 and parameters: {'sg': 1, 'window': 7, 'ns_exponent': 0.07232820187871056, 'negative': 10, 'min_count': 16, 'vector_size': 128}. Best is trial 67 with value: 0.034665695710908474.\n"
     ]
    },
    {
     "name": "stdout",
     "output_type": "stream",
     "text": [
      "MAP@10 = 0.0307 Hitrate@10 = 0.5074\n",
      "{'sg': 1, 'window_len': 8, 'ns_exponent': 0.5890009301940449, 'negative': 6, 'min_count': 17, 'vector_size': 128}\n"
     ]
    },
    {
     "name": "stderr",
     "output_type": "stream",
     "text": [
      "[I 2023-10-21 10:36:19,108] Trial 74 finished with value: 0.01619178486997636 and parameters: {'sg': 1, 'window': 8, 'ns_exponent': 0.5890009301940449, 'negative': 6, 'min_count': 17, 'vector_size': 128}. Best is trial 67 with value: 0.034665695710908474.\n"
     ]
    },
    {
     "name": "stdout",
     "output_type": "stream",
     "text": [
      "MAP@10 = 0.0162 Hitrate@10 = 0.3397\n",
      "{'sg': 1, 'window_len': 7, 'ns_exponent': -0.46820813737468564, 'negative': 9, 'min_count': 17, 'vector_size': 128}\n"
     ]
    },
    {
     "name": "stderr",
     "output_type": "stream",
     "text": [
      "[I 2023-10-21 10:36:22,459] Trial 75 finished with value: 0.020915062478892268 and parameters: {'sg': 1, 'window': 7, 'ns_exponent': -0.46820813737468564, 'negative': 9, 'min_count': 17, 'vector_size': 128}. Best is trial 67 with value: 0.034665695710908474.\n"
     ]
    },
    {
     "name": "stdout",
     "output_type": "stream",
     "text": [
      "MAP@10 = 0.0209 Hitrate@10 = 0.3992\n",
      "{'sg': 1, 'window_len': 7, 'ns_exponent': 0.11424600480960653, 'negative': 7, 'min_count': 16, 'vector_size': 128}\n"
     ]
    },
    {
     "name": "stderr",
     "output_type": "stream",
     "text": [
      "[I 2023-10-21 10:36:25,157] Trial 76 finished with value: 0.02672500844309355 and parameters: {'sg': 1, 'window': 7, 'ns_exponent': 0.11424600480960653, 'negative': 7, 'min_count': 16, 'vector_size': 128}. Best is trial 67 with value: 0.034665695710908474.\n"
     ]
    },
    {
     "name": "stdout",
     "output_type": "stream",
     "text": [
      "MAP@10 = 0.0267 Hitrate@10 = 0.4820\n",
      "{'sg': 1, 'window_len': 6, 'ns_exponent': -0.26312019917859564, 'negative': 8, 'min_count': 12, 'vector_size': 128}\n"
     ]
    },
    {
     "name": "stderr",
     "output_type": "stream",
     "text": [
      "[I 2023-10-21 10:36:27,960] Trial 77 finished with value: 0.0244701536643026 and parameters: {'sg': 1, 'window': 6, 'ns_exponent': -0.26312019917859564, 'negative': 8, 'min_count': 12, 'vector_size': 128}. Best is trial 67 with value: 0.034665695710908474.\n"
     ]
    },
    {
     "name": "stdout",
     "output_type": "stream",
     "text": [
      "MAP@10 = 0.0245 Hitrate@10 = 0.4480\n",
      "{'sg': 1, 'window_len': 9, 'ns_exponent': 0.3056138885533601, 'negative': 5, 'min_count': 15, 'vector_size': 128}\n"
     ]
    },
    {
     "name": "stderr",
     "output_type": "stream",
     "text": [
      "[I 2023-10-21 10:36:30,511] Trial 78 finished with value: 0.020955673758865246 and parameters: {'sg': 1, 'window': 9, 'ns_exponent': 0.3056138885533601, 'negative': 5, 'min_count': 15, 'vector_size': 128}. Best is trial 67 with value: 0.034665695710908474.\n"
     ]
    },
    {
     "name": "stdout",
     "output_type": "stream",
     "text": [
      "MAP@10 = 0.0210 Hitrate@10 = 0.4161\n",
      "{'sg': 0, 'window_len': 8, 'ns_exponent': 0.4774820864247317, 'negative': 10, 'min_count': 18, 'vector_size': 128}\n"
     ]
    },
    {
     "name": "stderr",
     "output_type": "stream",
     "text": [
      "[I 2023-10-21 10:36:31,348] Trial 79 finished with value: 0.01399712934819318 and parameters: {'sg': 0, 'window': 8, 'ns_exponent': 0.4774820864247317, 'negative': 10, 'min_count': 18, 'vector_size': 128}. Best is trial 67 with value: 0.034665695710908474.\n"
     ]
    },
    {
     "name": "stdout",
     "output_type": "stream",
     "text": [
      "MAP@10 = 0.0140 Hitrate@10 = 0.3333\n",
      "{'sg': 1, 'window_len': 7, 'ns_exponent': 0.0802089579034597, 'negative': 9, 'min_count': 20, 'vector_size': 32}\n"
     ]
    },
    {
     "name": "stderr",
     "output_type": "stream",
     "text": [
      "[I 2023-10-21 10:36:33,987] Trial 80 finished with value: 0.03064061972306653 and parameters: {'sg': 1, 'window': 7, 'ns_exponent': 0.0802089579034597, 'negative': 9, 'min_count': 20, 'vector_size': 32}. Best is trial 67 with value: 0.034665695710908474.\n"
     ]
    },
    {
     "name": "stdout",
     "output_type": "stream",
     "text": [
      "MAP@10 = 0.0306 Hitrate@10 = 0.5096\n",
      "{'sg': 1, 'window_len': 6, 'ns_exponent': -0.044646095930997484, 'negative': 7, 'min_count': 19, 'vector_size': 128}\n"
     ]
    },
    {
     "name": "stderr",
     "output_type": "stream",
     "text": [
      "[I 2023-10-21 10:36:36,302] Trial 81 finished with value: 0.03362512664640325 and parameters: {'sg': 1, 'window': 6, 'ns_exponent': -0.044646095930997484, 'negative': 7, 'min_count': 19, 'vector_size': 128}. Best is trial 67 with value: 0.034665695710908474.\n"
     ]
    },
    {
     "name": "stdout",
     "output_type": "stream",
     "text": [
      "MAP@10 = 0.0336 Hitrate@10 = 0.5329\n",
      "{'sg': 1, 'window_len': 6, 'ns_exponent': -0.16836201837345144, 'negative': 20, 'min_count': 18, 'vector_size': 128}\n"
     ]
    },
    {
     "name": "stderr",
     "output_type": "stream",
     "text": [
      "[I 2023-10-21 10:36:41,939] Trial 82 finished with value: 0.029297661263086795 and parameters: {'sg': 1, 'window': 6, 'ns_exponent': -0.16836201837345144, 'negative': 20, 'min_count': 18, 'vector_size': 128}. Best is trial 67 with value: 0.034665695710908474.\n"
     ]
    },
    {
     "name": "stdout",
     "output_type": "stream",
     "text": [
      "MAP@10 = 0.0293 Hitrate@10 = 0.5053\n",
      "{'sg': 1, 'window_len': 6, 'ns_exponent': -0.052456071032516885, 'negative': 7, 'min_count': 1, 'vector_size': 128}\n"
     ]
    },
    {
     "name": "stderr",
     "output_type": "stream",
     "text": [
      "[I 2023-10-21 10:36:44,639] Trial 83 finished with value: 0.034088230327592034 and parameters: {'sg': 1, 'window': 6, 'ns_exponent': -0.052456071032516885, 'negative': 7, 'min_count': 1, 'vector_size': 128}. Best is trial 67 with value: 0.034665695710908474.\n"
     ]
    },
    {
     "name": "stdout",
     "output_type": "stream",
     "text": [
      "MAP@10 = 0.0341 Hitrate@10 = 0.5117\n",
      "{'sg': 1, 'window_len': 5, 'ns_exponent': -0.32796030451281244, 'negative': 7, 'min_count': 4, 'vector_size': 128}\n"
     ]
    },
    {
     "name": "stderr",
     "output_type": "stream",
     "text": [
      "[I 2023-10-21 10:36:46,901] Trial 84 finished with value: 0.0213741979061128 and parameters: {'sg': 1, 'window': 5, 'ns_exponent': -0.32796030451281244, 'negative': 7, 'min_count': 4, 'vector_size': 128}. Best is trial 67 with value: 0.034665695710908474.\n"
     ]
    },
    {
     "name": "stdout",
     "output_type": "stream",
     "text": [
      "MAP@10 = 0.0214 Hitrate@10 = 0.4140\n",
      "{'sg': 1, 'window_len': 6, 'ns_exponent': -0.5327884301857565, 'negative': 6, 'min_count': 1, 'vector_size': 128}\n"
     ]
    },
    {
     "name": "stderr",
     "output_type": "stream",
     "text": [
      "[I 2023-10-21 10:36:49,016] Trial 85 finished with value: 0.015156661600810539 and parameters: {'sg': 1, 'window': 6, 'ns_exponent': -0.5327884301857565, 'negative': 6, 'min_count': 1, 'vector_size': 128}. Best is trial 67 with value: 0.034665695710908474.\n"
     ]
    },
    {
     "name": "stdout",
     "output_type": "stream",
     "text": [
      "MAP@10 = 0.0152 Hitrate@10 = 0.3110\n",
      "{'sg': 1, 'window_len': 6, 'ns_exponent': -0.054821681467208616, 'negative': 7, 'min_count': 8, 'vector_size': 128}\n"
     ]
    },
    {
     "name": "stderr",
     "output_type": "stream",
     "text": [
      "[I 2023-10-21 10:36:51,562] Trial 86 finished with value: 0.0316347095575819 and parameters: {'sg': 1, 'window': 6, 'ns_exponent': -0.054821681467208616, 'negative': 7, 'min_count': 8, 'vector_size': 128}. Best is trial 67 with value: 0.034665695710908474.\n"
     ]
    },
    {
     "name": "stdout",
     "output_type": "stream",
     "text": [
      "MAP@10 = 0.0316 Hitrate@10 = 0.5318\n",
      "{'sg': 1, 'window_len': 9, 'ns_exponent': 0.2079989334953133, 'negative': 8, 'min_count': 6, 'vector_size': 64}\n"
     ]
    },
    {
     "name": "stderr",
     "output_type": "stream",
     "text": [
      "[I 2023-10-21 10:36:55,081] Trial 87 finished with value: 0.021772500844309355 and parameters: {'sg': 1, 'window': 9, 'ns_exponent': 0.2079989334953133, 'negative': 8, 'min_count': 6, 'vector_size': 64}. Best is trial 67 with value: 0.034665695710908474.\n"
     ]
    },
    {
     "name": "stdout",
     "output_type": "stream",
     "text": [
      "MAP@10 = 0.0218 Hitrate@10 = 0.4289\n",
      "{'sg': 1, 'window_len': 5, 'ns_exponent': -0.2217014775305034, 'negative': 18, 'min_count': 19, 'vector_size': 128}\n"
     ]
    },
    {
     "name": "stderr",
     "output_type": "stream",
     "text": [
      "[I 2023-10-21 10:36:59,584] Trial 88 finished with value: 0.025085021952043228 and parameters: {'sg': 1, 'window': 5, 'ns_exponent': -0.2217014775305034, 'negative': 18, 'min_count': 19, 'vector_size': 128}. Best is trial 67 with value: 0.034665695710908474.\n"
     ]
    },
    {
     "name": "stdout",
     "output_type": "stream",
     "text": [
      "MAP@10 = 0.0251 Hitrate@10 = 0.4650\n",
      "{'sg': 1, 'window_len': 6, 'ns_exponent': 0.39368235494987863, 'negative': 5, 'min_count': 20, 'vector_size': 128}\n"
     ]
    },
    {
     "name": "stderr",
     "output_type": "stream",
     "text": [
      "[I 2023-10-21 10:37:01,385] Trial 89 finished with value: 0.02057957615670382 and parameters: {'sg': 1, 'window': 6, 'ns_exponent': 0.39368235494987863, 'negative': 5, 'min_count': 20, 'vector_size': 128}. Best is trial 67 with value: 0.034665695710908474.\n"
     ]
    },
    {
     "name": "stdout",
     "output_type": "stream",
     "text": [
      "MAP@10 = 0.0206 Hitrate@10 = 0.3790\n",
      "{'sg': 0, 'window_len': 9, 'ns_exponent': 0.7217629591294634, 'negative': 7, 'min_count': 19, 'vector_size': 128}\n"
     ]
    },
    {
     "name": "stderr",
     "output_type": "stream",
     "text": [
      "[I 2023-10-21 10:37:02,153] Trial 90 finished with value: 0.012706813576494428 and parameters: {'sg': 0, 'window': 9, 'ns_exponent': 0.7217629591294634, 'negative': 7, 'min_count': 19, 'vector_size': 128}. Best is trial 67 with value: 0.034665695710908474.\n"
     ]
    },
    {
     "name": "stdout",
     "output_type": "stream",
     "text": [
      "MAP@10 = 0.0127 Hitrate@10 = 0.3089\n",
      "{'sg': 1, 'window_len': 7, 'ns_exponent': -0.020629396237178063, 'negative': 9, 'min_count': 17, 'vector_size': 128}\n"
     ]
    },
    {
     "name": "stderr",
     "output_type": "stream",
     "text": [
      "[I 2023-10-21 10:37:05,338] Trial 91 finished with value: 0.034732480580884836 and parameters: {'sg': 1, 'window': 7, 'ns_exponent': -0.020629396237178063, 'negative': 9, 'min_count': 17, 'vector_size': 128}. Best is trial 91 with value: 0.034732480580884836.\n"
     ]
    },
    {
     "name": "stdout",
     "output_type": "stream",
     "text": [
      "MAP@10 = 0.0347 Hitrate@10 = 0.5467\n",
      "{'sg': 1, 'window_len': 7, 'ns_exponent': -0.019107373035056704, 'negative': 8, 'min_count': 18, 'vector_size': 128}\n"
     ]
    },
    {
     "name": "stderr",
     "output_type": "stream",
     "text": [
      "[I 2023-10-21 10:37:08,203] Trial 92 finished with value: 0.032462470449172574 and parameters: {'sg': 1, 'window': 7, 'ns_exponent': -0.019107373035056704, 'negative': 8, 'min_count': 18, 'vector_size': 128}. Best is trial 91 with value: 0.034732480580884836.\n"
     ]
    },
    {
     "name": "stdout",
     "output_type": "stream",
     "text": [
      "MAP@10 = 0.0325 Hitrate@10 = 0.5308\n",
      "{'sg': 1, 'window_len': 7, 'ns_exponent': 0.2109532926246713, 'negative': 8, 'min_count': 17, 'vector_size': 128}\n"
     ]
    },
    {
     "name": "stderr",
     "output_type": "stream",
     "text": [
      "[I 2023-10-21 10:37:11,131] Trial 93 finished with value: 0.02490759034110098 and parameters: {'sg': 1, 'window': 7, 'ns_exponent': 0.2109532926246713, 'negative': 8, 'min_count': 17, 'vector_size': 128}. Best is trial 91 with value: 0.034732480580884836.\n"
     ]
    },
    {
     "name": "stdout",
     "output_type": "stream",
     "text": [
      "MAP@10 = 0.0249 Hitrate@10 = 0.4501\n",
      "{'sg': 1, 'window_len': 7, 'ns_exponent': -0.0012402059389011594, 'negative': 6, 'min_count': 18, 'vector_size': 32}\n"
     ]
    },
    {
     "name": "stderr",
     "output_type": "stream",
     "text": [
      "[I 2023-10-21 10:37:13,141] Trial 94 finished with value: 0.033022965214454574 and parameters: {'sg': 1, 'window': 7, 'ns_exponent': -0.0012402059389011594, 'negative': 6, 'min_count': 18, 'vector_size': 32}. Best is trial 91 with value: 0.034732480580884836.\n"
     ]
    },
    {
     "name": "stdout",
     "output_type": "stream",
     "text": [
      "MAP@10 = 0.0330 Hitrate@10 = 0.5340\n",
      "{'sg': 1, 'window_len': 8, 'ns_exponent': -0.16468397681103425, 'negative': 6, 'min_count': 0, 'vector_size': 32}\n"
     ]
    },
    {
     "name": "stderr",
     "output_type": "stream",
     "text": [
      "[I 2023-10-21 10:37:15,732] Trial 95 finished with value: 0.02683742823370483 and parameters: {'sg': 1, 'window': 8, 'ns_exponent': -0.16468397681103425, 'negative': 6, 'min_count': 0, 'vector_size': 32}. Best is trial 91 with value: 0.034732480580884836.\n"
     ]
    },
    {
     "name": "stdout",
     "output_type": "stream",
     "text": [
      "MAP@10 = 0.0268 Hitrate@10 = 0.4671\n",
      "{'sg': 1, 'window_len': 6, 'ns_exponent': -0.38278955965140593, 'negative': 5, 'min_count': 17, 'vector_size': 32}\n"
     ]
    },
    {
     "name": "stderr",
     "output_type": "stream",
     "text": [
      "[I 2023-10-21 10:37:17,330] Trial 96 finished with value: 0.02167869807497467 and parameters: {'sg': 1, 'window': 6, 'ns_exponent': -0.38278955965140593, 'negative': 5, 'min_count': 17, 'vector_size': 32}. Best is trial 91 with value: 0.034732480580884836.\n"
     ]
    },
    {
     "name": "stdout",
     "output_type": "stream",
     "text": [
      "MAP@10 = 0.0217 Hitrate@10 = 0.4310\n",
      "{'sg': 1, 'window_len': 7, 'ns_exponent': 0.5117105133615671, 'negative': 5, 'min_count': 10, 'vector_size': 32}\n"
     ]
    },
    {
     "name": "stderr",
     "output_type": "stream",
     "text": [
      "[I 2023-10-21 10:37:19,206] Trial 97 finished with value: 0.015501519756838906 and parameters: {'sg': 1, 'window': 7, 'ns_exponent': 0.5117105133615671, 'negative': 5, 'min_count': 10, 'vector_size': 32}. Best is trial 91 with value: 0.034732480580884836.\n"
     ]
    },
    {
     "name": "stdout",
     "output_type": "stream",
     "text": [
      "MAP@10 = 0.0155 Hitrate@10 = 0.3471\n",
      "{'sg': 1, 'window_len': 8, 'ns_exponent': 0.15214988812821462, 'negative': 7, 'min_count': 18, 'vector_size': 32}\n"
     ]
    },
    {
     "name": "stderr",
     "output_type": "stream",
     "text": [
      "[I 2023-10-21 10:37:21,885] Trial 98 finished with value: 0.028558130699088146 and parameters: {'sg': 1, 'window': 8, 'ns_exponent': 0.15214988812821462, 'negative': 7, 'min_count': 18, 'vector_size': 32}. Best is trial 91 with value: 0.034732480580884836.\n"
     ]
    },
    {
     "name": "stdout",
     "output_type": "stream",
     "text": [
      "MAP@10 = 0.0286 Hitrate@10 = 0.4915\n",
      "{'sg': 1, 'window_len': 6, 'ns_exponent': 0.3833942257883662, 'negative': 12, 'min_count': 2, 'vector_size': 32}\n"
     ]
    },
    {
     "name": "stderr",
     "output_type": "stream",
     "text": [
      "[I 2023-10-21 10:37:25,726] Trial 99 finished with value: 0.012993287740628167 and parameters: {'sg': 1, 'window': 6, 'ns_exponent': 0.3833942257883662, 'negative': 12, 'min_count': 2, 'vector_size': 32}. Best is trial 91 with value: 0.034732480580884836.\n"
     ]
    },
    {
     "name": "stdout",
     "output_type": "stream",
     "text": [
      "MAP@10 = 0.0130 Hitrate@10 = 0.3217\n"
     ]
    },
    {
     "data": {
      "text/plain": [
       "{'sg': 1,\n",
       " 'window': 7,\n",
       " 'ns_exponent': -0.020629396237178063,\n",
       " 'negative': 9,\n",
       " 'min_count': 17,\n",
       " 'vector_size': 128}"
      ]
     },
     "execution_count": 6,
     "metadata": {},
     "output_type": "execute_result"
    }
   ],
   "source": [
    "SEED = 42\n",
    "\n",
    "def set_seed(seed):\n",
    "    np.random.seed(seed)\n",
    "    random.seed(seed)\n",
    "\n",
    "def objective(trial):\n",
    "    sg = trial.suggest_categorical('sg', [0, 1])\n",
    "    window = trial.suggest_int('window', 1, 10)\n",
    "    ns_exponent = trial.suggest_float('ns_exponent', -3, 3)\n",
    "    negative = trial.suggest_int('negative', 3, 20)\n",
    "    min_count = trial.suggest_int('min_count', 0, 20)\n",
    "    vector_size = trial.suggest_categorical('vector_size', [16, 32, 64, 128])\n",
    "    \n",
    "    print({\n",
    "        'sg': sg,\n",
    "        'window_len': window,\n",
    "        'ns_exponent': ns_exponent,\n",
    "        'negative': negative,\n",
    "        'min_count': min_count,\n",
    "        'vector_size': vector_size,\n",
    "    })\n",
    "    \n",
    "    set_seed(SEED)\n",
    "    model = Word2Vec(\n",
    "        grouped_df['train_ids'].to_list(),\n",
    "        window=window,\n",
    "        sg=sg,\n",
    "        hs=0,\n",
    "        min_count=min_count,\n",
    "        vector_size=vector_size,\n",
    "        negative=negative,\n",
    "        ns_exponent=ns_exponent,\n",
    "        seed=SEED,\n",
    "        epochs=10,\n",
    "    )\n",
    "    \n",
    "    mean_ap, mean_hitrate = evaluate_model(model)\n",
    "    print(f'MAP@{TOP_K} = {mean_ap:.4f} Hitrate@{TOP_K} = {mean_hitrate:.4f}')\n",
    "    return mean_ap\n",
    "    \n",
    "    \n",
    "study = optuna.create_study(directions=('maximize',))\n",
    "study.optimize(objective, n_trials=100)\n",
    "\n",
    "study.best_params"
   ]
  },
  {
   "cell_type": "code",
   "execution_count": 7,
   "id": "07832c88",
   "metadata": {},
   "outputs": [
    {
     "name": "stdout",
     "output_type": "stream",
     "text": [
      "MAP@10 = 0.0353 Hitrate@10 = 0.5499\n"
     ]
    }
   ],
   "source": [
    "set_seed(SEED)\n",
    "model = Word2Vec(\n",
    "    grouped_df['train_ids'].to_list(),\n",
    "    **study.best_params,\n",
    "    hs=0,\n",
    "    seed=SEED,\n",
    "    epochs=50\n",
    ")\n",
    "\n",
    "hitrate_list = []\n",
    "for train_ids, y_rel in grouped_df.select('train_ids', 'test_ids').rows():\n",
    "    model_preds = model.predict_output_word(train_ids, topn=(TOP_K + len(train_ids)))\n",
    "    if model_preds is None:\n",
    "        hitrate_list.append(0)\n",
    "        continue\n",
    "        \n",
    "    y_rec = [pred[0] for pred in model_preds if pred[0] not in train_ids]\n",
    "    hitrate_list.append(user_hitrate(y_rel, y_rec))\n",
    "\n",
    "mean_ap, mean_hitrate = evaluate_model(model)\n",
    "print(f'MAP@{TOP_K} = {mean_ap:.4f} Hitrate@{TOP_K} = {mean_hitrate:.4f}')"
   ]
  },
  {
   "cell_type": "markdown",
   "id": "a0919e08",
   "metadata": {},
   "source": [
    "## Сохраним рекомендации в redis"
   ]
  },
  {
   "cell_type": "markdown",
   "id": "ae695a38",
   "metadata": {},
   "source": [
    "В реальных системах в качестве идентификаторов скорее всего будет использоваться uuid, тогда как при обучении удобно использовать представление в виде целых чисел.\n",
    "\n",
    "Одним из вариантов работы с идентификаторами является создание словарей `user_ids_mapping` и `user_ids_inverse_mapping`, где первый делает преобразование _uuid -> int_, а второй _int -> uuid_.\n",
    "\n",
    "Давайте просимулируем реальную рекомендательную систему и загрузим рекомендации в **redis**."
   ]
  },
  {
   "cell_type": "code",
   "execution_count": 8,
   "id": "31253774",
   "metadata": {
    "scrolled": true
   },
   "outputs": [],
   "source": [
    "user_ids_inverse_mapping = {k: uuid.uuid4() for k in ratings['user_id'].unique()}\n",
    "item_ids_inverse_mapping = {k: uuid.uuid4() for k in ratings['item_id'].unique()}"
   ]
  },
  {
   "cell_type": "code",
   "execution_count": 9,
   "id": "b6dab58c",
   "metadata": {
    "scrolled": true
   },
   "outputs": [],
   "source": [
    "# если redis запущен в том же окружении, то можно использовать localhost\n",
    "# иначе, измените host на ip-адресс сервера с запущенным redis\n",
    "r = redis.Redis(host='localhost', db=0)\n",
    "used_memory_before = r.info('memory')['used_memory']"
   ]
  },
  {
   "cell_type": "code",
   "execution_count": 10,
   "id": "4e7c6adb",
   "metadata": {
    "scrolled": true
   },
   "outputs": [],
   "source": [
    "TOP_K = 100  # сохраним топ-100 рекомендаций\n",
    "\n",
    "for user_id, train_ids in grouped_df.select('user_id', 'train_ids').rows():\n",
    "    model_preds = model.predict_output_word(train_ids, topn=(TOP_K + len(train_ids)))\n",
    "    if model_preds is None:\n",
    "        continue\n",
    "        \n",
    "    y_rec = [pred[0] for pred in model_preds if pred[0] not in train_ids]\n",
    "    r.rpush(\n",
    "        str(user_ids_inverse_mapping[user_id]),\n",
    "        *[str(item_ids_inverse_mapping[item_id]) for item_id in y_rec]\n",
    "    )"
   ]
  },
  {
   "cell_type": "code",
   "execution_count": 11,
   "id": "da36979b",
   "metadata": {
    "scrolled": true
   },
   "outputs": [
    {
     "data": {
      "text/plain": [
       "[b'64a78b2d-98b5-4734-a5a3-4580df5b298e',\n",
       " b'ae49927d-850e-43b2-96ef-6dfcfecb97b0',\n",
       " b'd50a1c43-1a0b-4c25-a65a-db58f3ebdf89',\n",
       " b'17189576-3284-492d-9e72-a5bda874c43a',\n",
       " b'92157072-1cd6-495d-a079-3822cbfbd26c',\n",
       " b'af769df0-4b8b-4afe-b878-82cacd978b12',\n",
       " b'e5cc28ba-b163-435a-9f84-85a5e9c1fe48',\n",
       " b'2d9ed025-4e10-4972-a43b-b7c706c0b0eb',\n",
       " b'a50a97b9-b9f2-45a0-b6d6-d3594a433a05',\n",
       " b'bf74a277-17fc-4a03-bb4c-c8d55086ad5b',\n",
       " b'd8b04319-7cfc-4492-acc8-b41f71a7d29b',\n",
       " b'bda01853-6a53-4420-8f17-a6584f4a60a0',\n",
       " b'cb2d057a-08e8-4580-a105-b5780a9aef69',\n",
       " b'bb18e13f-4f46-4a1c-8fc3-be8b2beef2b2',\n",
       " b'ab431b53-5fce-40a8-b41a-6de6e7b426af',\n",
       " b'22fb29ae-6b4e-4daf-9bf9-166210eced0f',\n",
       " b'a2eabe72-2922-4cb4-a2c3-2e88d586ae44',\n",
       " b'9f49f742-7a96-4d59-8f46-b56bc94bad73',\n",
       " b'5d53687c-1704-4a3e-a4d6-ef5016dd1871',\n",
       " b'9f34c9cc-515e-4c19-935a-dfee72e5749e',\n",
       " b'cb59cf96-f56e-4091-b3ce-b8333cdcc523',\n",
       " b'4da5b153-b211-4902-b06f-7497cd94ca09',\n",
       " b'2f287950-266c-494b-a2ee-da14775cebeb',\n",
       " b'd7ca1748-8c16-40c5-945d-663978778ef7',\n",
       " b'474bc9c3-9c6e-46e9-888b-8bff18cc6425',\n",
       " b'8e7bcd28-6b44-4ecb-97b8-7ec32875a714',\n",
       " b'eb056bee-165e-41ae-845f-badbed2f9d90',\n",
       " b'f70f92d6-2e84-4388-bc4f-afe3ad47400b',\n",
       " b'a5bd57ff-2b51-470a-bfd2-7d68164315b8',\n",
       " b'451f97c2-b3bf-4567-a738-e002588974c5',\n",
       " b'effd5415-fc40-446e-8c3c-720efc932b62',\n",
       " b'61a1ce22-3f17-47f6-a307-ccde18c9b7c7',\n",
       " b'e90121d7-8fb7-4701-88aa-9a4cfcc0d9d9',\n",
       " b'9709ea80-06cf-4673-8dbb-1704b1c42412',\n",
       " b'afa2af30-2392-4be1-bcea-767511f38531',\n",
       " b'9d8fa644-0b47-47d3-8bef-be2834ccbe9f',\n",
       " b'b827ede1-d509-4f4c-abf6-3372153ea441',\n",
       " b'3f6ce915-f5f5-40f6-a6de-b310c053b0fe',\n",
       " b'9ec013b0-a974-4216-9c32-55378f44d83b',\n",
       " b'5392f361-55c1-4d1a-bca1-0121eaac5bfc',\n",
       " b'efa75bce-7922-4be2-ae50-42fcb3406b70',\n",
       " b'efafdddc-bea4-4b46-b9a1-70ebd7cb57dd',\n",
       " b'597d4145-65f1-453e-aec4-ad4d2311c3bc',\n",
       " b'9e8853d4-fac6-415c-8cf5-560fbe2aa08a',\n",
       " b'efa8b9dd-ccc1-428e-8f9d-0841be20d77d',\n",
       " b'c7d42916-ad49-4970-a011-1929250feb4b',\n",
       " b'f1c29ed3-39be-4dd0-be8b-5ae0b809fc87',\n",
       " b'039ac3b3-bb07-44e8-9b1a-79578f1d7768',\n",
       " b'9f91a91c-a6ce-49b2-bb15-558aea585c7e',\n",
       " b'3100172f-e81c-45af-9ec0-3ffc34cfd627',\n",
       " b'2c93fcc4-558e-4dd4-b8ec-361f57060672',\n",
       " b'3f467138-0726-4a06-872f-ce6da0c3e907',\n",
       " b'ddfb0324-e179-4bc6-812c-96dbf4638791',\n",
       " b'6d66f341-7014-4351-8cf9-ea7f844c6ae4',\n",
       " b'6f99d12a-dfd9-49a8-8830-d30322bfd861',\n",
       " b'c70634ea-b60d-40ff-b2d9-5be296ec2701',\n",
       " b'2d35a91e-35aa-4ae5-819b-8bde0dc1190d',\n",
       " b'db4f06ef-dd11-4e4a-9b7f-abfdea19fa0b',\n",
       " b'fa388463-431c-4a30-973e-e2c85ca262b5',\n",
       " b'f3004f8e-9688-42a6-97ac-6b7f8cdfdc05',\n",
       " b'45adeff9-6e4e-4c97-bd89-a951f0b1a6f7',\n",
       " b'227e97d0-d557-470e-92a7-352144b051a0',\n",
       " b'155fb02e-3c55-4c84-a2cc-f93f5b14d5b6',\n",
       " b'bf946be8-0b0c-410b-bdef-223dc6886393',\n",
       " b'1fc85c71-eb87-4137-87db-bc39a00b105f',\n",
       " b'f4c182d1-fe18-412c-8b04-efcbde66b44c',\n",
       " b'240ace12-eca8-46d4-9621-bece5040b441',\n",
       " b'283e7154-d915-497a-9f45-1b54b9961027',\n",
       " b'b6d2da12-927e-47b0-846e-18a7e1d3fb0f',\n",
       " b'ef603776-e0ab-4e6b-954f-72d84e34fdbc',\n",
       " b'857c8277-6ab3-4dbc-9f9d-005f59dcfdec',\n",
       " b'91185c6c-419d-4cf1-907b-6acc1f57327f',\n",
       " b'7d183bcd-7be6-4dfc-a6d4-a3461c868dc5',\n",
       " b'e6e9a8f6-c5d5-4325-8575-e45f3c7f994c',\n",
       " b'6dc6814e-0be9-4300-ad7f-a6b296f5c66c',\n",
       " b'957280a7-38b0-466f-a446-92cce8f951f5',\n",
       " b'656773a9-6ddd-400e-80aa-045ae6d0b4ac',\n",
       " b'e84acac3-3697-4ad1-9601-c44d9f5ee61f',\n",
       " b'0493b4cd-be1d-417c-881a-cfcb5546a28d',\n",
       " b'a6c05bbd-69b1-4208-bc7d-e15c8f0fdfab',\n",
       " b'fb3a3f8c-cfbc-4b87-a3d1-531f9a2e293f',\n",
       " b'9e2ed0c5-822a-4c2d-9db8-18b663288d6e',\n",
       " b'd947a5c4-06aa-485b-ac32-5338c02502d9',\n",
       " b'ceaac2a2-8d24-47c9-a705-3239799cb1a8',\n",
       " b'db2258a4-fea2-4bb7-8e05-bbae5f5c1060',\n",
       " b'235e574f-7270-47bb-a7ee-e2645c5a9900',\n",
       " b'c023f529-bb88-49f2-8ba7-87b1ff748f45',\n",
       " b'babe8cdf-0d95-4f58-a987-5f4005291f9e',\n",
       " b'f712b3d3-fa34-412e-8a18-94ad50af1a8c',\n",
       " b'2d4fc85d-82de-44e8-9052-8b4024afb7e1',\n",
       " b'a7386738-801d-4920-a199-e35a25c78bbb',\n",
       " b'b052d50d-c474-45fb-9911-32c93027ccbd',\n",
       " b'7240540f-1094-4f97-aace-de105a7791f6',\n",
       " b'e7056dbb-e2e2-44cc-8637-11878420801b',\n",
       " b'794c9532-2082-46a6-89ed-081dc55edb47',\n",
       " b'b7956b6b-25d0-4ae1-96be-341731986fe8',\n",
       " b'4eaaffae-b2e3-4975-8ade-6cc617c03141',\n",
       " b'4207de75-79c3-49c2-aa40-681359ccbf9d',\n",
       " b'0e4a5e5e-0ae0-4d90-ab28-c6533cd37b7f',\n",
       " b'6bf816f6-be07-4abc-8b22-62357fbd7b82',\n",
       " b'e51830a7-b429-4f97-a88b-d4d35ef83d9a']"
      ]
     },
     "execution_count": 11,
     "metadata": {},
     "output_type": "execute_result"
    }
   ],
   "source": [
    "# прочитаем сохраненные рекомендации по ключу user_id\n",
    "r.lrange(str(user_ids_inverse_mapping[1]), 0, TOP_K)"
   ]
  },
  {
   "cell_type": "code",
   "execution_count": 12,
   "id": "9b3213b1",
   "metadata": {},
   "outputs": [
    {
     "data": {
      "text/plain": [
       "4764320"
      ]
     },
     "execution_count": 12,
     "metadata": {},
     "output_type": "execute_result"
    }
   ],
   "source": [
    "r.info('memory')['used_memory'] - used_memory_before"
   ]
  },
  {
   "cell_type": "markdown",
   "id": "ce0024ea",
   "metadata": {},
   "source": [
    "Потратили около 5Мб на сохранение рекомендаций"
   ]
  },
  {
   "cell_type": "code",
   "execution_count": 13,
   "id": "3bc77bd5",
   "metadata": {},
   "outputs": [],
   "source": [
    "r = redis.Redis(db=1)\n",
    "used_memory_before = r.info('memory')['used_memory']"
   ]
  },
  {
   "cell_type": "code",
   "execution_count": 14,
   "id": "6a2574db",
   "metadata": {},
   "outputs": [],
   "source": [
    "TOP_K = 100  # сохраним топ-100 рекомендаций\n",
    "\n",
    "for user_id, train_ids in grouped_df.select('user_id', 'train_ids').rows():\n",
    "    model_preds = model.predict_output_word(train_ids, topn=(TOP_K + len(train_ids)))\n",
    "    if model_preds is None:\n",
    "        continue\n",
    "        \n",
    "    y_rec = [pred[0] for pred in model_preds if pred[0] not in train_ids]\n",
    "    r.rpush(\n",
    "        user_ids_inverse_mapping[user_id].bytes,\n",
    "        *[item_ids_inverse_mapping[item_id].bytes for item_id in y_rec]\n",
    "    )"
   ]
  },
  {
   "cell_type": "code",
   "execution_count": 15,
   "id": "9bca08cb",
   "metadata": {
    "scrolled": true
   },
   "outputs": [
    {
     "data": {
      "text/plain": [
       "[UUID('64a78b2d-98b5-4734-a5a3-4580df5b298e'),\n",
       " UUID('ae49927d-850e-43b2-96ef-6dfcfecb97b0'),\n",
       " UUID('d50a1c43-1a0b-4c25-a65a-db58f3ebdf89'),\n",
       " UUID('17189576-3284-492d-9e72-a5bda874c43a'),\n",
       " UUID('92157072-1cd6-495d-a079-3822cbfbd26c'),\n",
       " UUID('af769df0-4b8b-4afe-b878-82cacd978b12'),\n",
       " UUID('e5cc28ba-b163-435a-9f84-85a5e9c1fe48'),\n",
       " UUID('2d9ed025-4e10-4972-a43b-b7c706c0b0eb'),\n",
       " UUID('a50a97b9-b9f2-45a0-b6d6-d3594a433a05'),\n",
       " UUID('bf74a277-17fc-4a03-bb4c-c8d55086ad5b'),\n",
       " UUID('d8b04319-7cfc-4492-acc8-b41f71a7d29b'),\n",
       " UUID('bda01853-6a53-4420-8f17-a6584f4a60a0'),\n",
       " UUID('cb2d057a-08e8-4580-a105-b5780a9aef69'),\n",
       " UUID('bb18e13f-4f46-4a1c-8fc3-be8b2beef2b2'),\n",
       " UUID('ab431b53-5fce-40a8-b41a-6de6e7b426af'),\n",
       " UUID('22fb29ae-6b4e-4daf-9bf9-166210eced0f'),\n",
       " UUID('a2eabe72-2922-4cb4-a2c3-2e88d586ae44'),\n",
       " UUID('9f49f742-7a96-4d59-8f46-b56bc94bad73'),\n",
       " UUID('5d53687c-1704-4a3e-a4d6-ef5016dd1871'),\n",
       " UUID('9f34c9cc-515e-4c19-935a-dfee72e5749e'),\n",
       " UUID('cb59cf96-f56e-4091-b3ce-b8333cdcc523'),\n",
       " UUID('4da5b153-b211-4902-b06f-7497cd94ca09'),\n",
       " UUID('2f287950-266c-494b-a2ee-da14775cebeb'),\n",
       " UUID('d7ca1748-8c16-40c5-945d-663978778ef7'),\n",
       " UUID('474bc9c3-9c6e-46e9-888b-8bff18cc6425'),\n",
       " UUID('8e7bcd28-6b44-4ecb-97b8-7ec32875a714'),\n",
       " UUID('eb056bee-165e-41ae-845f-badbed2f9d90'),\n",
       " UUID('f70f92d6-2e84-4388-bc4f-afe3ad47400b'),\n",
       " UUID('a5bd57ff-2b51-470a-bfd2-7d68164315b8'),\n",
       " UUID('451f97c2-b3bf-4567-a738-e002588974c5'),\n",
       " UUID('effd5415-fc40-446e-8c3c-720efc932b62'),\n",
       " UUID('61a1ce22-3f17-47f6-a307-ccde18c9b7c7'),\n",
       " UUID('e90121d7-8fb7-4701-88aa-9a4cfcc0d9d9'),\n",
       " UUID('9709ea80-06cf-4673-8dbb-1704b1c42412'),\n",
       " UUID('afa2af30-2392-4be1-bcea-767511f38531'),\n",
       " UUID('9d8fa644-0b47-47d3-8bef-be2834ccbe9f'),\n",
       " UUID('b827ede1-d509-4f4c-abf6-3372153ea441'),\n",
       " UUID('3f6ce915-f5f5-40f6-a6de-b310c053b0fe'),\n",
       " UUID('9ec013b0-a974-4216-9c32-55378f44d83b'),\n",
       " UUID('5392f361-55c1-4d1a-bca1-0121eaac5bfc'),\n",
       " UUID('efa75bce-7922-4be2-ae50-42fcb3406b70'),\n",
       " UUID('efafdddc-bea4-4b46-b9a1-70ebd7cb57dd'),\n",
       " UUID('597d4145-65f1-453e-aec4-ad4d2311c3bc'),\n",
       " UUID('9e8853d4-fac6-415c-8cf5-560fbe2aa08a'),\n",
       " UUID('efa8b9dd-ccc1-428e-8f9d-0841be20d77d'),\n",
       " UUID('c7d42916-ad49-4970-a011-1929250feb4b'),\n",
       " UUID('f1c29ed3-39be-4dd0-be8b-5ae0b809fc87'),\n",
       " UUID('039ac3b3-bb07-44e8-9b1a-79578f1d7768'),\n",
       " UUID('9f91a91c-a6ce-49b2-bb15-558aea585c7e'),\n",
       " UUID('3100172f-e81c-45af-9ec0-3ffc34cfd627'),\n",
       " UUID('2c93fcc4-558e-4dd4-b8ec-361f57060672'),\n",
       " UUID('3f467138-0726-4a06-872f-ce6da0c3e907'),\n",
       " UUID('ddfb0324-e179-4bc6-812c-96dbf4638791'),\n",
       " UUID('6d66f341-7014-4351-8cf9-ea7f844c6ae4'),\n",
       " UUID('6f99d12a-dfd9-49a8-8830-d30322bfd861'),\n",
       " UUID('c70634ea-b60d-40ff-b2d9-5be296ec2701'),\n",
       " UUID('2d35a91e-35aa-4ae5-819b-8bde0dc1190d'),\n",
       " UUID('db4f06ef-dd11-4e4a-9b7f-abfdea19fa0b'),\n",
       " UUID('fa388463-431c-4a30-973e-e2c85ca262b5'),\n",
       " UUID('f3004f8e-9688-42a6-97ac-6b7f8cdfdc05'),\n",
       " UUID('45adeff9-6e4e-4c97-bd89-a951f0b1a6f7'),\n",
       " UUID('227e97d0-d557-470e-92a7-352144b051a0'),\n",
       " UUID('155fb02e-3c55-4c84-a2cc-f93f5b14d5b6'),\n",
       " UUID('bf946be8-0b0c-410b-bdef-223dc6886393'),\n",
       " UUID('1fc85c71-eb87-4137-87db-bc39a00b105f'),\n",
       " UUID('f4c182d1-fe18-412c-8b04-efcbde66b44c'),\n",
       " UUID('240ace12-eca8-46d4-9621-bece5040b441'),\n",
       " UUID('283e7154-d915-497a-9f45-1b54b9961027'),\n",
       " UUID('b6d2da12-927e-47b0-846e-18a7e1d3fb0f'),\n",
       " UUID('ef603776-e0ab-4e6b-954f-72d84e34fdbc'),\n",
       " UUID('857c8277-6ab3-4dbc-9f9d-005f59dcfdec'),\n",
       " UUID('91185c6c-419d-4cf1-907b-6acc1f57327f'),\n",
       " UUID('7d183bcd-7be6-4dfc-a6d4-a3461c868dc5'),\n",
       " UUID('e6e9a8f6-c5d5-4325-8575-e45f3c7f994c'),\n",
       " UUID('6dc6814e-0be9-4300-ad7f-a6b296f5c66c'),\n",
       " UUID('957280a7-38b0-466f-a446-92cce8f951f5'),\n",
       " UUID('656773a9-6ddd-400e-80aa-045ae6d0b4ac'),\n",
       " UUID('e84acac3-3697-4ad1-9601-c44d9f5ee61f'),\n",
       " UUID('0493b4cd-be1d-417c-881a-cfcb5546a28d'),\n",
       " UUID('a6c05bbd-69b1-4208-bc7d-e15c8f0fdfab'),\n",
       " UUID('fb3a3f8c-cfbc-4b87-a3d1-531f9a2e293f'),\n",
       " UUID('9e2ed0c5-822a-4c2d-9db8-18b663288d6e'),\n",
       " UUID('d947a5c4-06aa-485b-ac32-5338c02502d9'),\n",
       " UUID('ceaac2a2-8d24-47c9-a705-3239799cb1a8'),\n",
       " UUID('db2258a4-fea2-4bb7-8e05-bbae5f5c1060'),\n",
       " UUID('235e574f-7270-47bb-a7ee-e2645c5a9900'),\n",
       " UUID('c023f529-bb88-49f2-8ba7-87b1ff748f45'),\n",
       " UUID('babe8cdf-0d95-4f58-a987-5f4005291f9e'),\n",
       " UUID('f712b3d3-fa34-412e-8a18-94ad50af1a8c'),\n",
       " UUID('2d4fc85d-82de-44e8-9052-8b4024afb7e1'),\n",
       " UUID('a7386738-801d-4920-a199-e35a25c78bbb'),\n",
       " UUID('b052d50d-c474-45fb-9911-32c93027ccbd'),\n",
       " UUID('7240540f-1094-4f97-aace-de105a7791f6'),\n",
       " UUID('e7056dbb-e2e2-44cc-8637-11878420801b'),\n",
       " UUID('794c9532-2082-46a6-89ed-081dc55edb47'),\n",
       " UUID('b7956b6b-25d0-4ae1-96be-341731986fe8'),\n",
       " UUID('4eaaffae-b2e3-4975-8ade-6cc617c03141'),\n",
       " UUID('4207de75-79c3-49c2-aa40-681359ccbf9d'),\n",
       " UUID('0e4a5e5e-0ae0-4d90-ab28-c6533cd37b7f'),\n",
       " UUID('6bf816f6-be07-4abc-8b22-62357fbd7b82'),\n",
       " UUID('e51830a7-b429-4f97-a88b-d4d35ef83d9a')]"
      ]
     },
     "execution_count": 15,
     "metadata": {},
     "output_type": "execute_result"
    }
   ],
   "source": [
    "# прочитаем сохраненные рекомендации по ключу user_id\n",
    "# для этого сначала преобразуем user_uuid в байты, а затем байты в item_uuid\n",
    "[\n",
    "    uuid.UUID(bytes=item_id_bytes, version=4)\n",
    "    for item_id_bytes in r.lrange(user_ids_inverse_mapping[1].bytes, 0, TOP_K)\n",
    "]"
   ]
  },
  {
   "cell_type": "code",
   "execution_count": 16,
   "id": "5484b62e",
   "metadata": {},
   "outputs": [
    {
     "data": {
      "text/plain": [
       "2277120"
      ]
     },
     "execution_count": 16,
     "metadata": {},
     "output_type": "execute_result"
    }
   ],
   "source": [
    "r.info('memory')['used_memory'] - used_memory_before"
   ]
  },
  {
   "cell_type": "markdown",
   "id": "296e8b47",
   "metadata": {},
   "source": [
    "Потратили в 2 раза меньше памяти для сохранения рекомендаций 🎉🎉"
   ]
  },
  {
   "cell_type": "code",
   "execution_count": null,
   "id": "9e882129-55ea-4edd-b8ae-61521b93c0a3",
   "metadata": {},
   "outputs": [],
   "source": []
  },
  {
   "cell_type": "code",
   "execution_count": null,
   "id": "a2902eb7-a82d-446d-9940-3148b5f333b0",
   "metadata": {},
   "outputs": [],
   "source": []
  }
 ],
 "metadata": {
  "kernelspec": {
   "display_name": "Python 3 (ipykernel)",
   "language": "python",
   "name": "python3"
  },
  "language_info": {
   "codemirror_mode": {
    "name": "ipython",
    "version": 3
   },
   "file_extension": ".py",
   "mimetype": "text/x-python",
   "name": "python",
   "nbconvert_exporter": "python",
   "pygments_lexer": "ipython3",
   "version": "3.10.12"
  }
 },
 "nbformat": 4,
 "nbformat_minor": 5
}
